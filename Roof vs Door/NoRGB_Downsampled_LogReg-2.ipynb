{
 "cells": [
  {
   "cell_type": "markdown",
   "source": "Logistic Regression on Building_01 Data from T_315500_234500_NW.bin\n",
   "metadata": {
    "tags": [],
    "cell_id": "00000-0619669d-e937-4642-a648-774852d9be74",
    "deepnote_cell_type": "markdown"
   }
  },
  {
   "cell_type": "code",
   "metadata": {
    "tags": [],
    "deepnote_to_be_reexecuted": false,
    "source_hash": "8666179d",
    "execution_millis": 1585,
    "cell_id": "00001-56a83fab-6835-4a03-b3a2-c4b36acda853",
    "execution_start": 1617733155736,
    "deepnote_cell_type": "code"
   },
   "source": "# Import Important Libraries\nfrom sklearn.linear_model import LogisticRegression # importing Sklearn's logistic regression's module\nfrom sklearn import preprocessing, linear_model # preprossing is what we do with the data before we run the learning algorithm\nfrom sklearn.model_selection import train_test_split \nfrom sklearn.metrics import accuracy_score, precision_recall_fscore_support # \nimport numpy as np\nimport pandas as pd\nfrom sklearn.metrics import plot_confusion_matrix\nimport matplotlib.pyplot as plt\n",
   "execution_count": null,
   "outputs": []
  },
  {
   "cell_type": "code",
   "metadata": {
    "tags": [],
    "deepnote_to_be_reexecuted": false,
    "source_hash": "8316b787",
    "execution_millis": 88,
    "cell_id": "00002-f83532c3-b3ab-4ac9-9af4-71bdf761bac0",
    "execution_start": 1617733157322,
    "deepnote_cell_type": "code"
   },
   "source": "#Reading CSV File, Building_01, which is actually building_0000 \ncolsRemove= ['R','B','G']\ndf = pd.read_csv('117_roofDoors_Equal.txt', sep= \"\\t\", header=0, names = ['X','Y','Z','R','B','G','Point_Source_ID','Scan_Angle_Rank','Flightline_Edge','Scan_Direction','Number_of_Returns','Return_Number','Time','Intensity','Classification','Type']).drop(colsRemove, axis = 'columns')\n#df1 = df.dropna() \n#df2 = df1.values\n\n#print(df)\n#print(df2[:, 15])\nfrom sklearn.utils import resample \ndf_majority = df[df.Type == 'door']\ndf_minority = df[df.Type == 'roof'] \n\n#print(df_majority)\n#upsampling majority class \n\ndf_minority_upsampled = resample(df_minority, replace = True, n_samples = 13849, random_state=123)\ndf_upsampled = pd.concat([df_majority, df_minority_upsampled])\n\n#display class counts \ndf_upsampled.Type.value_counts()\n#df.Type.value_counts()\n#print(df.shape)\n#print(df)",
   "execution_count": null,
   "outputs": [
    {
     "output_type": "execute_result",
     "execution_count": 2,
     "data": {
      "text/plain": "roof    13849\ndoor    13849\nName: Type, dtype: int64"
     },
     "metadata": {}
    }
   ]
  },
  {
   "cell_type": "code",
   "metadata": {
    "tags": [],
    "deepnote_to_be_reexecuted": false,
    "source_hash": "500e62b9",
    "execution_millis": 52,
    "cell_id": "00003-2ce567e5-b327-45c5-9e00-05ec424dd3fa",
    "execution_start": 1617733157385,
    "deepnote_cell_type": "code"
   },
   "source": "'''\n#Reading CSV File #1 \ncolsRemove= ['R','B','G']\ndf_a = pd.read_csv('building_117_roof_01_door01_modified.csv',sep = ',',header=0, names = ['X','Y','Z','R','B','G','Point_Source_ID','Scan_Angle_Rank','Flightline_Edge','Scan_Direction','Number_of_Returns','Return_Number','Time','Intensity','Classification','Type']).drop(colsRemove, axis = 'columns')\ndf_a1 = df_a.dropna() \ndf_a2 = df_a1.values\nprint(df_a2.shape)\nprint(df_a)\n'''\n",
   "execution_count": null,
   "outputs": [
    {
     "output_type": "execute_result",
     "execution_count": 3,
     "data": {
      "text/plain": "\"\\n#Reading CSV File #1 \\ncolsRemove= ['R','B','G']\\ndf_a = pd.read_csv('building_117_roof_01_door01_modified.csv',sep = ',',header=0, names = ['X','Y','Z','R','B','G','Point_Source_ID','Scan_Angle_Rank','Flightline_Edge','Scan_Direction','Number_of_Returns','Return_Number','Time','Intensity','Classification','Type']).drop(colsRemove, axis = 'columns')\\ndf_a1 = df_a.dropna() \\ndf_a2 = df_a1.values\\nprint(df_a2.shape)\\nprint(df_a)\\n\""
     },
     "metadata": {}
    }
   ]
  },
  {
   "cell_type": "code",
   "metadata": {
    "tags": [],
    "deepnote_to_be_reexecuted": false,
    "source_hash": "5c93f071",
    "execution_millis": 24,
    "cell_id": "00004-83967214-c950-4358-8311-17d42be8102e",
    "execution_start": 1617733157413,
    "deepnote_cell_type": "code"
   },
   "source": "'''\n#Checking to see if everything is working \n#df.info()\n#df.head(3)\n#classifier_count = df['Classification'].value_counts().to_frame()\n#classifier_count.head(2)\n\ndf_a.info()\n#df_a.head(3)\n#print(df['Z'])\n'''",
   "execution_count": null,
   "outputs": [
    {
     "output_type": "execute_result",
     "execution_count": 4,
     "data": {
      "text/plain": "\"\\n#Checking to see if everything is working \\n#df.info()\\n#df.head(3)\\n#classifier_count = df['Classification'].value_counts().to_frame()\\n#classifier_count.head(2)\\n\\ndf_a.info()\\n#df_a.head(3)\\n#print(df['Z'])\\n\""
     },
     "metadata": {}
    }
   ]
  },
  {
   "cell_type": "code",
   "metadata": {
    "tags": [],
    "deepnote_to_be_reexecuted": false,
    "source_hash": "23530e93",
    "execution_millis": 27,
    "cell_id": "00005-41ba0dfc-56a3-485b-98d6-6a2e4212e75a",
    "execution_start": 1617733157414,
    "deepnote_cell_type": "code"
   },
   "source": "#without upsampling\n#I will use all the attributes (building_000000 CSV)\n#x = df2[:, :14] \n#y = df2[:, 14]\n\n#with upsampling \nx = df_upsampled.drop('Type', axis = 1)\nprint(x)\ny = df_upsampled.Type\nprint(y)\nprint(x.shape,y.shape)",
   "execution_count": null,
   "outputs": [
    {
     "name": "stdout",
     "text": "                 X            Y          Z  Point_Source_ID  Scan_Angle_Rank  \\\n17800  315722.7850  234775.4302   8.279000               13               -5   \n17801  315721.8030  234778.2720   5.721000               14               12   \n17802  315721.7820  234778.2739   6.445000               14               12   \n17803  315721.9170  234778.3799   5.669000               14               12   \n17804  315721.5330  234778.0928   8.401000               14               12   \n...            ...          ...        ...              ...              ...   \n4817   315994.1400  234685.1221  17.209000               12                2   \n168    315995.2490  234680.9282  16.434000               11              -18   \n10394  315991.9100  234681.7749  17.403999               24               -8   \n10815  315990.6021  234686.9019  17.417000               24               -7   \n13177  315995.3900  234687.0991  16.792999               24               -8   \n\n       Flightline_Edge  Scan_Direction  Number_of_Returns  Return_Number  \\\n17800                0               1                  3              3   \n17801                0               1                  1              1   \n17802                0               1                  2              1   \n17803                0               1                  2              2   \n17804                0               1                  1              1   \n...                ...             ...                ...            ...   \n4817                 0               1                  1              1   \n168                  0               1                  1              1   \n10394                0               1                  1              1   \n10815                0               1                  1              1   \n13177                0               1                  1              1   \n\n              Time  Intensity  Classification  \n17800  392483.3890         33               2  \n17801  392773.3777        126               4  \n17802  392773.3777         42               4  \n17803  392773.3777         42               2  \n17804  392773.3777        292               4  \n...            ...        ...             ...  \n4817   392176.3702        106               2  \n168    391879.0970         47               2  \n10394  399144.6653         70               2  \n10815  399144.6096        241               2  \n13177  399144.3284        150               4  \n\n[27698 rows x 12 columns]\n17800    door\n17801    door\n17802    door\n17803    door\n17804    door\n         ... \n4817     roof\n168      roof\n10394    roof\n10815    roof\n13177    roof\nName: Type, Length: 27698, dtype: object\n(27698, 12) (27698,)\n",
     "output_type": "stream"
    }
   ]
  },
  {
   "cell_type": "code",
   "metadata": {
    "tags": [],
    "deepnote_to_be_reexecuted": false,
    "source_hash": "f9388c05",
    "execution_millis": 57,
    "cell_id": "00006-55c47437-dea4-4777-b4e7-3539361eec3b",
    "execution_start": 1617733253511,
    "deepnote_cell_type": "code"
   },
   "source": "\n#Reading CSV File #2 \ncolsRemove= ['R','B','G']\ndf_a = pd.read_csv('building_02_roof_doors.csv',sep = ',',header = 0,names = ['X','Y','Z','R','B','G','Point_Source_ID','Scan_Angle_Rank','Flightline_Edge','Scan_Direction','Number_of_Returns','Return_Number','Time','Intensity','Classification','Type']).drop(colsRemove, axis='columns')\n#df_a1 = df_a.dropna() \n#df_a2 = df_a1.values\n#print(df_a2.shape)\ndf_a.Type.value_counts()\n",
   "execution_count": null,
   "outputs": [
    {
     "output_type": "execute_result",
     "execution_count": 18,
     "data": {
      "text/plain": "roof    57636\ndoor      739\nName: Type, dtype: int64"
     },
     "metadata": {}
    }
   ]
  },
  {
   "cell_type": "code",
   "metadata": {
    "tags": [],
    "cell_id": "00007-5334e927-d6f2-429e-a94f-38918c416bd3",
    "deepnote_to_be_reexecuted": false,
    "source_hash": "cc504c67",
    "execution_millis": 26,
    "execution_start": 1617733258451,
    "deepnote_cell_type": "code"
   },
   "source": "#going to try some downsampling on the roofs\nfrom sklearn.utils import resample \ndf_majority2 = df_a[df_a.Type == 'door']\ndf_minority2 = df_a[df_a.Type == 'roof'] \n#\n#print(df_majority)\n#upsampling majority class \n\ndf_minority_downsampled2 = resample(df_minority2, replace = True, n_samples = 739, random_state=123)\ndf_downsampled2 = pd.concat([df_majority2, df_minority_downsampled2])\n\n#display class counts \ndf_downsampled2.Type.value_counts()\n#df.Type.value_counts()\n#print(df.shape)\n#print(df)\n\nx1 = df_downsampled2.drop('Type', axis = 1)\n#print(x1)\ny1 = df_downsampled2.Type\n#print(y1)\nprint(x1.shape,y1.shape)",
   "execution_count": null,
   "outputs": [
    {
     "name": "stdout",
     "text": "(1478, 12) (1478,)\n",
     "output_type": "stream"
    }
   ]
  },
  {
   "cell_type": "code",
   "metadata": {
    "tags": [],
    "deepnote_to_be_reexecuted": false,
    "source_hash": "975e09e7",
    "execution_millis": 4,
    "cell_id": "00007-3f9a889f-b58f-4dc0-8bcf-e20a0f354769",
    "execution_start": 1617733259811,
    "deepnote_cell_type": "code"
   },
   "source": "#For building 02\n#x1 = df_a2[:, :12]\n#y1 = df_a2[:, 12] \n#print(x1)\n#print(y1)",
   "execution_count": null,
   "outputs": []
  },
  {
   "cell_type": "code",
   "metadata": {
    "tags": [],
    "deepnote_to_be_reexecuted": false,
    "source_hash": "7681eb81",
    "execution_millis": 92,
    "cell_id": "00008-3a00ee06-2409-4e81-9722-42637f6ab3d1",
    "execution_start": 1617733265826,
    "deepnote_cell_type": "code"
   },
   "source": "#Train/Test Split\n#print(x)\nx_scaled = preprocessing.scale(x)\n#print(x_scaled)\n#with scaling \nx_train, x_test, y_train, y_test = train_test_split(x_scaled, y, test_size = 0.25, train_size = 0.75)\n\n#without scaling \n#x_train, x_test, y_train, y_test = train_test_split(x, y, test_size = 0.99, train_size = 0.01)\n\n#Making sure that \ny_train=y_train.astype('str')\ny_test = y_test.astype('str')\nprint(x_train.shape, x_test.shape)\nprint(y_train)\nprint(x_train)",
   "execution_count": null,
   "outputs": [
    {
     "name": "stdout",
     "text": "(20773, 12) (6925, 12)\n25744    door\n28120    door\n3447     roof\n14198    roof\n28008    door\n         ... \n18510    door\n428      roof\n20382    door\n31431    door\n1758     roof\nName: Type, Length: 20773, dtype: object\n[[-0.47  2.92 -0.88 ... -0.87 -0.68  1.59]\n [-0.62  0.77 -1.23 ... -0.57 -0.83 -0.63]\n [ 0.96 -0.89  0.97 ... -0.78 -0.48 -0.63]\n ...\n [-1.31  0.5  -1.03 ...  0.25 -0.17  1.59]\n [-0.46  0.74 -0.89 ...  0.24  0.81  1.59]\n [ 0.96 -0.8   1.06 ... -0.88  0.65  1.59]]\n",
     "output_type": "stream"
    }
   ]
  },
  {
   "cell_type": "code",
   "metadata": {
    "tags": [],
    "deepnote_to_be_reexecuted": false,
    "source_hash": "c5be956f",
    "execution_millis": 367,
    "cell_id": "00009-31eddba4-1f95-4cc1-8dd6-6522a4abbdd9",
    "execution_start": 1617733275091,
    "deepnote_cell_type": "code"
   },
   "source": "#Logistic Regression \nlogreg = LogisticRegression(C=0.0001).fit(x_train,y_train)\nyhat_train = logreg.predict(x_train)\nprint(np.unique(yhat_train))\naccuracy_train = accuracy_score(y_train, yhat_train)\nprint(\"Accuracy for Train Data:\",accuracy_train)\n\nyhat_test = logreg.predict(x_test)\naccuracy_test = accuracy_score(y_test, yhat_test)\nprint(\"Accuracy for Test Data:\",accuracy_test)",
   "execution_count": null,
   "outputs": [
    {
     "name": "stdout",
     "text": "['door' 'roof']\nAccuracy for Train Data: 0.995667452943725\nAccuracy for Test Data: 0.995956678700361\n",
     "output_type": "stream"
    }
   ]
  },
  {
   "cell_type": "code",
   "metadata": {
    "tags": [],
    "deepnote_to_be_reexecuted": false,
    "source_hash": "652c4227",
    "execution_millis": 690,
    "cell_id": "00010-88e50a2f-5d00-47a9-acf8-d660fdfa8c03",
    "execution_start": 1617733684849,
    "deepnote_cell_type": "code"
   },
   "source": "#confusion matrices\nnp.set_printoptions(precision=2)\nclass_names = ['door','roof']\nclassifier = linear_model.LogisticRegression(C=10**-5).fit(x_train,y_train)\n\n# Plot non-normalized confusion matrix\ntitles_options = [(\"Confusion matrix, without normalization\", None),\n                  (\"Normalized confusion matrix\", 'true')]\nfor title, normalize in titles_options:\n    disp = plot_confusion_matrix(classifier, x_test, y_test,\n                                 display_labels=class_names,\n                                 cmap=plt.cm.Blues,\n                                 normalize=normalize)\n    disp.ax_.set_title(title)\n\n    print(title)\n    print(disp.confusion_matrix)\n\nplt.show()",
   "execution_count": null,
   "outputs": [
    {
     "name": "stdout",
     "text": "Confusion matrix, without normalization\n[[3411   31]\n [   3 3480]]\nNormalized confusion matrix\n[[9.91e-01 9.01e-03]\n [8.61e-04 9.99e-01]]\n",
     "output_type": "stream"
    },
    {
     "data": {
      "text/plain": "<Figure size 432x288 with 2 Axes>",
      "image/png": "[encoded data removed]"
     },
     "metadata": {
      "needs_background": "light",
      "image/png": {
       "width": 335,
       "height": 278
      }
     },
     "output_type": "display_data"
    },
    {
     "data": {
      "text/plain": "<Figure size 432x288 with 2 Axes>",
      "image/png": "[encoded data removed]"
     },
     "metadata": {
      "needs_background": "light",
      "image/png": {
       "width": 325,
       "height": 278
      }
     },
     "output_type": "display_data"
    }
   ]
  },
  {
   "cell_type": "code",
   "metadata": {
    "tags": [],
    "deepnote_to_be_reexecuted": false,
    "source_hash": "f56b591f",
    "execution_millis": 110,
    "cell_id": "00011-745e760b-1b8f-44dc-9740-25c902bc8066",
    "execution_start": 1617733595700,
    "deepnote_cell_type": "code"
   },
   "source": "#reading door/roof csv mixed \n#print(x1)\nyhat_building02 = logreg.predict(x1)\nprint(yhat_building02)\nprint(np.unique(yhat_building02))\naccuracy_b02 = accuracy_score(y1, yhat_building02)\nprint(\"Accuracy for Data:\",accuracy_b02)",
   "execution_count": null,
   "outputs": [
    {
     "name": "stdout",
     "text": "['roof' 'roof' 'roof' ... 'roof' 'roof' 'roof']\n['roof']\nAccuracy for Data: 0.5\n",
     "output_type": "stream"
    }
   ]
  },
  {
   "cell_type": "code",
   "metadata": {
    "tags": [],
    "deepnote_to_be_reexecuted": false,
    "source_hash": "30765479",
    "execution_millis": 21,
    "cell_id": "00012-1adf8f73-e5a4-4b4f-8a16-03b22462f1c2",
    "execution_start": 1617733598858,
    "deepnote_cell_type": "code"
   },
   "source": "\n#Reading Door CSV File \ncolsRemove= ['R','B','G']\ndf_b = pd.read_csv('building_02_doors_combined_234500_NW.csv',sep = ',',header = 0,names = ['X','Y','Z','R','B','G','Point_Source_ID','Scan_Angle_Rank','Flightline_Edge','Scan_Direction','Number_of_Returns','Return_Number','Time','Intensity','Classification','Type']).drop(colsRemove, axis='columns')\ndf_b1 = df_b.dropna() \ndf_b2 = df_b1.values\nprint(df_b2.shape)\nx2 = df_b2[:, :12]\ny2 = df_b2[:, 12] \nprint(x2)\nyhat_building03 = logreg.predict(x2)\n#print(yhat_building03)\nprint(np.unique(yhat_building03))\naccuracy_b03 = accuracy_score(y2, yhat_building03)\nprint(\"Accuracy for Data:\",accuracy_b03)\n",
   "execution_count": null,
   "outputs": [
    {
     "name": "stdout",
     "text": "(739, 13)\n[[315718.655 234793.021 7.99700022 ... 392193.1866 135 4]\n [315718.719 234793.0811 7.78999996 ... 392193.1866 140 4]\n [315718.812 234793.1812 7.75899982 ... 392193.1867 51 4]\n ...\n [315730.537 234790.8491 6.1420002 ... 394844.7917 181 4]\n [315729.588 234792.083 7.08599997 ... 395108.2966 11 4]\n [315729.582 234792.1299 7.62400007 ... 395108.2966 17 4]]\n['roof']\nAccuracy for Data: 0.0\n",
     "output_type": "stream"
    }
   ]
  },
  {
   "cell_type": "code",
   "metadata": {
    "tags": [],
    "deepnote_to_be_reexecuted": false,
    "source_hash": "6fc6d3b1",
    "execution_millis": 89,
    "cell_id": "00013-ab0190e5-bc3b-498a-8ddc-b03eae3baf57",
    "execution_start": 1617733158874,
    "deepnote_cell_type": "code"
   },
   "source": "'''\n#Logistic Regression \nlogreg = linear_model.LogisticRegression(C=10**8) #using a large c value = no regularization\nlogreg.fit(x_train, y_train)\nyhat_train = logreg.predict(x_train)\n#print(yhat_train)\n\n#finding accuracy of applying model on training data\naccuracy_train = accuracy_score(y_train, yhat_train)\nprint(\"Accuracy on train set:\",accuracy_train)\n\n#finding accuracy of applying model on test data \nyhat_test = logreg.predict(x_test)\n#print(yhat_test)\naccuracy_test = accuracy_score(y_test, yhat_test)\nprint(\"Accuracy on test set:\",accuracy_test)\n'''",
   "execution_count": null,
   "outputs": [
    {
     "output_type": "execute_result",
     "execution_count": 14,
     "data": {
      "text/plain": "'\\n#Logistic Regression \\nlogreg = linear_model.LogisticRegression(C=10**8) #using a large c value = no regularization\\nlogreg.fit(x_train, y_train)\\nyhat_train = logreg.predict(x_train)\\n#print(yhat_train)\\n\\n#finding accuracy of applying model on training data\\naccuracy_train = accuracy_score(y_train, yhat_train)\\nprint(\"Accuracy on train set:\",accuracy_train)\\n\\n#finding accuracy of applying model on test data \\nyhat_test = logreg.predict(x_test)\\n#print(yhat_test)\\naccuracy_test = accuracy_score(y_test, yhat_test)\\nprint(\"Accuracy on test set:\",accuracy_test)\\n'"
     },
     "metadata": {}
    }
   ]
  },
  {
   "cell_type": "code",
   "metadata": {
    "tags": [],
    "deepnote_to_be_reexecuted": false,
    "source_hash": "f60813cb",
    "execution_millis": 88,
    "cell_id": "00014-ed7e5af2-3e59-40ec-98f5-012b953a0946",
    "execution_start": 1617733158875,
    "deepnote_cell_type": "code"
   },
   "source": "'''\n#finding accuracy of applying model to a different building \nyhat_building_000001 = logreg.predict(x1)\nprint(yhat_building_000001)\naccuracy_building_000001 = accuracy_score(y1, yhat_building_000001)\nprint(\"Accuracy on a different building (01):\",accuracy_building_000001)\n'''",
   "execution_count": null,
   "outputs": [
    {
     "output_type": "execute_result",
     "execution_count": 15,
     "data": {
      "text/plain": "'\\n#finding accuracy of applying model to a different building \\nyhat_building_000001 = logreg.predict(x1)\\nprint(yhat_building_000001)\\naccuracy_building_000001 = accuracy_score(y1, yhat_building_000001)\\nprint(\"Accuracy on a different building (01):\",accuracy_building_000001)\\n'"
     },
     "metadata": {}
    }
   ]
  },
  {
   "cell_type": "code",
   "metadata": {
    "tags": [],
    "deepnote_to_be_reexecuted": false,
    "source_hash": "dabcbd69",
    "execution_millis": 231,
    "cell_id": "00015-709c65da-dd9d-4010-9985-1363081f7118",
    "execution_start": 1617733158876,
    "deepnote_cell_type": "code"
   },
   "source": "#Model Parameters (w/o Regularization)\nw = logreg.coef_ \nintercept = logreg.intercept_\n\nprecision, recall ,fscore,_ = precision_recall_fscore_support(y_train,yhat_train,average='binary',pos_label='roof')\nprint(\"Coefficient:\",w)\nprint(\"Intercept:\",intercept)\nprint(\"Precision:\",precision)\nprint(\"Recall:\",recall)\nprint(\"Fscore:\",fscore)\n",
   "execution_count": null,
   "outputs": [
    {
     "name": "stdout",
     "text": "Coefficient: [[ 4.34e-01 -3.79e-01  4.15e-01  1.87e-02 -4.88e-02 -1.93e-09  0.00e+00\n  -9.68e-02 -1.01e-01  1.25e-01  1.25e-02 -1.13e-01]]\nIntercept: [-0.01]\nPrecision: 0.991990082959855\nRecall: 0.9998077847188852\nFscore: 0.9958835918054758\n",
     "output_type": "stream"
    }
   ]
  },
  {
   "cell_type": "code",
   "metadata": {
    "tags": [],
    "deepnote_to_be_reexecuted": false,
    "source_hash": "65b1f1f",
    "execution_millis": 707,
    "cell_id": "00016-e48c0d6c-3279-42bf-862f-7022b5f322b4",
    "execution_start": 1617733159115,
    "deepnote_cell_type": "code"
   },
   "source": "#confusion matrices\nnp.set_printoptions(precision=2)\nclass_names = ['door','roof']\nclassifier = linear_model.LogisticRegression(C=10**-5).fit(x_train,y_train)\n\n# Plot non-normalized confusion matrix\ntitles_options = [(\"Confusion matrix, without normalization\", None),\n                  (\"Normalized confusion matrix\", 'true')]\nfor title, normalize in titles_options:\n    disp = plot_confusion_matrix(classifier, x1, y1,\n                                 display_labels=class_names,\n                                 cmap=plt.cm.Blues,\n                                 normalize=normalize)\n    disp.ax_.set_title(title)\n\n    print(title)\n    print(disp.confusion_matrix)\n\nplt.show()",
   "execution_count": null,
   "outputs": [
    {
     "name": "stdout",
     "text": "Confusion matrix, without normalization\n[[  0 739]\n [  0 739]]\nNormalized confusion matrix\n[[0. 1.]\n [0. 1.]]\n",
     "output_type": "stream"
    },
    {
     "data": {
      "text/plain": "<Figure size 432x288 with 2 Axes>",
      "image/png": "[encoded data removed]"
     },
     "metadata": {
      "needs_background": "light",
      "image/png": {
       "width": 328,
       "height": 278
      }
     },
     "output_type": "display_data"
    },
    {
     "data": {
      "text/plain": "<Figure size 432x288 with 2 Axes>",
      "image/png": "[encoded data removed]"
     },
     "metadata": {
      "needs_background": "light",
      "image/png": {
       "width": 325,
       "height": 278
      }
     },
     "output_type": "display_data"
    }
   ]
  },
  {
   "cell_type": "markdown",
   "source": "<a style='text-decoration:none;line-height:16px;display:flex;color:#5B5B62;padding:10px;justify-content:end;' href='https://deepnote.com?utm_source=created-in-deepnote-cell&projectId=22ec9222-3a33-4967-8b6b-eec8dcc0f029' target=\"_blank\">\n<img alt='Created in deepnote.com' style='display:inline;max-height:16px;margin:0px;margin-right:7.5px;' src='data:image/svg+xml;base64,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' > </img>\nCreated in <span style='font-weight:600;margin-left:4px;'>Deepnote</span></a>",
   "metadata": {
    "tags": [],
    "created_in_deepnote_cell": true,
    "deepnote_cell_type": "markdown"
   }
  }
 ],
 "nbformat": 4,
 "nbformat_minor": 2,
 "metadata": {
  "orig_nbformat": 2,
  "deepnote_notebook_id": "cb122fa5-86e2-464b-b663-caa7c874c6f3",
  "deepnote_execution_queue": [],
  "deepnote": {}
 }
}