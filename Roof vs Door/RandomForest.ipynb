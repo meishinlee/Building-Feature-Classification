{
 "cells": [
  {
   "cell_type": "markdown",
   "source": "Reference: https://github.com/WillKoehrsen/Machine-Learning-Projects/blob/master/Random%20Forest%20Tutorial.ipynb",
   "metadata": {
    "tags": [],
    "cell_id": "00000-ee0690db-1d7d-4391-8437-e97ff04f5de4",
    "deepnote_cell_type": "markdown"
   }
  },
  {
   "cell_type": "code",
   "metadata": {
    "tags": [],
    "cell_id": "00000-c2b1bf17-fda6-4c63-ad79-1f967ba903e1",
    "deepnote_to_be_reexecuted": false,
    "source_hash": "6510e6bc",
    "execution_start": 1622177222430,
    "execution_millis": 1720,
    "deepnote_cell_type": "code"
   },
   "source": "# Import Important Libraries\nfrom sklearn.linear_model import LogisticRegression # importing Sklearn's logistic regression's module\nfrom sklearn import preprocessing, linear_model # preprossing is what we do with the data before we run the learning algorithm\nfrom sklearn.model_selection import train_test_split \nfrom sklearn.metrics import accuracy_score, precision_recall_fscore_support # \nfrom sklearn.ensemble import RandomForestClassifier\nfrom sklearn.metrics import roc_auc_score\n\nimport seaborn as sns\nimport numpy as np\nimport pandas as pd\nfrom sklearn.metrics import plot_confusion_matrix\nimport matplotlib.pyplot as plt\nfrom sklearn import svm\n\n",
   "outputs": [],
   "execution_count": null
  },
  {
   "cell_type": "markdown",
   "source": "Read CSV building_117_roof_01_door01_modified.csv",
   "metadata": {
    "tags": [],
    "cell_id": "00001-a1963220-4ba9-495f-b9ea-c398a0210b44",
    "deepnote_cell_type": "markdown"
   }
  },
  {
   "cell_type": "code",
   "metadata": {
    "tags": [],
    "cell_id": "00001-0fb73219-5e5a-4c01-8cf1-d54a042a6e7b",
    "deepnote_to_be_reexecuted": false,
    "source_hash": "2d2964f8",
    "execution_start": 1622177224158,
    "execution_millis": 135,
    "deepnote_cell_type": "code"
   },
   "source": "#Reading CSV File, Building_01, which is actually building_0000 \n#df = pd.read_csv('building_117_roof_01_door01_modified.csv', header=0, names = ['X','Y','Z','Point_Source_ID','Scan_Angle_Rank','Flightline_Edge','Scan_Direction','Number_of_Returns','Return_Number','Time','Intensity','Classification','Type'])\ndf = pd.read_csv('building_117_roof_01_door01_modified.csv').drop(\"R\",axis=1).drop(\"G\",axis=1).drop(\"B\",axis=1).drop(\"Point_Source_ID\",axis=1) \n#df = pd.read_csv('building_117_roof_01_door01_modified.csv', header=0, names = ['X','Y','Z','Scan_Angle_Rank','Flightline_Edge','Scan_Direction','Number_of_Returns','Return_Number','Time','Intensity','Classification','Type'])\n#df1 = df.dropna() \n#df2 = df1.values\ndf.info()\nprint(df)\nprint(df.shape)\n#print(df2[:, 14])\nfrom sklearn.utils import resample \ndf_majority = df[df.Type == 'roof']\ndf_minority = df[df.Type == 'door'] \n\n#print(df_majority)\n#downsampling majority class \n\ndf_majority_downsampled = resample(df_majority, replace = False, n_samples = 7000, random_state=123)\n#df_minority_downsampled = resample(df_minority, replace = False, n_samples = 7000, random_state=123)\ndf_minority_upsampled = resample(df_minority, replace = True, n_samples = 7000, random_state=123)\n#df_upsampled = pd.concat([df_majority, df_minority_upsampled])\ndf_downsampled = pd.concat([df_majority_downsampled, df_minority_upsampled])\n\n#display class counts \ndf_downsampled.Type.value_counts()\n",
   "outputs": [
    {
     "name": "stdout",
     "text": "<class 'pandas.core.frame.DataFrame'>\nRangeIndex: 17877 entries, 0 to 17876\nData columns (total 12 columns):\n #   Column             Non-Null Count  Dtype  \n---  ------             --------------  -----  \n 0   X                  17877 non-null  float64\n 1   Y                  17877 non-null  float64\n 2   Z                  17877 non-null  float64\n 3   Scan_Angle_Rank    17877 non-null  int64  \n 4   Flightline_Edge    17877 non-null  int64  \n 5   Scan_Direction     17877 non-null  int64  \n 6   Number_of_Returns  17877 non-null  int64  \n 7   Return_Number      17877 non-null  int64  \n 8   Time               17877 non-null  float64\n 9   Intensity          17877 non-null  int64  \n 10  Classification     17877 non-null  int64  \n 11  Type               17877 non-null  object \ndtypes: float64(4), int64(7), object(1)\nmemory usage: 1.6+ MB\n                 X            Y          Z  Scan_Angle_Rank  Flightline_Edge  \\\n0      315996.7480  234680.7109  16.320000              -17                0   \n1      315997.0380  234681.1230  16.559000              -17                0   \n2      315997.0530  234681.2192  16.653000              -17                0   \n3      315996.7030  234681.1348  16.330999              -17                0   \n4      315996.7920  234681.2598  16.391001              -17                0   \n...            ...          ...        ...              ...              ...   \n17872  315992.0200  234675.3799   4.245000               28                0   \n17873  315991.8521  234675.4741   5.801000               28                0   \n17874  315991.9821  234675.4819   4.674000               28                0   \n17875  315991.9740  234675.4609   5.049000               28                0   \n17876  315991.9640  234675.4639   5.332000               28                0   \n\n       Scan_Direction  Number_of_Returns  Return_Number         Time  \\\n0                   1                  2              1  391878.9846   \n1                   1                  1              1  391878.9846   \n2                   1                  1              1  391878.9940   \n3                   1                  1              1  391879.0127   \n4                   1                  1              1  391879.0127   \n...               ...                ...            ...          ...   \n17872               1                  2              2  399971.4797   \n17873               1                  2              1  399971.4895   \n17874               1                  2              2  399971.4797   \n17875               1                  2              2  399971.4797   \n17876               1                  1              1  399971.4797   \n\n       Intensity  Classification  Type  \n0             26               4  roof  \n1             89               4  roof  \n2            186               2  roof  \n3             58               2  roof  \n4             46               2  roof  \n...          ...             ...   ...  \n17872         71               2  door  \n17873         11               4  door  \n17874         27               4  door  \n17875         31               4  door  \n17876         34               4  door  \n\n[17877 rows x 12 columns]\n(17877, 12)\n",
     "output_type": "stream"
    },
    {
     "output_type": "execute_result",
     "execution_count": 2,
     "data": {
      "text/plain": "door    7000\nroof    7000\nName: Type, dtype: int64"
     },
     "metadata": {}
    }
   ],
   "execution_count": null
  },
  {
   "cell_type": "markdown",
   "source": "Apply downsampled column to new dataset ",
   "metadata": {
    "tags": [],
    "cell_id": "00003-8afd9bfd-a4e6-4ef0-a0a0-e37c4f38bb6e",
    "deepnote_cell_type": "markdown"
   }
  },
  {
   "cell_type": "code",
   "metadata": {
    "tags": [],
    "cell_id": "00002-a6d3b0c0-0140-4e46-8c5c-0f24c0e84ec4",
    "deepnote_to_be_reexecuted": false,
    "source_hash": "a2b8d65",
    "execution_start": 1622177224342,
    "execution_millis": 7,
    "deepnote_cell_type": "code"
   },
   "source": "#with downsampling, and normalization\nxOld = df_downsampled.drop('Type', axis = 1)\n#print(x)\ny = df_downsampled.Type\n#print(y)\n#print(x.shape,y.shape)\n#print(y.shape)\n\nscaler = preprocessing.StandardScaler().fit(xOld)\nscaler.mean_\nscaler.scale_\nx = scaler.transform(xOld)\n\nx.mean(axis = 0)\nx.std(axis=0)\n\n#print(x.shape)",
   "outputs": [
    {
     "output_type": "execute_result",
     "execution_count": 3,
     "data": {
      "text/plain": "array([1., 1., 1., 1., 0., 0., 1., 1., 1., 1., 1.])"
     },
     "metadata": {}
    }
   ],
   "execution_count": null
  },
  {
   "cell_type": "markdown",
   "source": "Train Test Split    ",
   "metadata": {
    "tags": [],
    "cell_id": "00005-481f0552-ab4b-4fd6-a539-c6d606b341fe",
    "deepnote_cell_type": "markdown"
   }
  },
  {
   "cell_type": "code",
   "metadata": {
    "tags": [],
    "cell_id": "00005-d5b926a8-d0a3-45ee-91ee-ec7ea0532166",
    "deepnote_to_be_reexecuted": false,
    "source_hash": "281a3797",
    "execution_start": 1622177224343,
    "execution_millis": 6,
    "deepnote_cell_type": "code"
   },
   "source": "#Train/Test Split\nx_scaled = preprocessing.scale(x)\nx_train, x_test, y_train, y_test = train_test_split(x_scaled, y, test_size = 0.25, train_size = 0.75)\n\n#print(x_train)\n#Making sure that \ny_train=y_train.astype('str')\ny_test = y_test.astype('str')\nprint(x_train.shape, x_test.shape)\n#print(y_train)",
   "outputs": [
    {
     "name": "stdout",
     "text": "(10500, 11) (3500, 11)\n",
     "output_type": "stream"
    }
   ],
   "execution_count": null
  },
  {
   "cell_type": "markdown",
   "source": "Read CSV #2 - building_02_roof_doors.csv",
   "metadata": {
    "tags": [],
    "cell_id": "00007-25578195-f6bd-4fed-83c2-ae404628c38b",
    "deepnote_cell_type": "markdown"
   }
  },
  {
   "cell_type": "code",
   "metadata": {
    "tags": [],
    "cell_id": "00008-8dc50acd-8962-47a7-bc3d-54040f38db06",
    "deepnote_to_be_reexecuted": false,
    "source_hash": "a336b089",
    "execution_start": 1622177224385,
    "execution_millis": 154,
    "deepnote_cell_type": "code"
   },
   "source": "#Reading CSV File #2, Building_0000001 txt \n#df_a =  pd.read_csv('building_02_roof_doors.csv',sep = ',',header = 0,names = ['X','Y','Z','Point_Source_ID','Scan_Angle_Rank','Flightline_Edge','Scan_Direction','Number_of_Returns','Return_Number','Time','Intensity','Classification','Type'])\ndf_a =  pd.read_csv('building_02_roof_doors.csv',sep = ',').drop(\"R\",axis=1).drop(\"G\",axis=1).drop(\"B\",axis=1).drop(\"Point_Source_ID\",axis=1) #,header = 0,names = ['X','Y','Z','Scan_Angle_Rank','Flightline_Edge','Scan_Direction','Number_of_Returns','Return_Number','Time','Intensity','Classification','Type'])\ndf_a1 = df_a.dropna() \ndf_a2 = df_a1.values\n#print(df_a)\ndf_a.info()\n#print(df_a['Z'])\n'''\n#Reading CSV File #2, Building_0000001 txt \ndf_b = pd.read_csv('Buildings_000002.txt',sep = ' ')\ndf_b1 = df_b.dropna() \ndf_b2 = df_b1.values\n'''\n\n#Normalizing two other data sets\n#For building 000001\nx1Old = df_a2[:, :11] \ny1 = df_a2[:, 11] \n\nscaler = preprocessing.StandardScaler().fit(x1Old)\nx1 = scaler.transform(x1Old)\n\nprint(x1)\n'''\n#For building 000002\nx2Old = df_b2[:, :14] \ny2 = df_b2[:, 14] \n\nscaler = preprocessing.StandardScaler().fit(x2Old)\nx2 = scaler.transform(x2Old)\n'''",
   "outputs": [
    {
     "name": "stdout",
     "text": "<class 'pandas.core.frame.DataFrame'>\nRangeIndex: 58375 entries, 0 to 58374\nData columns (total 12 columns):\n #   Column             Non-Null Count  Dtype  \n---  ------             --------------  -----  \n 0   X                  58375 non-null  float64\n 1   Y                  58375 non-null  float64\n 2   Z                  58375 non-null  float64\n 3   Scan_Angle_Rank    58375 non-null  int64  \n 4   Flightline_Edge    58375 non-null  int64  \n 5   Scan_Direction     58375 non-null  int64  \n 6   Number_of_Returns  58375 non-null  int64  \n 7   Return_Number      58375 non-null  int64  \n 8   Time               58375 non-null  float64\n 9   Intensity          58375 non-null  int64  \n 10  Classification     58375 non-null  int64  \n 11  Type               58375 non-null  object \ndtypes: float64(4), int64(7), object(1)\nmemory usage: 5.3+ MB\n[[-2.29988919e+00  2.63257620e-01 -2.03847012e-01 ... -1.07808091e+00\n  -8.41637894e-01  3.28163880e+00]\n [-2.27777570e+00  2.87706151e-01 -2.39301338e-01 ... -1.07808082e+00\n   2.11969757e-03  3.28163880e+00]\n [-2.25080128e+00  3.17993136e-01 -2.30109336e-01 ... -1.07808082e+00\n  -8.29837088e-01  3.28163880e+00]\n ...\n [ 1.73844148e+00  5.29637128e-01 -7.59621694e+00 ...  1.39740724e+00\n  -9.68110790e-03  3.28163880e+00]\n [ 1.49942441e+00  8.51247376e-01 -6.97641090e+00 ...  1.64341388e+00\n  -1.01274957e+00  3.28163880e+00]\n [ 1.49791324e+00  8.63471641e-01 -6.62317383e+00 ...  1.64341388e+00\n  -9.77347157e-01  3.28163880e+00]]\n",
     "output_type": "stream"
    },
    {
     "output_type": "execute_result",
     "execution_count": 5,
     "data": {
      "text/plain": "'\\n#For building 000002\\nx2Old = df_b2[:, :14] \\ny2 = df_b2[:, 14] \\n\\nscaler = preprocessing.StandardScaler().fit(x2Old)\\nx2 = scaler.transform(x2Old)\\n'"
     },
     "metadata": {}
    }
   ],
   "execution_count": null
  },
  {
   "cell_type": "markdown",
   "source": "Grid Search for tuning hyperparmeters",
   "metadata": {
    "tags": [],
    "cell_id": "00009-bbcfc1c3-436b-4ea1-9f57-3997ba9affcd",
    "deepnote_cell_type": "markdown"
   }
  },
  {
   "cell_type": "code",
   "metadata": {
    "tags": [],
    "cell_id": "00009-5d8c2113-6c9e-4f89-beb2-bd42dc916e63",
    "deepnote_to_be_reexecuted": false,
    "source_hash": "191a77d3",
    "execution_start": 1622177224593,
    "execution_millis": 13337,
    "deepnote_cell_type": "code"
   },
   "source": "#Random Forest Optimization \nfrom sklearn.model_selection import RandomizedSearchCV\n\n# Hyperparameter grid\nparam_grid = {\n    'n_estimators': np.linspace(10, 200).astype(int),\n    'max_depth': [None] + list(np.linspace(3, 20).astype(int)),\n    'max_features': ['auto', 'sqrt', None] + list(np.arange(0.5, 1, 0.1)),\n    'max_leaf_nodes': [None] + list(np.linspace(10, 50, 500).astype(int)),\n    'min_samples_split': [2, 5, 10],\n    'bootstrap': [True, False]\n}\n\n# Estimator for use in random search\nestimator = RandomForestClassifier()\n\n# Create the random search model\nrs = RandomizedSearchCV(estimator, param_grid, n_jobs = -1, \n                        scoring = 'roc_auc', cv = 3, \n                        n_iter = 10, verbose = 1)\n\n# Fit \nrs.fit(x_train, y_train)",
   "outputs": [
    {
     "name": "stdout",
     "text": "Fitting 3 folds for each of 10 candidates, totalling 30 fits\n",
     "output_type": "stream"
    },
    {
     "output_type": "execute_result",
     "execution_count": 6,
     "data": {
      "text/plain": "RandomizedSearchCV(cv=3, estimator=RandomForestClassifier(), n_jobs=-1,\n                   param_distributions={'bootstrap': [True, False],\n                                        'max_depth': [None, 3, 3, 3, 4, 4, 4, 5,\n                                                      5, 5, 6, 6, 6, 7, 7, 7, 8,\n                                                      8, 8, 9, 9, 9, 10, 10, 10,\n                                                      11, 11, 12, 12, 12, ...],\n                                        'max_features': ['auto', 'sqrt', None,\n                                                         0.5, 0.6, 0.7,\n                                                         0.7999999999999999,\n                                                         0.8999999999999999],\n                                        'max_leaf_nodes': [None, 10, 10, 10, 10,\n                                                           10, 10, 10, 10, 10,\n                                                           10, 10, 10, 10, 11,\n                                                           11, 11, 11, 11, 11,\n                                                           11, 11, 11, 11, 11,\n                                                           11, 12, 12, 12, 12, ...],\n                                        'min_samples_split': [2, 5, 10],\n                                        'n_estimators': array([ 10,  13,  17,  21,  25,  29,  33,  37,  41,  44,  48,  52,  56,\n        60,  64,  68,  72,  75,  79,  83,  87,  91,  95,  99, 103, 106,\n       110, 114, 118, 122, 126, 130, 134, 137, 141, 145, 149, 153, 157,\n       161, 165, 168, 172, 176, 180, 184, 188, 192, 196, 200])},\n                   scoring='roc_auc', verbose=1)"
     },
     "metadata": {}
    }
   ],
   "execution_count": null
  },
  {
   "cell_type": "code",
   "metadata": {
    "tags": [],
    "cell_id": "00010-1a2e0e95-c5c1-4bca-872b-09b6e420e647",
    "deepnote_to_be_reexecuted": false,
    "source_hash": "f92f3f43",
    "execution_start": 1622177237937,
    "execution_millis": 7,
    "deepnote_cell_type": "code"
   },
   "source": "rs.best_params_\nbest_model = rs.best_estimator_\nprint(best_model)",
   "outputs": [
    {
     "name": "stdout",
     "text": "RandomForestClassifier(bootstrap=False, max_depth=7,\n                       max_features=0.8999999999999999, max_leaf_nodes=28,\n                       min_samples_split=10, n_estimators=48)\n",
     "output_type": "stream"
    }
   ],
   "execution_count": null
  },
  {
   "cell_type": "code",
   "metadata": {
    "tags": [],
    "cell_id": "00011-e2319f93-4e9c-454d-a447-b87fb8fd2e4e",
    "deepnote_to_be_reexecuted": false,
    "source_hash": "b030366c",
    "execution_start": 1622177237948,
    "execution_millis": 838,
    "is_code_hidden": false,
    "is_output_hidden": false,
    "deepnote_cell_type": "code"
   },
   "source": "best_model_train_rf_predictions = best_model.predict(x_train)\nbest_model_train_rf_probs = best_model.predict_proba(x_train)[:, 1]\n\nbest_model_test_rf_predictions = best_model.predict(x_test)\nbest_model_test_rf_probs = best_model.predict_proba(x_test)[:, 1]\nprint(best_model_test_rf_predictions)\nprint(best_model_test_rf_probs)\n\nbest_model_roc_value = roc_auc_score(y_test, best_model_test_rf_probs)\nprint(best_model_roc_value)\n\nimportances = best_model.feature_importances_\nprint(\"Feature Importance:\",importances)\n\nstd = np.std([\n    best_model.feature_importances_ for tree in best_model.estimators_], axis=0)\n\nfeature_names = ['X','Y','Z','Scan_Angle_Rank','Flightline_Edge','Scan_Direction','Number_of_Returns','Return_Number','Time','Intensity','Classification']\nforest_importances = pd.Series(importances, index=feature_names)\n\nfig, ax = plt.subplots()\nforest_importances.plot.bar(yerr=std, ax=ax)\nax.set_title(\"Feature importances\")\nax.set_ylabel(\"Importance\")\nfig.tight_layout()",
   "outputs": [
    {
     "name": "stdout",
     "text": "['door' 'door' 'roof' ... 'door' 'door' 'roof']\n[0. 0. 1. ... 0. 0. 1.]\n1.0\nFeature Importance: [0.         0.42081127 0.56778299 0.01140574 0.         0.\n 0.         0.         0.         0.         0.        ]\n",
     "output_type": "stream"
    },
    {
     "data": {
      "text/plain": "<Figure size 432x288 with 1 Axes>",
      "image/png": "[encoded data removed]"
     },
     "metadata": {
      "needs_background": "light",
      "image/png": {
       "width": 424,
       "height": 280
      }
     },
     "output_type": "display_data"
    }
   ],
   "execution_count": null
  },
  {
   "cell_type": "markdown",
   "source": "Manual RF",
   "metadata": {
    "tags": [],
    "cell_id": "00012-d9e7bc3e-5edd-401a-ad40-21055c32af74",
    "deepnote_cell_type": "markdown"
   }
  },
  {
   "cell_type": "code",
   "metadata": {
    "tags": [],
    "cell_id": "00009-91828a1f-af8c-4eac-bae3-e17d80608b56",
    "deepnote_to_be_reexecuted": false,
    "source_hash": "7f5ffa84",
    "execution_start": 1622177238825,
    "execution_millis": 50,
    "is_code_hidden": true,
    "is_output_hidden": true,
    "deepnote_cell_type": "code"
   },
   "source": "#Manual RF\nforest = RandomForestClassifier(n_estimators=2)\nforest.fit(x_train, y_train)\n\ntrain_rf_predictions = forest.predict(x_train)\ntrain_rf_probs = forest.predict_proba(x_train)[:, 1]\n\ntest_rf_predictions = forest.predict(x_test)\ntest_rf_probs = forest.predict_proba(x_test)[:, 1]\nprint(test_rf_predictions)\nprint(test_rf_probs)\n\n# Calculate roc auc, area under the curve \nroc_value = roc_auc_score(y_test, test_rf_probs)\nprint(roc_value)",
   "outputs": [
    {
     "name": "stdout",
     "text": "['door' 'door' 'roof' ... 'door' 'door' 'roof']\n[0. 0. 1. ... 0. 0. 1.]\n1.0\n",
     "output_type": "stream"
    }
   ],
   "execution_count": null
  },
  {
   "cell_type": "code",
   "metadata": {
    "tags": [],
    "cell_id": "00010-475a24ca-43d7-412c-b45c-d142281f4dfe",
    "deepnote_to_be_reexecuted": false,
    "source_hash": "342d42c2",
    "execution_start": 1622177238871,
    "execution_millis": 5,
    "is_code_hidden": true,
    "is_output_hidden": true,
    "deepnote_cell_type": "code"
   },
   "source": "'''\n#Manual Checking\nnum_nodes = [] \nmax_depth = []\nfor ind in forest.estimators_: \n    num_nodes.append(ind.tree_.node_count)\n    max_depth.append(ind.tree_.max_depth)\n#print('Total Tree Nodes:',sum(num_nodes))\n#print('Tree Depth:',max(max_depth))\n\n#Best Model \nbest_model_num_nodes = [] \nbest_model_max_depth = []\nfor ind in forest.estimators_: \n    best_model_num_nodes.append(ind.tree_.node_count)\n    best_model_max_depth.append(ind.tree_.max_depth)\nprint('Best Model Total Tree Nodes:',sum(best_model_num_nodes))\nprint('Best Model Tree Depth:',max(best_model_max_depth))\n'''",
   "outputs": [
    {
     "output_type": "execute_result",
     "execution_count": 10,
     "data": {
      "text/plain": "\"\\n#Manual Checking\\nnum_nodes = [] \\nmax_depth = []\\nfor ind in forest.estimators_: \\n    num_nodes.append(ind.tree_.node_count)\\n    max_depth.append(ind.tree_.max_depth)\\n#print('Total Tree Nodes:',sum(num_nodes))\\n#print('Tree Depth:',max(max_depth))\\n\\n#Best Model \\nbest_model_num_nodes = [] \\nbest_model_max_depth = []\\nfor ind in forest.estimators_: \\n    best_model_num_nodes.append(ind.tree_.node_count)\\n    best_model_max_depth.append(ind.tree_.max_depth)\\nprint('Best Model Total Tree Nodes:',sum(best_model_num_nodes))\\nprint('Best Model Tree Depth:',max(best_model_max_depth))\\n\""
     },
     "metadata": {}
    }
   ],
   "execution_count": null
  },
  {
   "cell_type": "markdown",
   "source": "Confusion Matrix for Best Model",
   "metadata": {
    "tags": [],
    "cell_id": "00015-64ef520b-7f82-446c-851d-2a0a4e4c0046",
    "deepnote_cell_type": "markdown"
   }
  },
  {
   "cell_type": "code",
   "metadata": {
    "tags": [],
    "cell_id": "00012-f4bd0572-88bd-487d-9c80-157cfc3dd61f",
    "deepnote_to_be_reexecuted": false,
    "source_hash": "1870103f",
    "execution_start": 1622177238871,
    "execution_millis": 1408,
    "deepnote_cell_type": "code"
   },
   "source": "#Confusion Matrix - Random Forest (best model)\n\nnp.set_printoptions(precision=2)\nclass_names = ['Door','Roof']\nclassifier = best_model \n\n# Plot non-normalized confusion matrix\ntitles_options = [(\"Confusion matrix, without normalization\", None),\n                  (\"Normalized confusion matrix\", 'true')]\nfor title, normalize in titles_options:\n    disp = plot_confusion_matrix(classifier, x1, y1,\n                                 display_labels=class_names,\n                                 cmap=plt.cm.Blues,\n                                 normalize=normalize)\n    disp.ax_.set_title(title)\n\n    print(title)\n    print(disp.confusion_matrix)\n\nplt.show()\n",
   "outputs": [
    {
     "name": "stdout",
     "text": "Confusion matrix, without normalization\n[[  739     0]\n [33174 24462]]\nNormalized confusion matrix\n[[1.   0.  ]\n [0.58 0.42]]\n",
     "output_type": "stream"
    },
    {
     "data": {
      "text/plain": "<Figure size 432x288 with 2 Axes>",
      "image/png": "[encoded data removed]"
     },
     "metadata": {
      "needs_background": "light",
      "image/png": {
       "width": 342,
       "height": 278
      }
     },
     "output_type": "display_data"
    },
    {
     "data": {
      "text/plain": "<Figure size 432x288 with 2 Axes>",
      "image/png": "[encoded data removed]"
     },
     "metadata": {
      "needs_background": "light",
      "image/png": {
       "width": 327,
       "height": 278
      }
     },
     "output_type": "display_data"
    }
   ],
   "execution_count": null
  },
  {
   "cell_type": "markdown",
   "source": "<a style='text-decoration:none;line-height:16px;display:flex;color:#5B5B62;padding:10px;justify-content:end;' href='https://deepnote.com?utm_source=created-in-deepnote-cell&projectId=22ec9222-3a33-4967-8b6b-eec8dcc0f029' target=\"_blank\">\n<img alt='Created in deepnote.com' style='display:inline;max-height:16px;margin:0px;margin-right:7.5px;' src='data:image/svg+xml;base64,PD94bWwgdmVyc2lvbj0iMS4wIiBlbmNvZGluZz0iVVRGLTgiPz4KPHN2ZyB3aWR0aD0iODBweCIgaGVpZ2h0PSI4MHB4IiB2aWV3Qm94PSIwIDAgODAgODAiIHZlcnNpb249IjEuMSIgeG1sbnM9Imh0dHA6Ly93d3cudzMub3JnLzIwMDAvc3ZnIiB4bWxuczp4bGluaz0iaHR0cDovL3d3dy53My5vcmcvMTk5OS94bGluayI+CiAgICA8IS0tIEdlbmVyYXRvcjogU2tldGNoIDU0LjEgKDc2NDkwKSAtIGh0dHBzOi8vc2tldGNoYXBwLmNvbSAtLT4KICAgIDx0aXRsZT5Hcm91cCAzPC90aXRsZT4KICAgIDxkZXNjPkNyZWF0ZWQgd2l0aCBTa2V0Y2guPC9kZXNjPgogICAgPGcgaWQ9IkxhbmRpbmciIHN0cm9rZT0ibm9uZSIgc3Ryb2tlLXdpZHRoPSIxIiBmaWxsPSJub25lIiBmaWxsLXJ1bGU9ImV2ZW5vZGQiPgogICAgICAgIDxnIGlkPSJBcnRib2FyZCIgdHJhbnNmb3JtPSJ0cmFuc2xhdGUoLTEyMzUuMDAwMDAwLCAtNzkuMDAwMDAwKSI+CiAgICAgICAgICAgIDxnIGlkPSJHcm91cC0zIiB0cmFuc2Zvcm09InRyYW5zbGF0ZSgxMjM1LjAwMDAwMCwgNzkuMDAwMDAwKSI+CiAgICAgICAgICAgICAgICA8cG9seWdvbiBpZD0iUGF0aC0yMCIgZmlsbD0iIzAyNjVCNCIgcG9pbnRzPSIyLjM3NjIzNzYyIDgwIDM4LjA0NzY2NjcgODAgNTcuODIxNzgyMiA3My44MDU3NTkyIDU3LjgyMTc4MjIgMzIuNzU5MjczOSAzOS4xNDAyMjc4IDMxLjY4MzE2ODMiPjwvcG9seWdvbj4KICAgICAgICAgICAgICAgIDxwYXRoIGQ9Ik0zNS4wMDc3MTgsODAgQzQyLjkwNjIwMDcsNzYuNDU0OTM1OCA0Ny41NjQ5MTY3LDcxLjU0MjI2NzEgNDguOTgzODY2LDY1LjI2MTk5MzkgQzUxLjExMjI4OTksNTUuODQxNTg0MiA0MS42NzcxNzk1LDQ5LjIxMjIyODQgMjUuNjIzOTg0Niw0OS4yMTIyMjg0IEMyNS40ODQ5Mjg5LDQ5LjEyNjg0NDggMjkuODI2MTI5Niw0My4yODM4MjQ4IDM4LjY0NzU4NjksMzEuNjgzMTY4MyBMNzIuODcxMjg3MSwzMi41NTQ0MjUgTDY1LjI4MDk3Myw2Ny42NzYzNDIxIEw1MS4xMTIyODk5LDc3LjM3NjE0NCBMMzUuMDA3NzE4LDgwIFoiIGlkPSJQYXRoLTIyIiBmaWxsPSIjMDAyODY4Ij48L3BhdGg+CiAgICAgICAgICAgICAgICA8cGF0aCBkPSJNMCwzNy43MzA0NDA1IEwyNy4xMTQ1MzcsMC4yNTcxMTE0MzYgQzYyLjM3MTUxMjMsLTEuOTkwNzE3MDEgODAsMTAuNTAwMzkyNyA4MCwzNy43MzA0NDA1IEM4MCw2NC45NjA0ODgyIDY0Ljc3NjUwMzgsNzkuMDUwMzQxNCAzNC4zMjk1MTEzLDgwIEM0Ny4wNTUzNDg5LDc3LjU2NzA4MDggNTMuNDE4MjY3Nyw3MC4zMTM2MTAzIDUzLjQxODI2NzcsNTguMjM5NTg4NSBDNTMuNDE4MjY3Nyw0MC4xMjg1NTU3IDM2LjMwMzk1NDQsMzcuNzMwNDQwNSAyNS4yMjc0MTcsMzcuNzMwNDQwNSBDMTcuODQzMDU4NiwzNy43MzA0NDA1IDkuNDMzOTE5NjYsMzcuNzMwNDQwNSAwLDM3LjczMDQ0MDUgWiIgaWQ9IlBhdGgtMTkiIGZpbGw9IiMzNzkzRUYiPjwvcGF0aD4KICAgICAgICAgICAgPC9nPgogICAgICAgIDwvZz4KICAgIDwvZz4KPC9zdmc+' > </img>\nCreated in <span style='font-weight:600;margin-left:4px;'>Deepnote</span></a>",
   "metadata": {
    "tags": [],
    "created_in_deepnote_cell": true,
    "deepnote_cell_type": "markdown"
   }
  }
 ],
 "nbformat": 4,
 "nbformat_minor": 2,
 "metadata": {
  "orig_nbformat": 2,
  "deepnote": {
   "is_reactive": false
  },
  "deepnote_notebook_id": "19da3192-3c2a-4260-8b5e-db42047594be",
  "deepnote_execution_queue": []
 }
}