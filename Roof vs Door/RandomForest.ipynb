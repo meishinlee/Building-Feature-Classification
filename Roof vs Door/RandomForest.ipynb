{
 "cells": [
  {
   "cell_type": "code",
   "metadata": {
    "tags": [],
    "cell_id": "00000-c2b1bf17-fda6-4c63-ad79-1f967ba903e1",
    "deepnote_to_be_reexecuted": false,
    "source_hash": "6510e6bc",
    "execution_start": 1622148570076,
    "execution_millis": 1,
    "deepnote_cell_type": "code"
   },
   "source": "# Import Important Libraries\nfrom sklearn.linear_model import LogisticRegression # importing Sklearn's logistic regression's module\nfrom sklearn import preprocessing, linear_model # preprossing is what we do with the data before we run the learning algorithm\nfrom sklearn.model_selection import train_test_split \nfrom sklearn.metrics import accuracy_score, precision_recall_fscore_support # \nfrom sklearn.ensemble import RandomForestClassifier\nfrom sklearn.metrics import roc_auc_score\n\nimport seaborn as sns\nimport numpy as np\nimport pandas as pd\nfrom sklearn.metrics import plot_confusion_matrix\nimport matplotlib.pyplot as plt\nfrom sklearn import svm\n\n",
   "execution_count": 61,
   "outputs": []
  },
  {
   "cell_type": "markdown",
   "source": "Read CSV building_117_roof_01_door01_modified.csv",
   "metadata": {
    "tags": [],
    "cell_id": "00001-a1963220-4ba9-495f-b9ea-c398a0210b44",
    "deepnote_cell_type": "markdown"
   }
  },
  {
   "cell_type": "code",
   "metadata": {
    "tags": [],
    "cell_id": "00001-0fb73219-5e5a-4c01-8cf1-d54a042a6e7b",
    "deepnote_to_be_reexecuted": false,
    "source_hash": "f85850bb",
    "execution_start": 1622145870706,
    "execution_millis": 77,
    "deepnote_cell_type": "code"
   },
   "source": "#Reading CSV File, Building_01, which is actually building_0000 \ndf = pd.read_csv('building_117_roof_01_door01_modified.csv', header=0, names = ['X','Y','Z','Point_Source_ID','Scan_Angle_Rank','Flightline_Edge','Scan_Direction','Number_of_Returns','Return_Number','Time','Intensity','Classification','Type'])\n#df1 = df.dropna() \n#df2 = df1.values\ndf.info()\nprint(df.shape)\n#print(df2[:, 14])\nfrom sklearn.utils import resample \ndf_majority = df[df.Type == 'roof']\ndf_minority = df[df.Type == 'door'] \n\n#print(df_majority)\n#downsampling majority class \n\ndf_majority_downsampled = resample(df_majority, replace = False, n_samples = 7000, random_state=123)\n#df_minority_downsampled = resample(df_minority, replace = False, n_samples = 7000, random_state=123)\ndf_minority_upsampled = resample(df_minority, replace = True, n_samples = 7000, random_state=123)\n#df_upsampled = pd.concat([df_majority, df_minority_upsampled])\ndf_downsampled = pd.concat([df_majority_downsampled, df_minority_upsampled])\n\n#display class counts \ndf_downsampled.Type.value_counts()\n",
   "execution_count": 2,
   "outputs": [
    {
     "name": "stdout",
     "text": "<class 'pandas.core.frame.DataFrame'>\nMultiIndex: 17877 entries, (315996.748, 234680.7109, 16.31999969) to (315991.964, 234675.4639, 5.33199978)\nData columns (total 13 columns):\n #   Column             Non-Null Count  Dtype  \n---  ------             --------------  -----  \n 0   X                  17877 non-null  int64  \n 1   Y                  17877 non-null  int64  \n 2   Z                  17877 non-null  int64  \n 3   Point_Source_ID    17877 non-null  int64  \n 4   Scan_Angle_Rank    17877 non-null  int64  \n 5   Flightline_Edge    17877 non-null  int64  \n 6   Scan_Direction     17877 non-null  int64  \n 7   Number_of_Returns  17877 non-null  int64  \n 8   Return_Number      17877 non-null  int64  \n 9   Time               17877 non-null  float64\n 10  Intensity          17877 non-null  int64  \n 11  Classification     17877 non-null  int64  \n 12  Type               17877 non-null  object \ndtypes: float64(1), int64(11), object(1)\nmemory usage: 2.6+ MB\n(17877, 13)\n",
     "output_type": "stream"
    },
    {
     "output_type": "execute_result",
     "execution_count": 2,
     "data": {
      "text/plain": "roof    7000\ndoor    7000\nName: Type, dtype: int64"
     },
     "metadata": {}
    }
   ]
  },
  {
   "cell_type": "markdown",
   "source": "Apply downsampled column to new dataset ",
   "metadata": {
    "tags": [],
    "cell_id": "00003-8afd9bfd-a4e6-4ef0-a0a0-e37c4f38bb6e",
    "deepnote_cell_type": "markdown"
   }
  },
  {
   "cell_type": "code",
   "metadata": {
    "tags": [],
    "cell_id": "00002-a6d3b0c0-0140-4e46-8c5c-0f24c0e84ec4",
    "deepnote_to_be_reexecuted": false,
    "source_hash": "a2b8d65",
    "execution_start": 1622145870835,
    "execution_millis": 6,
    "deepnote_cell_type": "code"
   },
   "source": "#with downsampling, and normalization\nxOld = df_downsampled.drop('Type', axis = 1)\n#print(x)\ny = df_downsampled.Type\n#print(y)\n#print(x.shape,y.shape)\n#print(y.shape)\n\nscaler = preprocessing.StandardScaler().fit(xOld)\nscaler.mean_\nscaler.scale_\nx = scaler.transform(xOld)\n\nx.mean(axis = 0)\nx.std(axis=0)\n\n#print(x.shape)",
   "execution_count": 3,
   "outputs": [
    {
     "output_type": "execute_result",
     "execution_count": 3,
     "data": {
      "text/plain": "array([1., 1., 0., 1., 1., 0., 0., 1., 1., 1., 1., 1.])"
     },
     "metadata": {}
    }
   ]
  },
  {
   "cell_type": "markdown",
   "source": "Train Test Split    ",
   "metadata": {
    "tags": [],
    "cell_id": "00005-481f0552-ab4b-4fd6-a539-c6d606b341fe",
    "deepnote_cell_type": "markdown"
   }
  },
  {
   "cell_type": "code",
   "source": "#Train/Test Split\nx_scaled = preprocessing.scale(x)\nx_train, x_test, y_train, y_test = train_test_split(x_scaled, y, test_size = 0.25, train_size = 0.75)\n\n#print(x_train)\n#Making sure that \ny_train=y_train.astype('str')\ny_test = y_test.astype('str')\nprint(x_train.shape, x_test.shape)\n#print(y_train)",
   "metadata": {
    "tags": [],
    "cell_id": "00005-d5b926a8-d0a3-45ee-91ee-ec7ea0532166",
    "deepnote_to_be_reexecuted": false,
    "source_hash": "281a3797",
    "execution_start": 1622145870835,
    "execution_millis": 6,
    "deepnote_cell_type": "code"
   },
   "outputs": [
    {
     "name": "stdout",
     "text": "(10500, 12) (3500, 12)\n",
     "output_type": "stream"
    }
   ],
   "execution_count": 4
  },
  {
   "cell_type": "markdown",
   "source": "Read CSV #2 - building_02_roof_doors.csv",
   "metadata": {
    "tags": [],
    "cell_id": "00007-25578195-f6bd-4fed-83c2-ae404628c38b",
    "deepnote_cell_type": "markdown"
   }
  },
  {
   "cell_type": "code",
   "source": "#Reading CSV File #2, Building_0000001 txt \ndf_a =  pd.read_csv('building_02_roof_doors.csv',sep = ',',header = 0,names = ['X','Y','Z','Point_Source_ID','Scan_Angle_Rank','Flightline_Edge','Scan_Direction','Number_of_Returns','Return_Number','Time','Intensity','Classification','Type'])\ndf_a1 = df_a.dropna() \ndf_a2 = df_a1.values\n#print(df_a)\ndf_a.info()\n#print(df_a['Z'])\n'''\n#Reading CSV File #2, Building_0000001 txt \ndf_b = pd.read_csv('Buildings_000002.txt',sep = ' ')\ndf_b1 = df_b.dropna() \ndf_b2 = df_b1.values\n'''\n\n#Normalizing two other data sets\n#For building 000001\nx1Old = df_a2[:, :12] \ny1 = df_a2[:, 12] \n\nscaler = preprocessing.StandardScaler().fit(x1Old)\nx1 = scaler.transform(x1Old)\n\nprint(x1)\n'''\n#For building 000002\nx2Old = df_b2[:, :14] \ny2 = df_b2[:, 14] \n\nscaler = preprocessing.StandardScaler().fit(x2Old)\nx2 = scaler.transform(x2Old)\n'''",
   "metadata": {
    "tags": [],
    "cell_id": "00008-8dc50acd-8962-47a7-bc3d-54040f38db06",
    "deepnote_to_be_reexecuted": false,
    "source_hash": "24b2ffc2",
    "execution_start": 1622145870836,
    "execution_millis": 199,
    "deepnote_cell_type": "code"
   },
   "outputs": [
    {
     "name": "stdout",
     "text": "<class 'pandas.core.frame.DataFrame'>\nMultiIndex: 58375 entries, (315714.5031, 234789.8271, 17.40099907) to (315729.582, 234792.1299, 7.62400007)\nData columns (total 13 columns):\n #   Column             Non-Null Count  Dtype  \n---  ------             --------------  -----  \n 0   X                  58375 non-null  int64  \n 1   Y                  58375 non-null  int64  \n 2   Z                  58375 non-null  int64  \n 3   Point_Source_ID    58375 non-null  int64  \n 4   Scan_Angle_Rank    58375 non-null  int64  \n 5   Flightline_Edge    58375 non-null  int64  \n 6   Scan_Direction     58375 non-null  int64  \n 7   Number_of_Returns  58375 non-null  int64  \n 8   Return_Number      58375 non-null  int64  \n 9   Time               58375 non-null  float64\n 10  Intensity          58375 non-null  int64  \n 11  Classification     58375 non-null  int64  \n 12  Type               58375 non-null  object \ndtypes: float64(1), int64(11), object(1)\nmemory usage: 7.5+ MB\n[[-1.13233597e-01  1.13233597e-01  0.00000000e+00 ... -1.07808091e+00\n  -8.41637894e-01  3.28163880e+00]\n [-1.13233597e-01  1.13233597e-01  0.00000000e+00 ... -1.07808082e+00\n   2.11969757e-03  3.28163880e+00]\n [-1.13233597e-01  1.13233597e-01  0.00000000e+00 ... -1.07808082e+00\n  -8.29837088e-01  3.28163880e+00]\n ...\n [ 8.83130120e+00 -8.83130120e+00  0.00000000e+00 ...  1.39740724e+00\n  -9.68110790e-03  3.28163880e+00]\n [ 8.83130120e+00 -8.83130120e+00  0.00000000e+00 ...  1.64341388e+00\n  -1.01274957e+00  3.28163880e+00]\n [ 8.83130120e+00 -8.83130120e+00  0.00000000e+00 ...  1.64341388e+00\n  -9.77347157e-01  3.28163880e+00]]\n",
     "output_type": "stream"
    },
    {
     "output_type": "execute_result",
     "execution_count": 5,
     "data": {
      "text/plain": "'\\n#For building 000002\\nx2Old = df_b2[:, :14] \\ny2 = df_b2[:, 14] \\n\\nscaler = preprocessing.StandardScaler().fit(x2Old)\\nx2 = scaler.transform(x2Old)\\n'"
     },
     "metadata": {}
    }
   ],
   "execution_count": 5
  },
  {
   "cell_type": "code",
   "source": "",
   "metadata": {
    "tags": [],
    "cell_id": "00009-be203144-5036-46f7-85db-1674395c65e5",
    "deepnote_to_be_reexecuted": false,
    "source_hash": "7dbca34c",
    "execution_start": 1622147644970,
    "execution_millis": 3,
    "deepnote_cell_type": "code"
   },
   "outputs": [],
   "execution_count": 36
  },
  {
   "cell_type": "code",
   "source": "forest = RandomForestClassifier(n_estimators=2)\nforest.fit(x_train, y_train)\n\ntrain_rf_predictions = forest.predict(x_train)\ntrain_rf_probs = forest.predict_proba(x_train)[:, 1]\n\ntest_rf_predictions = forest.predict(x_test)\ntest_rf_probs = forest.predict_proba(x_test)[:, 1]\nprint(test_rf_predictions)\nprint(test_rf_probs)\n\n# Calculate roc auc, area under the curve \nroc_value = roc_auc_score(y_test, rf_probs)\nprint(roc_value)",
   "metadata": {
    "tags": [],
    "cell_id": "00009-91828a1f-af8c-4eac-bae3-e17d80608b56",
    "deepnote_to_be_reexecuted": false,
    "source_hash": "1e0fdc6c",
    "execution_start": 1622148281471,
    "execution_millis": 40,
    "deepnote_cell_type": "code"
   },
   "outputs": [
    {
     "name": "stdout",
     "text": "['roof' 'door' 'roof' ... 'door' 'door' 'roof']\n[1. 0. 1. ... 0. 0. 1.]\n1.0\n",
     "output_type": "stream"
    }
   ],
   "execution_count": 58
  },
  {
   "cell_type": "code",
   "source": "num_nodes = [] \nmax_depth = []\nfor ind in forest.estimators_: \n    num_nodes.append(ind.tree_.node_count)\n    max_depth.append(ind.tree_.max_depth)\nprint('Total Tree Nodes:',sum(num_nodes))\nprint('Tree Depth:',max(max_depth))",
   "metadata": {
    "tags": [],
    "cell_id": "00010-475a24ca-43d7-412c-b45c-d142281f4dfe",
    "deepnote_to_be_reexecuted": false,
    "source_hash": "1b695883",
    "execution_start": 1622148283036,
    "execution_millis": 7,
    "deepnote_cell_type": "code"
   },
   "outputs": [
    {
     "name": "stdout",
     "text": "Total Tree Nodes: 16\nTree Depth: 3\n",
     "output_type": "stream"
    }
   ],
   "execution_count": 59
  },
  {
   "cell_type": "code",
   "source": "#Confusion Matrix - Random Forest\n\nnp.set_printoptions(precision=2)\nclass_names = ['Door','Roof']\nclassifier = forest #svm.SVC(probability = False, kernel = 'linear', C = 1).fit(x_train, y_train)\n\n# Plot non-normalized confusion matrix\ntitles_options = [(\"Confusion matrix, without normalization\", None),\n                  (\"Normalized confusion matrix\", 'true')]\nfor title, normalize in titles_options:\n    disp = plot_confusion_matrix(classifier, x1, y1,\n                                 display_labels=class_names,\n                                 cmap=plt.cm.Blues,\n                                 normalize=normalize)\n    disp.ax_.set_title(title)\n\n    print(title)\n    print(disp.confusion_matrix)\n\nplt.show()\n",
   "metadata": {
    "tags": [],
    "cell_id": "00012-f4bd0572-88bd-487d-9c80-157cfc3dd61f",
    "deepnote_to_be_reexecuted": false,
    "source_hash": "3d7d4073",
    "execution_start": 1622148284587,
    "execution_millis": 1230,
    "deepnote_cell_type": "code"
   },
   "outputs": [
    {
     "name": "stdout",
     "text": "Confusion matrix, without normalization\n[[  739     0]\n [    0 57636]]\nNormalized confusion matrix\n[[1. 0.]\n [0. 1.]]\n",
     "output_type": "stream"
    },
    {
     "data": {
      "text/plain": "<Figure size 432x288 with 2 Axes>",
      "image/png": "[encoded data removed]"
     },
     "metadata": {
      "needs_background": "light",
      "image/png": {
       "width": 342,
       "height": 278
      }
     },
     "output_type": "display_data"
    },
    {
     "data": {
      "text/plain": "<Figure size 432x288 with 2 Axes>",
      "image/png": "[encoded data removed]"
     },
     "metadata": {
      "needs_background": "light",
      "image/png": {
       "width": 327,
       "height": 278
      }
     },
     "output_type": "display_data"
    }
   ],
   "execution_count": 60
  },
  {
   "cell_type": "markdown",
   "source": "<a style='text-decoration:none;line-height:16px;display:flex;color:#5B5B62;padding:10px;justify-content:end;' href='https://deepnote.com?utm_source=created-in-deepnote-cell&projectId=22ec9222-3a33-4967-8b6b-eec8dcc0f029' target=\"_blank\">\n<img alt='Created in deepnote.com' style='display:inline;max-height:16px;margin:0px;margin-right:7.5px;' src='data:image/svg+xml;base64,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' > </img>\nCreated in <span style='font-weight:600;margin-left:4px;'>Deepnote</span></a>",
   "metadata": {
    "tags": [],
    "created_in_deepnote_cell": true,
    "deepnote_cell_type": "markdown"
   }
  }
 ],
 "nbformat": 4,
 "nbformat_minor": 2,
 "metadata": {
  "orig_nbformat": 2,
  "deepnote": {
   "is_reactive": false
  },
  "deepnote_notebook_id": "19da3192-3c2a-4260-8b5e-db42047594be",
  "deepnote_execution_queue": []
 }
}