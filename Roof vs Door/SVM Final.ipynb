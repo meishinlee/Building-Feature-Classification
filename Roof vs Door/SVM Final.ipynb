{
 "cells": [
  {
   "cell_type": "code",
   "metadata": {
    "tags": [],
    "cell_id": "00000-f7628961-a6b5-41e8-89b7-b0ec5fee69f8",
    "deepnote_to_be_reexecuted": false,
    "source_hash": "17a4e8ff",
    "execution_start": 1621620190174,
    "execution_millis": 918,
    "deepnote_cell_type": "code"
   },
   "source": "# Import Important Libraries\nfrom sklearn.linear_model import LogisticRegression # importing Sklearn's logistic regression's module\nfrom sklearn import preprocessing, linear_model # preprossing is what we do with the data before we run the learning algorithm\nfrom sklearn.model_selection import train_test_split \nfrom sklearn.metrics import accuracy_score, precision_recall_fscore_support # \nimport numpy as np\nimport pandas as pd\nfrom sklearn.metrics import plot_confusion_matrix\nimport matplotlib.pyplot as plt\nfrom sklearn import svm\n\n",
   "execution_count": null,
   "outputs": []
  },
  {
   "cell_type": "markdown",
   "source": "Read CSV building_117_roof_01_door01_modified.csv",
   "metadata": {
    "tags": [],
    "cell_id": "00001-90b08f5b-1b81-4364-8972-b4ae050b3b91",
    "deepnote_cell_type": "markdown"
   }
  },
  {
   "cell_type": "code",
   "metadata": {
    "tags": [],
    "cell_id": "00001-d3bbe0aa-f290-4d45-8405-0ab88c514b3d",
    "deepnote_to_be_reexecuted": false,
    "source_hash": "f85850bb",
    "execution_start": 1621620191099,
    "execution_millis": 73,
    "deepnote_cell_type": "code"
   },
   "source": "#Reading CSV File, Building_01, which is actually building_0000 \ndf = pd.read_csv('building_117_roof_01_door01_modified.csv', header=0, names = ['X','Y','Z','Point_Source_ID','Scan_Angle_Rank','Flightline_Edge','Scan_Direction','Number_of_Returns','Return_Number','Time','Intensity','Classification','Type'])\n#df1 = df.dropna() \n#df2 = df1.values\ndf.info()\nprint(df.shape)\n#print(df2[:, 14])\nfrom sklearn.utils import resample \ndf_majority = df[df.Type == 'roof']\ndf_minority = df[df.Type == 'door'] \n\n#print(df_majority)\n#downsampling majority class \n\ndf_majority_downsampled = resample(df_majority, replace = False, n_samples = 7000, random_state=123)\n#df_minority_downsampled = resample(df_minority, replace = False, n_samples = 7000, random_state=123)\ndf_minority_upsampled = resample(df_minority, replace = True, n_samples = 7000, random_state=123)\n#df_upsampled = pd.concat([df_majority, df_minority_upsampled])\ndf_downsampled = pd.concat([df_majority_downsampled, df_minority_upsampled])\n\n#display class counts \ndf_downsampled.Type.value_counts()\n",
   "execution_count": null,
   "outputs": [
    {
     "name": "stdout",
     "text": "<class 'pandas.core.frame.DataFrame'>\nMultiIndex: 17877 entries, (315996.748, 234680.7109, 16.31999969) to (315991.964, 234675.4639, 5.33199978)\nData columns (total 13 columns):\n #   Column             Non-Null Count  Dtype  \n---  ------             --------------  -----  \n 0   X                  17877 non-null  int64  \n 1   Y                  17877 non-null  int64  \n 2   Z                  17877 non-null  int64  \n 3   Point_Source_ID    17877 non-null  int64  \n 4   Scan_Angle_Rank    17877 non-null  int64  \n 5   Flightline_Edge    17877 non-null  int64  \n 6   Scan_Direction     17877 non-null  int64  \n 7   Number_of_Returns  17877 non-null  int64  \n 8   Return_Number      17877 non-null  int64  \n 9   Time               17877 non-null  float64\n 10  Intensity          17877 non-null  int64  \n 11  Classification     17877 non-null  int64  \n 12  Type               17877 non-null  object \ndtypes: float64(1), int64(11), object(1)\nmemory usage: 2.6+ MB\n(17877, 13)\n",
     "output_type": "stream"
    },
    {
     "output_type": "execute_result",
     "execution_count": 2,
     "data": {
      "text/plain": "roof    7000\ndoor    7000\nName: Type, dtype: int64"
     },
     "metadata": {}
    }
   ]
  },
  {
   "cell_type": "markdown",
   "source": "Apply downsampled column to new dataset ",
   "metadata": {
    "tags": [],
    "cell_id": "00003-54c87abb-d829-460d-8c14-10c9df64813e",
    "deepnote_cell_type": "markdown"
   }
  },
  {
   "cell_type": "code",
   "metadata": {
    "tags": [],
    "cell_id": "00003-32289c3a-c481-4b6b-9d59-f25deeabc461",
    "deepnote_to_be_reexecuted": false,
    "source_hash": "a2b8d65",
    "execution_start": 1621620191210,
    "execution_millis": 5,
    "deepnote_cell_type": "code"
   },
   "source": "#with downsampling, and normalization\nxOld = df_downsampled.drop('Type', axis = 1)\n#print(x)\ny = df_downsampled.Type\n#print(y)\n#print(x.shape,y.shape)\n#print(y.shape)\n\nscaler = preprocessing.StandardScaler().fit(xOld)\nscaler.mean_\nscaler.scale_\nx = scaler.transform(xOld)\n\nx.mean(axis = 0)\nx.std(axis=0)\n\n#print(x.shape)",
   "execution_count": null,
   "outputs": [
    {
     "output_type": "execute_result",
     "execution_count": 3,
     "data": {
      "text/plain": "array([1., 1., 0., 1., 1., 0., 0., 1., 1., 1., 1., 1.])"
     },
     "metadata": {}
    }
   ]
  },
  {
   "cell_type": "markdown",
   "source": "Train/Test Split",
   "metadata": {
    "tags": [],
    "cell_id": "00005-3233005e-018e-49aa-a064-4dd7c8bd1d96",
    "deepnote_cell_type": "markdown"
   }
  },
  {
   "cell_type": "code",
   "metadata": {
    "tags": [],
    "cell_id": "00005-938b075f-16f5-4e29-b66c-434b87cd0d70",
    "deepnote_to_be_reexecuted": false,
    "source_hash": "281a3797",
    "execution_start": 1621620191210,
    "execution_millis": 5,
    "deepnote_cell_type": "code"
   },
   "source": "#Train/Test Split\nx_scaled = preprocessing.scale(x)\nx_train, x_test, y_train, y_test = train_test_split(x_scaled, y, test_size = 0.25, train_size = 0.75)\n\n#print(x_train)\n#Making sure that \ny_train=y_train.astype('str')\ny_test = y_test.astype('str')\nprint(x_train.shape, x_test.shape)\n#print(y_train)",
   "execution_count": null,
   "outputs": [
    {
     "name": "stdout",
     "text": "(10500, 12) (3500, 12)\n",
     "output_type": "stream"
    }
   ]
  },
  {
   "cell_type": "markdown",
   "source": "Read CSV #2 - building_02_roof_doors.csv",
   "metadata": {
    "tags": [],
    "cell_id": "00005-abeb718c-aae7-4c1f-92eb-fa317ed3b34d",
    "deepnote_cell_type": "markdown"
   }
  },
  {
   "cell_type": "code",
   "metadata": {
    "tags": [],
    "cell_id": "00006-295d4551-575b-4f02-808d-6f821ca9f72d",
    "deepnote_to_be_reexecuted": false,
    "source_hash": "6dda75a4",
    "execution_start": 1621620191254,
    "execution_millis": 92,
    "deepnote_cell_type": "code"
   },
   "source": "#Reading CSV File #2, Building_0000001 txt \ndf_a =  pd.read_csv('building_02_roof_doors.csv',sep = ',',header = 0,names = ['X','Y','Z','Point_Source_ID','Scan_Angle_Rank','Flightline_Edge','Scan_Direction','Number_of_Returns','Return_Number','Time','Intensity','Classification','Type'])\ndf_a1 = df_a.dropna() \ndf_a2 = df_a1.values\n#print(df_a)\ndf_a.info()\n#print(df_a['Z'])\n'''\n#Reading CSV File #2, Building_0000001 txt \ndf_b = pd.read_csv('Buildings_000002.txt',sep = ' ')\ndf_b1 = df_b.dropna() \ndf_b2 = df_b1.values\n'''",
   "execution_count": null,
   "outputs": [
    {
     "name": "stdout",
     "text": "<class 'pandas.core.frame.DataFrame'>\nMultiIndex: 58375 entries, (315714.5031, 234789.8271, 17.40099907) to (315729.582, 234792.1299, 7.62400007)\nData columns (total 13 columns):\n #   Column             Non-Null Count  Dtype  \n---  ------             --------------  -----  \n 0   X                  58375 non-null  int64  \n 1   Y                  58375 non-null  int64  \n 2   Z                  58375 non-null  int64  \n 3   Point_Source_ID    58375 non-null  int64  \n 4   Scan_Angle_Rank    58375 non-null  int64  \n 5   Flightline_Edge    58375 non-null  int64  \n 6   Scan_Direction     58375 non-null  int64  \n 7   Number_of_Returns  58375 non-null  int64  \n 8   Return_Number      58375 non-null  int64  \n 9   Time               58375 non-null  float64\n 10  Intensity          58375 non-null  int64  \n 11  Classification     58375 non-null  int64  \n 12  Type               58375 non-null  object \ndtypes: float64(1), int64(11), object(1)\nmemory usage: 7.5+ MB\n",
     "output_type": "stream"
    },
    {
     "output_type": "execute_result",
     "execution_count": 5,
     "data": {
      "text/plain": "\"\\n#Reading CSV File #2, Building_0000001 txt \\ndf_b = pd.read_csv('Buildings_000002.txt',sep = ' ')\\ndf_b1 = df_b.dropna() \\ndf_b2 = df_b1.values\\n\""
     },
     "metadata": {}
    }
   ]
  },
  {
   "cell_type": "code",
   "metadata": {
    "tags": [],
    "cell_id": "00010-d5189d6b-225f-4e37-8fca-e52f58b14127",
    "deepnote_to_be_reexecuted": false,
    "source_hash": "ebac8a08",
    "execution_start": 1621620191357,
    "execution_millis": 31,
    "deepnote_cell_type": "code"
   },
   "source": "#Normalizing two other data sets\n#For building 000001\nx1Old = df_a2[:, :12] \ny1 = df_a2[:, 12] \n\nscaler = preprocessing.StandardScaler().fit(x1Old)\nx1 = scaler.transform(x1Old)\n'''\n#For building 000002\nx2Old = df_b2[:, :14] \ny2 = df_b2[:, 14] \n\nscaler = preprocessing.StandardScaler().fit(x2Old)\nx2 = scaler.transform(x2Old)\n'''",
   "execution_count": null,
   "outputs": [
    {
     "output_type": "execute_result",
     "execution_count": 6,
     "data": {
      "text/plain": "'\\n#For building 000002\\nx2Old = df_b2[:, :14] \\ny2 = df_b2[:, 14] \\n\\nscaler = preprocessing.StandardScaler().fit(x2Old)\\nx2 = scaler.transform(x2Old)\\n'"
     },
     "metadata": {}
    }
   ]
  },
  {
   "cell_type": "markdown",
   "source": "Linear/Poly/RBF/Sigmoid Kernel ",
   "metadata": {
    "tags": [],
    "cell_id": "00009-a1bc449d-98d4-44b7-a60a-ffd3e7007e5e",
    "deepnote_cell_type": "markdown"
   }
  },
  {
   "cell_type": "code",
   "metadata": {
    "tags": [],
    "cell_id": "00010-4ba1361d-97f2-475f-8d2f-1abd6ecc9025",
    "deepnote_to_be_reexecuted": false,
    "source_hash": "1765d680",
    "execution_start": 1621620191400,
    "execution_millis": 343,
    "deepnote_cell_type": "code"
   },
   "source": "\n#SVM - LINEAR \nfrom sklearn import svm\ncVals = [0.01, 0.1, 1, 10, 100]\n\nacc_train_svm_linear = []\nacc_test_svm_linear = []\n#acc_test_y1_linear = []\n#train\nprint(\"Train Accuracy using a Linear kernel\")\nfor c in cVals: \n    svc_linear = svm.SVC(probability = False, kernel = 'linear', C = c)\n    svc_linear.fit(x_train, y_train)\n\n    yhat_svc_linear_train = svc_linear.predict(x_train)\n    acc_train_linear = np.mean(yhat_svc_linear_train == y_train)\n    acc_train_svm_linear.append(acc_train_linear)\n    print(\"Train Accuracy(c=\" + str(c) + \"):\", acc_train_linear)\n    #print('Train Accuracy = {0:f}'.format(acc_train_linear))\n\n    yhat_linear_building_000001_SVM = svc_linear.predict(x1)\n    acc_linear_building_000001_SVM = np.mean(yhat_linear_building_000001_SVM == y1)\n    print(\"Linear (other building):\",acc_linear_building_000001_SVM)\n#print(\"Train Accuracy: \",acc_train_linear)\n",
   "execution_count": null,
   "outputs": [
    {
     "name": "stdout",
     "text": "Train Accuracy using a Linear kernel\nTrain Accuracy(c=0.01): 1.0\nLinear (other building): 1.0\nTrain Accuracy(c=0.1): 1.0\nLinear (other building): 1.0\nTrain Accuracy(c=1): 1.0\nLinear (other building): 1.0\nTrain Accuracy(c=10): 1.0\nLinear (other building): 1.0\nTrain Accuracy(c=100): 1.0\nLinear (other building): 1.0\n",
     "output_type": "stream"
    }
   ]
  },
  {
   "cell_type": "code",
   "metadata": {
    "tags": [],
    "cell_id": "00011-195e3f00-c975-47ec-9d65-97223b94bef9",
    "deepnote_to_be_reexecuted": false,
    "source_hash": "e8cb453",
    "execution_start": 1621620191757,
    "execution_millis": 8657,
    "deepnote_cell_type": "code"
   },
   "source": "#SVM - POLYNOMIAL\nfrom sklearn import svm\ncVals = [0.01, 0.1, 1, 10, 100]\n\nacc_train_svm_poly = []\nacc_test_svm_poly = []\n#train\nprint(\"Train Accuracy using a Poly kernel\")\nfor c in cVals: \n    svc_poly = svm.SVC(probability = False, kernel = 'poly', C = c)\n    svc_poly.fit(x_train, y_train)\n\n    yhat_svc_poly_train = svc_poly.predict(x_train)\n    acc_train_poly = np.mean(yhat_svc_poly_train == y_train)\n    acc_train_svm_poly.append(acc_train_poly)\n    print(\"Train Accuracy(c=\" + str(c) + \"):\", acc_train_poly)\n    #print('Train Accuracy = {0:f}'.format(acc_train_linear))\n\n    yhat_svc_poly_test = svc_poly.predict(x_test)\n    acc_test_poly = np.mean(yhat_svc_poly_test == y_test)\n    acc_test_svm_poly.append(acc_test_poly)\n    print(\"Test Accuracy (c=\",c,\"): \", acc_test_poly)\n\n    yhat_poly_building_000001_SVM = svc_poly.predict(x1)\n    acc_poly_building_000001_SVM = np.mean(yhat_poly_building_000001_SVM == y1)\n    print(\"POLY (other building):\",acc_poly_building_000001_SVM)\n\n    '''\n    yhat_poly_building_000002_SVM = svc_poly.predict(x2)\n    acc_poly_building_000002_SVM = np.mean(yhat_poly_building_000002_SVM == y2)\n    print(\"POLY (other building):\",acc_poly_building_000002_SVM)\n    '''\n\n#print(\"Train Accuracy: \",acc_train_linear)",
   "execution_count": null,
   "outputs": [
    {
     "name": "stdout",
     "text": "Train Accuracy using a Poly kernel\nTrain Accuracy(c=0.01): 1.0\nTest Accuracy (c= 0.01 ):  1.0\nPOLY (other building): 0.644710920770878\nTrain Accuracy(c=0.1): 1.0\nTest Accuracy (c= 0.1 ):  1.0\nPOLY (other building): 0.9660642398286938\nTrain Accuracy(c=1): 1.0\nTest Accuracy (c= 1 ):  1.0\nPOLY (other building): 0.9721113490364026\nTrain Accuracy(c=10): 1.0\nTest Accuracy (c= 10 ):  1.0\nPOLY (other building): 0.9700042826552463\nTrain Accuracy(c=100): 1.0\nTest Accuracy (c= 100 ):  1.0\nPOLY (other building): 0.9700042826552463\n",
     "output_type": "stream"
    }
   ]
  },
  {
   "cell_type": "code",
   "metadata": {
    "tags": [],
    "cell_id": "00012-e5e6c7bb-d338-4fbe-968a-e330ea04379f",
    "deepnote_to_be_reexecuted": false,
    "source_hash": "2d3e57ad",
    "execution_start": 1621620200415,
    "execution_millis": 16917,
    "deepnote_cell_type": "code"
   },
   "source": "\n#SVM - RBF\nfrom sklearn import svm\ncVals = [0.01, 0.1, 1, 10, 100]\n\nacc_train_svm_rbf = []\nacc_test_svm_rbf = []\n#train\nprint(\"RBF kernel\")\nfor c in cVals: \n    svc_rbf = svm.SVC(probability = False, kernel = 'rbf', C = c)\n    svc_rbf.fit(x_train, y_train)\n\n    yhat_svc_rbf_train = svc_rbf.predict(x_train)\n    acc_train_rbf = np.mean(yhat_svc_rbf_train == y_train)\n    acc_train_svm_rbf.append(acc_train_rbf)\n    print(\"Train Accuracy(c=\" + str(c) + \"):\", acc_train_rbf)\n    #print('Train Accuracy = {0:f}'.format(acc_train_linear))\n\n    yhat_svc_rbf_test = svc_rbf.predict(x_test)\n    acc_test_rbf = np.mean(yhat_svc_rbf_test == y_test)\n    acc_test_svm_rbf.append(acc_test_rbf)\n    print(\"Test Accuracy (c=\",c,\"): \", acc_test_rbf)\n\n    yhat_rbf_building_000001_SVM = svc_rbf.predict(x1)\n    acc_rbf_building_000001_SVM = np.mean(yhat_rbf_building_000001_SVM == y1)\n    print(\"RBF (other building):\",acc_rbf_building_000001_SVM)\n\n    '''\n    yhat_rbf_building_000002_SVM = svc_rbf.predict(x2)\n    acc_rbf_building_000002_SVM = np.mean(yhat_rbf_building_000002_SVM == y2)\n    print(\"RBF (other building):\",acc_rbf_building_000002_SVM)\n    '''\n#print(\"Train Accuracy: \",acc_train_linear)\n",
   "execution_count": null,
   "outputs": [
    {
     "name": "stdout",
     "text": "RBF kernel\nTrain Accuracy(c=0.01): 1.0\nTest Accuracy (c= 0.01 ):  1.0\nRBF (other building): 0.8374475374732334\nTrain Accuracy(c=0.1): 1.0\nTest Accuracy (c= 0.1 ):  1.0\nRBF (other building): 0.7517944325481799\nTrain Accuracy(c=1): 1.0\nTest Accuracy (c= 1 ):  1.0\nRBF (other building): 0.6769336188436831\nTrain Accuracy(c=10): 1.0\nTest Accuracy (c= 10 ):  1.0\nRBF (other building): 0.6770364025695932\nTrain Accuracy(c=100): 1.0\nTest Accuracy (c= 100 ):  1.0\nRBF (other building): 0.6770364025695932\n",
     "output_type": "stream"
    }
   ]
  },
  {
   "cell_type": "code",
   "metadata": {
    "tags": [],
    "cell_id": "00013-76191da9-8d69-45c0-900a-e648b7c3b23a",
    "deepnote_to_be_reexecuted": false,
    "source_hash": "cc00ab07",
    "execution_start": 1621620217339,
    "execution_millis": 3013,
    "deepnote_cell_type": "code"
   },
   "source": "\n#SVM - SIGMOID\nfrom sklearn import svm\ncVals = [0.01, 0.1, 1, 10, 100]\n\nacc_train_svm_sigmoid = []\nacc_test_svm_sigmoid = []\n#train\nprint(\" SIGMOID kernel\")\nfor c in cVals: \n    svc_sigmoid = svm.SVC(probability = False, kernel = 'sigmoid', C = c)\n    svc_sigmoid.fit(x_train, y_train)\n\n    yhat_svc_sigmoid_train = svc_sigmoid.predict(x_train)\n    acc_train_sigmoid = np.mean(yhat_svc_sigmoid_train == y_train)\n    acc_train_svm_sigmoid.append(acc_train_sigmoid)\n    print(\"Train Accuracy(c=\" + str(c) + \"):\", acc_train_sigmoid)\n    #print('Train Accuracy = {0:f}'.format(acc_train_linear))\n\n    \n    yhat_svc_sigmoid_test = svc_sigmoid.predict(x_test)\n    acc_test_sigmoid = np.mean(yhat_svc_sigmoid_test == y_test)\n    acc_test_svm_sigmoid.append(acc_test_sigmoid)\n    print(\"Test Accuracy (c=\",c,\"): \", acc_test_sigmoid)\n    \n#print(\"Train Accuracy: \",acc_train_linear)\n\n\n",
   "execution_count": null,
   "outputs": [
    {
     "name": "stdout",
     "text": " SIGMOID kernel\nTrain Accuracy(c=0.01): 0.9969523809523809\nTest Accuracy (c= 0.01 ):  0.9965714285714286\nTrain Accuracy(c=0.1): 0.9968571428571429\nTest Accuracy (c= 0.1 ):  0.9971428571428571\nTrain Accuracy(c=1): 0.9985714285714286\nTest Accuracy (c= 1 ):  0.9985714285714286\nTrain Accuracy(c=10): 0.9996190476190476\nTest Accuracy (c= 10 ):  0.9994285714285714\nTrain Accuracy(c=100): 0.9987619047619047\nTest Accuracy (c= 100 ):  0.9985714285714286\n",
     "output_type": "stream"
    }
   ]
  },
  {
   "cell_type": "markdown",
   "source": "Confusion Matrices",
   "metadata": {
    "tags": [],
    "cell_id": "00014-bc3894b8-48e3-4ca4-819e-83354a119373",
    "deepnote_cell_type": "markdown"
   }
  },
  {
   "cell_type": "code",
   "metadata": {
    "tags": [],
    "cell_id": "00015-3648f89b-63e9-4237-ab85-d305bd22f0ad",
    "deepnote_to_be_reexecuted": false,
    "source_hash": "3047e101",
    "execution_start": 1621620220356,
    "execution_millis": 1928,
    "deepnote_cell_type": "code"
   },
   "source": "#Confusion Matrix for SVM Poly for train set of Data \n\nnp.set_printoptions(precision=2)\nclass_names = ['Door','Roof']\nclassifier = svm.SVC(probability = False, kernel = 'linear', C = 1).fit(x_train, y_train)\n\n# Plot non-normalized confusion matrix\ntitles_options = [(\"Confusion matrix, without normalization\", None),\n                  (\"Normalized confusion matrix\", 'true')]\nfor title, normalize in titles_options:\n    disp = plot_confusion_matrix(classifier, x1, y1,\n                                 display_labels=class_names,\n                                 cmap=plt.cm.Blues,\n                                 normalize=normalize)\n    disp.ax_.set_title(title)\n\n    print(title)\n    print(disp.confusion_matrix)\n\nplt.show()\n",
   "execution_count": null,
   "outputs": [
    {
     "name": "stdout",
     "text": "Confusion matrix, without normalization\n[[  739     0]\n [    0 57636]]\nNormalized confusion matrix\n[[1. 0.]\n [0. 1.]]\n",
     "output_type": "stream"
    },
    {
     "data": {
      "text/plain": "<Figure size 432x288 with 2 Axes>",
      "image/png": "[encoded data removed]"
     },
     "metadata": {
      "needs_background": "light",
      "image/png": {
       "width": 342,
       "height": 278
      }
     },
     "output_type": "display_data"
    },
    {
     "data": {
      "text/plain": "<Figure size 432x288 with 2 Axes>",
      "image/png": "[encoded data removed]"
     },
     "metadata": {
      "needs_background": "light",
      "image/png": {
       "width": 327,
       "height": 278
      }
     },
     "output_type": "display_data"
    }
   ]
  },
  {
   "cell_type": "code",
   "metadata": {
    "tags": [],
    "cell_id": "00018-5a828092-9695-4aec-9ac3-7d069eb8c73c",
    "deepnote_to_be_reexecuted": false,
    "source_hash": "377c4031",
    "execution_start": 1621620222304,
    "execution_millis": 674,
    "deepnote_cell_type": "code"
   },
   "source": "np.set_printoptions(precision=2)\nclass_names = ['Door','Roof']\nclassifier = svm.SVC(probability = False, kernel = 'linear', C = 1).fit(x_train, y_train)\n\n# Plot non-normalized confusion matrix\ntitles_options = [(\"Confusion matrix, without normalization\", None),\n                  (\"Normalized confusion matrix\", 'true')]\nfor title, normalize in titles_options:\n    disp = plot_confusion_matrix(classifier, x_test, y_test,\n                                 display_labels=class_names,\n                                 cmap=plt.cm.Blues,\n                                 normalize=normalize)\n    disp.ax_.set_title(title)\n\n    print(title)\n    print(disp.confusion_matrix)\n\nplt.show()",
   "execution_count": null,
   "outputs": [
    {
     "name": "stdout",
     "text": "Confusion matrix, without normalization\n[[1739    0]\n [   0 1761]]\nNormalized confusion matrix\n[[1. 0.]\n [0. 1.]]\n",
     "output_type": "stream"
    },
    {
     "data": {
      "text/plain": "<Figure size 432x288 with 2 Axes>",
      "image/png": "[encoded data removed]"
     },
     "metadata": {
      "needs_background": "light",
      "image/png": {
       "width": 336,
       "height": 278
      }
     },
     "output_type": "display_data"
    },
    {
     "data": {
      "text/plain": "<Figure size 432x288 with 2 Axes>",
      "image/png": "[encoded data removed]"
     },
     "metadata": {
      "needs_background": "light",
      "image/png": {
       "width": 327,
       "height": 278
      }
     },
     "output_type": "display_data"
    }
   ]
  },
  {
   "cell_type": "markdown",
   "source": "<a style='text-decoration:none;line-height:16px;display:flex;color:#5B5B62;padding:10px;justify-content:end;' href='https://deepnote.com?utm_source=created-in-deepnote-cell&projectId=22ec9222-3a33-4967-8b6b-eec8dcc0f029' target=\"_blank\">\n<img alt='Created in deepnote.com' style='display:inline;max-height:16px;margin:0px;margin-right:7.5px;' src='data:image/svg+xml;base64,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' > </img>\nCreated in <span style='font-weight:600;margin-left:4px;'>Deepnote</span></a>",
   "metadata": {
    "tags": [],
    "created_in_deepnote_cell": true,
    "deepnote_cell_type": "markdown"
   }
  }
 ],
 "nbformat": 4,
 "nbformat_minor": 2,
 "metadata": {
  "orig_nbformat": 2,
  "deepnote": {
   "is_reactive": false
  },
  "deepnote_notebook_id": "afda96dd-49e4-4da0-b512-2a5c17ee2499",
  "deepnote_execution_queue": []
 }
}