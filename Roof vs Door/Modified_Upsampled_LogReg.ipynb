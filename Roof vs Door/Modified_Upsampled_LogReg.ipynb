{
  "cells": [
    {
      "cell_type": "markdown",
      "source": "Logistic Regression on Building_01 Data from T_315500_234500_NW.bin\n",
      "metadata": {
        "tags": [],
        "cell_id": "00000-47cae6ca-6bee-4944-8e0a-7b5e26ae5144",
        "deepnote_cell_type": "markdown"
      }
    },
    {
      "cell_type": "code",
      "metadata": {
        "tags": [],
        "deepnote_to_be_reexecuted": false,
        "source_hash": "8666179d",
        "execution_millis": 944,
        "cell_id": "00001-8e050240-440e-4930-ba05-8985dc08d05d",
        "execution_start": 1617659262879,
        "deepnote_cell_type": "code"
      },
      "source": "# Import Important Libraries\nfrom sklearn.linear_model import LogisticRegression # importing Sklearn's logistic regression's module\nfrom sklearn import preprocessing, linear_model # preprossing is what we do with the data before we run the learning algorithm\nfrom sklearn.model_selection import train_test_split \nfrom sklearn.metrics import accuracy_score, precision_recall_fscore_support # \nimport numpy as np\nimport pandas as pd\nfrom sklearn.metrics import plot_confusion_matrix\nimport matplotlib.pyplot as plt\n",
      "outputs": [],
      "execution_count": null
    },
    {
      "cell_type": "code",
      "metadata": {
        "tags": [],
        "deepnote_to_be_reexecuted": false,
        "source_hash": "e29bd3f7",
        "execution_millis": 58,
        "cell_id": "00002-c566de42-df6e-4855-a8ec-f93f23ca850f",
        "execution_start": 1617664846915,
        "deepnote_cell_type": "code"
      },
      "source": "#Reading CSV File, Building_01, which is actually building_0000 \ndf = pd.read_csv('building_117_roof_01_door01_modified.csv', names = ['X','Y','Z','R','G','B','Point_Source_ID','Scan_Angle_Rank','Flightline_Edge','Scan_Direction','Number_of_Returns','Return_Number','Time','Intensity','Classification','Type'])\n#df1 = df.dropna() \n#df2 = df1.values\n\n#print(df2[:, 15])\nfrom sklearn.utils import resample \ndf_majority = df[df.Type == 'roof']\ndf_minority = df[df.Type == 'door'] \n\n#print(df_majority)\n#upsampling majority class \n\ndf_minority_upsampled = resample(df_minority, replace = True, n_samples = 17800, random_state=123)\ndf_upsampled = pd.concat([df_majority, df_minority_upsampled])\n\n#display class counts \ndf_upsampled.Type.value_counts()\n",
      "outputs": [
        {
          "output_type": "execute_result",
          "execution_count": 18,
          "data": {
            "text/plain": "door    17800\nroof    17800\nName: Type, dtype: int64"
          },
          "metadata": {}
        }
      ],
      "execution_count": null
    },
    {
      "cell_type": "code",
      "metadata": {
        "tags": [],
        "deepnote_to_be_reexecuted": false,
        "source_hash": "6939a7dd",
        "execution_millis": 1,
        "cell_id": "00003-0eed62b3-7a18-4e65-8a2e-a61471587a72",
        "execution_start": 1617659263941,
        "deepnote_cell_type": "code"
      },
      "source": "#Reading CSV File #1 \ndf_a = pd.read_csv('building_117_roof_01_door01_modified.csv',sep = ',')\ndf_a1 = df_a.dropna() \ndf_a2 = df_a1.values",
      "outputs": [],
      "execution_count": null
    },
    {
      "cell_type": "code",
      "metadata": {
        "tags": [],
        "deepnote_to_be_reexecuted": false,
        "source_hash": "edd31c6e",
        "execution_millis": 8,
        "cell_id": "00004-054cb9cd-53ef-4e30-915e-c1b0a407259a",
        "execution_start": 1617659263977,
        "deepnote_cell_type": "code"
      },
      "source": "#Checking to see if everything is working \n#df.info()\n#df.head(3)\n#classifier_count = df['Classification'].value_counts().to_frame()\n#classifier_count.head(2)\n\ndf_a.info()\n#df_a.head(3)",
      "outputs": [
        {
          "name": "stdout",
          "text": "<class 'pandas.core.frame.DataFrame'>\nRangeIndex: 17877 entries, 0 to 17876\nData columns (total 16 columns):\n #   Column             Non-Null Count  Dtype  \n---  ------             --------------  -----  \n 0   //X                17877 non-null  float64\n 1   Y                  17877 non-null  float64\n 2   Z                  17877 non-null  float64\n 3   R                  17877 non-null  int64  \n 4   G                  17877 non-null  int64  \n 5   B                  17877 non-null  int64  \n 6   Point_Source_ID    17877 non-null  int64  \n 7   Scan_Angle_Rank    17877 non-null  int64  \n 8   Flightline_Edge    17877 non-null  int64  \n 9   Scan_Direction     17877 non-null  int64  \n 10  Number_of_Returns  17877 non-null  int64  \n 11  Return_Number      17877 non-null  int64  \n 12  Time               17877 non-null  float64\n 13  Intensity          17877 non-null  int64  \n 14  Classification     17877 non-null  int64  \n 15  Type               17877 non-null  object \ndtypes: float64(4), int64(11), object(1)\nmemory usage: 2.2+ MB\n",
          "output_type": "stream"
        }
      ],
      "execution_count": null
    },
    {
      "cell_type": "code",
      "metadata": {
        "tags": [],
        "deepnote_to_be_reexecuted": false,
        "source_hash": "23530e93",
        "execution_millis": 7,
        "cell_id": "00005-8c328b3f-93ad-4de0-935b-290096ba0691",
        "execution_start": 1617659263978,
        "deepnote_cell_type": "code"
      },
      "source": "#without upsampling\n#I will use all the attributes (building_000000 CSV)\n#x = df2[:, :14] \n#y = df2[:, 14]\n\n#with upsampling \nx = df_upsampled.drop('Type', axis = 1)\nprint(x)\ny = df_upsampled.Type\nprint(y)\nprint(x.shape,y.shape)",
      "outputs": [
        {
          "name": "stdout",
          "text": "                 X            Y            Z    R   G    B Point_Source_ID  \\\n1       315996.748  234680.7109  16.31999969    0  85  255              11   \n2       315997.038   234681.123  16.55900002    0  85  255              11   \n3       315997.053  234681.2192  16.65299988    0  85  255              11   \n4       315996.703  234681.1348  16.33099937    0  85  255              11   \n5       315996.792  234681.2598  16.39100075    0  85  255              11   \n...            ...          ...          ...  ...  ..  ...             ...   \n17830   315991.923  234675.5391   6.43400002  255   0  255              14   \n17860   315992.027  234674.9658    6.4920001  255   0  255              24   \n17821   315992.058  234675.1909        6.454  255   0  255              13   \n17865    315992.11  234675.1792   4.20699978  255   0  255              24   \n17851  315992.3669  234674.6348   4.93300009  255   0  255              14   \n\n      Scan_Angle_Rank Flightline_Edge Scan_Direction Number_of_Returns  \\\n1                 -17               0              1                 2   \n2                 -17               0              1                 1   \n3                 -17               0              1                 1   \n4                 -17               0              1                 1   \n5                 -17               0              1                 1   \n...               ...             ...            ...               ...   \n17830              32               0              1                 1   \n17860              -9               0              1                 2   \n17821              16               0              1                 1   \n17865              -8               0              1                 2   \n17851              31               0              1                 2   \n\n      Return_Number         Time Intensity Classification  \n1                 1  391878.9846        26              4  \n2                 1  391878.9846        89              4  \n3                 1   391878.994       186              2  \n4                 1  391879.0127        58              2  \n5                 1  391879.0127        46              2  \n...             ...          ...       ...            ...  \n17830             1  392757.1611        45              4  \n17860             1   399144.844        35              4  \n17821             1  392465.3453        55              4  \n17865             2  399144.8342       144              2  \n17851             2  392757.1238        20              4  \n\n[35600 rows x 15 columns]\n1        roof\n2        roof\n3        roof\n4        roof\n5        roof\n         ... \n17830    door\n17860    door\n17821    door\n17865    door\n17851    door\nName: Type, Length: 35600, dtype: object\n(35600, 15) (35600,)\n",
          "output_type": "stream"
        }
      ],
      "execution_count": null
    },
    {
      "cell_type": "code",
      "metadata": {
        "tags": [],
        "cell_id": "00006-be358da8-3e42-446a-8f05-33c63e9884e3",
        "deepnote_to_be_reexecuted": false,
        "source_hash": "532d172d",
        "execution_millis": 61,
        "execution_start": 1617659263983,
        "deepnote_cell_type": "code"
      },
      "source": "#Reading CSV File #2 \ndf_a = pd.read_csv('building_117_roof_01_door01_modified.csv',sep = ',')\ndf_a1 = df_a.dropna() \ndf_a2 = df_a1.values",
      "outputs": [],
      "execution_count": null
    },
    {
      "cell_type": "code",
      "metadata": {
        "tags": [],
        "deepnote_to_be_reexecuted": false,
        "source_hash": "c12db195",
        "execution_millis": 6,
        "cell_id": "00006-9bf517d3-075f-4118-8395-af6b2100b06d",
        "execution_start": 1617659264089,
        "deepnote_cell_type": "code"
      },
      "source": "#For building 000001\nx1 = df_a2[:, :15] \ny1 = df_a2[:, 15] \nprint(x1)",
      "outputs": [
        {
          "name": "stdout",
          "text": "[[315996.748 234680.7109 16.31999969 ... 391878.9846 26 4]\n [315997.038 234681.123 16.55900002 ... 391878.9846 89 4]\n [315997.053 234681.2192 16.65299988 ... 391878.994 186 2]\n ...\n [315991.9821 234675.4819 4.67399979 ... 399971.4797 27 4]\n [315991.974 234675.4609 5.04899979 ... 399971.4797 31 4]\n [315991.964 234675.4639 5.33199978 ... 399971.4797 34 4]]\n",
          "output_type": "stream"
        }
      ],
      "execution_count": null
    },
    {
      "cell_type": "code",
      "metadata": {
        "tags": [],
        "deepnote_to_be_reexecuted": false,
        "source_hash": "c222234f",
        "execution_millis": 4,
        "cell_id": "00007-dc822a24-7b4a-4881-812a-ee75e789c077",
        "execution_start": 1617659264134,
        "deepnote_cell_type": "code"
      },
      "source": "#Train/Test Split\n#print(x)\nx_scaled = preprocessing.scale(x)\n#print(x_scaled)\n#with scaling \nx_train, x_test, y_train, y_test = train_test_split(x_scaled, y, test_size = 0.99, train_size = 0.0001)\n\n#without scaling \nx_train, x_test, y_train, y_test = train_test_split(x, y, test_size = 0.999, train_size = 0.001)\n\n#Making sure that \ny_train=y_train.astype('str')\ny_test = y_test.astype('str')\nprint(x_train.shape, x_test.shape)\n#print(y_train)\n#print(x_train)",
      "outputs": [
        {
          "name": "stdout",
          "text": "(35, 15) (35565, 15)\n",
          "output_type": "stream"
        }
      ],
      "execution_count": null
    },
    {
      "cell_type": "code",
      "metadata": {
        "tags": [],
        "deepnote_to_be_reexecuted": false,
        "source_hash": "1256d81b",
        "execution_millis": 245,
        "cell_id": "00008-edcd90f6-90f5-4832-9bf3-a28e96f3546a",
        "execution_start": 1617659264214,
        "deepnote_cell_type": "code"
      },
      "source": "#Logistic Regression \nlogreg = LogisticRegression(C=1).fit(x_train,y_train)\nyhat_train = logreg.predict(x_train)\nprint(np.unique(yhat_train))\naccuracy_train = accuracy_score(y_train, yhat_train)\nprint(\"Accuracy for Train Data:\",accuracy_train)\n\nyhat_test = logreg.predict(x_test)\naccuracy_test = accuracy_score(y_test, yhat_test)\nprint(\"Accuracy for Test Data:\",accuracy_test)",
      "outputs": [
        {
          "name": "stdout",
          "text": "['door' 'roof']\nAccuracy for Train Data: 1.0\nAccuracy for Test Data: 1.0\n",
          "output_type": "stream"
        }
      ],
      "execution_count": null
    },
    {
      "cell_type": "code",
      "metadata": {
        "tags": [],
        "cell_id": "00010-c1aad73a-ed1e-4629-ac28-c11f1a9c5dfc",
        "deepnote_to_be_reexecuted": false,
        "source_hash": "bf0e81aa",
        "execution_millis": 144,
        "execution_start": 1617659264384,
        "deepnote_cell_type": "code"
      },
      "source": "yhat_building02 = logreg.predict(x1)\nprint(np.unique(yhat_building02))\naccuracy_b02 = accuracy_score(y1, yhat_building02)\nprint(\"Accuracy for Train Data:\",accuracy_b02)",
      "outputs": [
        {
          "name": "stdout",
          "text": "['door' 'roof']\nAccuracy for Train Data: 1.0\n",
          "output_type": "stream"
        }
      ],
      "execution_count": null
    },
    {
      "cell_type": "code",
      "metadata": {
        "tags": [],
        "deepnote_to_be_reexecuted": false,
        "source_hash": "6fc6d3b1",
        "execution_millis": 12,
        "cell_id": "00009-c674ef52-17dd-4fb3-9879-2b54236b0c10",
        "execution_start": 1617659264541,
        "deepnote_cell_type": "code"
      },
      "source": "'''\n#Logistic Regression \nlogreg = linear_model.LogisticRegression(C=10**8) #using a large c value = no regularization\nlogreg.fit(x_train, y_train)\nyhat_train = logreg.predict(x_train)\n#print(yhat_train)\n\n#finding accuracy of applying model on training data\naccuracy_train = accuracy_score(y_train, yhat_train)\nprint(\"Accuracy on train set:\",accuracy_train)\n\n#finding accuracy of applying model on test data \nyhat_test = logreg.predict(x_test)\n#print(yhat_test)\naccuracy_test = accuracy_score(y_test, yhat_test)\nprint(\"Accuracy on test set:\",accuracy_test)\n'''",
      "outputs": [
        {
          "output_type": "execute_result",
          "execution_count": 11,
          "data": {
            "text/plain": "'\\n#Logistic Regression \\nlogreg = linear_model.LogisticRegression(C=10**8) #using a large c value = no regularization\\nlogreg.fit(x_train, y_train)\\nyhat_train = logreg.predict(x_train)\\n#print(yhat_train)\\n\\n#finding accuracy of applying model on training data\\naccuracy_train = accuracy_score(y_train, yhat_train)\\nprint(\"Accuracy on train set:\",accuracy_train)\\n\\n#finding accuracy of applying model on test data \\nyhat_test = logreg.predict(x_test)\\n#print(yhat_test)\\naccuracy_test = accuracy_score(y_test, yhat_test)\\nprint(\"Accuracy on test set:\",accuracy_test)\\n'"
          },
          "metadata": {}
        }
      ],
      "execution_count": null
    },
    {
      "cell_type": "code",
      "metadata": {
        "tags": [],
        "deepnote_to_be_reexecuted": false,
        "source_hash": "f60813cb",
        "execution_millis": 11,
        "cell_id": "00010-ee4e9f15-60cf-4b75-9af3-59b62ab5cec9",
        "execution_start": 1617659264542,
        "deepnote_cell_type": "code"
      },
      "source": "'''\n#finding accuracy of applying model to a different building \nyhat_building_000001 = logreg.predict(x1)\nprint(yhat_building_000001)\naccuracy_building_000001 = accuracy_score(y1, yhat_building_000001)\nprint(\"Accuracy on a different building (01):\",accuracy_building_000001)\n'''",
      "outputs": [
        {
          "output_type": "execute_result",
          "execution_count": 12,
          "data": {
            "text/plain": "'\\n#finding accuracy of applying model to a different building \\nyhat_building_000001 = logreg.predict(x1)\\nprint(yhat_building_000001)\\naccuracy_building_000001 = accuracy_score(y1, yhat_building_000001)\\nprint(\"Accuracy on a different building (01):\",accuracy_building_000001)\\n'"
          },
          "metadata": {}
        }
      ],
      "execution_count": null
    },
    {
      "cell_type": "code",
      "metadata": {
        "tags": [],
        "deepnote_to_be_reexecuted": false,
        "source_hash": "dabcbd69",
        "execution_millis": 12,
        "cell_id": "00011-9e3482f2-ddb6-4c16-9d3d-cf0b6e112721",
        "execution_start": 1617659264544,
        "deepnote_cell_type": "code"
      },
      "source": "#Model Parameters (w/o Regularization)\nw = logreg.coef_ \nintercept = logreg.intercept_\n\nprecision, recall ,fscore,_ = precision_recall_fscore_support(y_train,yhat_train,average='binary',pos_label='roof')\nprint(\"Coefficient:\",w)\nprint(\"Intercept:\",intercept)\nprint(\"Precision:\",precision)\nprint(\"Recall:\",recall)\nprint(\"Fscore:\",fscore)\n",
      "outputs": [
        {
          "name": "stdout",
          "text": "Coefficient: [[-1.53059956e-03  2.14687050e-03  3.73490260e-03 -7.61494109e-02\n   2.53827158e-02 -1.26333735e-06 -2.25246437e-04 -5.88333946e-03\n   0.00000000e+00 -4.95426410e-09 -1.90375097e-04 -1.96017300e-04\n  -3.63217076e-05  2.60378394e-02 -1.56944206e-04]]\nIntercept: [-4.95452662e-09]\nPrecision: 1.0\nRecall: 1.0\nFscore: 1.0\n",
          "output_type": "stream"
        }
      ],
      "execution_count": null
    },
    {
      "cell_type": "code",
      "metadata": {
        "tags": [],
        "deepnote_to_be_reexecuted": false,
        "source_hash": "4a63d691",
        "execution_millis": 908,
        "cell_id": "00012-ead8020d-5d06-4fc4-a055-b762d3117ab2",
        "execution_start": 1617659264613,
        "deepnote_cell_type": "code"
      },
      "source": "#confusion matrices\nnp.set_printoptions(precision=2)\nclass_names = ['roof','door']\nclassifier = linear_model.LogisticRegression(C=10**8).fit(x_train,y_train)\n\n# Plot non-normalized confusion matrix\ntitles_options = [(\"Confusion matrix, without normalization\", None),\n                  (\"Normalized confusion matrix\", 'true')]\nfor title, normalize in titles_options:\n    disp = plot_confusion_matrix(classifier, x_test, y_test,\n                                 display_labels=class_names,\n                                 cmap=plt.cm.Blues,\n                                 normalize=normalize)\n    disp.ax_.set_title(title)\n\n    print(title)\n    print(disp.confusion_matrix)\n\nplt.show()",
      "outputs": [
        {
          "name": "stdout",
          "text": "Confusion matrix, without normalization\n[[17780     0]\n [    0 17785]]\nNormalized confusion matrix\n[[1. 0.]\n [0. 1.]]\n",
          "output_type": "stream"
        },
        {
          "data": {
            "text/plain": "<Figure size 432x288 with 2 Axes>",
            "image/png": "[encoded data removed]"
          },
          "metadata": {
            "needs_background": "light"
          },
          "output_type": "display_data"
        },
        {
          "data": {
            "text/plain": "<Figure size 432x288 with 2 Axes>",
            "image/png": "[encoded data removed]"
          },
          "metadata": {
            "needs_background": "light"
          },
          "output_type": "display_data"
        }
      ],
      "execution_count": null
    },
    {
      "cell_type": "markdown",
      "source": "<a style='text-decoration:none;line-height:16px;display:flex;color:#5B5B62;padding:10px;justify-content:end;' href='https://deepnote.com?utm_source=created-in-deepnote-cell&projectId=22ec9222-3a33-4967-8b6b-eec8dcc0f029' target=\"_blank\">\n<img alt='Created in deepnote.com' style='display:inline;max-height:16px;margin:0px;margin-right:7.5px;' src='data:image/svg+xml;base64,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' > </img>\nCreated in <span style='font-weight:600;margin-left:4px;'>Deepnote</span></a>",
      "metadata": {
        "tags": [],
        "created_in_deepnote_cell": true,
        "deepnote_cell_type": "markdown"
      }
    }
  ],
  "nbformat": 4,
  "nbformat_minor": 2,
  "metadata": {
    "orig_nbformat": 2,
    "deepnote_notebook_id": "7bfd2cc3-e85a-4b88-a031-7e79451c6eb1",
    "deepnote_execution_queue": [],
    "deepnote": {}
  }
}