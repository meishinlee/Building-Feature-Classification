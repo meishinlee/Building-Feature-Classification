{
  "cells": [
    {
      "cell_type": "markdown",
      "source": "Logistic Regression on Building_01 Data from T_315500_234500_NW.bin\n",
      "metadata": {
        "tags": [],
        "cell_id": "00000-f1926bee-1c3f-46d7-b4b4-97dcd562361f",
        "deepnote_cell_type": "markdown"
      }
    },
    {
      "cell_type": "code",
      "metadata": {
        "tags": [],
        "deepnote_to_be_reexecuted": false,
        "source_hash": "8666179d",
        "execution_millis": 1382,
        "cell_id": "00001-c0199920-3282-432e-9b5f-52dbe70a8324",
        "execution_start": 1617726815604,
        "deepnote_cell_type": "code"
      },
      "source": "# Import Important Libraries\nfrom sklearn.linear_model import LogisticRegression # importing Sklearn's logistic regression's module\nfrom sklearn import preprocessing, linear_model # preprossing is what we do with the data before we run the learning algorithm\nfrom sklearn.model_selection import train_test_split \nfrom sklearn.metrics import accuracy_score, precision_recall_fscore_support # \nimport numpy as np\nimport pandas as pd\nfrom sklearn.metrics import plot_confusion_matrix\nimport matplotlib.pyplot as plt\n",
      "outputs": [],
      "execution_count": null
    },
    {
      "cell_type": "code",
      "metadata": {
        "tags": [],
        "deepnote_to_be_reexecuted": false,
        "source_hash": "be8d1a71",
        "execution_millis": 78,
        "cell_id": "00002-7151cf49-2505-4498-b4ba-a9e41164cb75",
        "execution_start": 1617728879470,
        "deepnote_cell_type": "code"
      },
      "source": "#Reading CSV File, Building_01, which is actually building_0000 \ncolsRemove= ['R','B','G']\ndf = pd.read_csv('building_117_roof_01_door01_modified.csv', header=0, names = ['X','Y','Z','R','B','G','Point_Source_ID','Scan_Angle_Rank','Flightline_Edge','Scan_Direction','Number_of_Returns','Return_Number','Time','Intensity','Classification','Type']).drop(colsRemove, axis = 'columns')\n#df1 = df.dropna() \n#df2 = df1.values\n\n#print(df2[:, 15])\nfrom sklearn.utils import resample \ndf_majority = df[df.Type == 'roof']\ndf_minority = df[df.Type == 'door'] \n\n#print(df_majority)\n#upsampling majority class \n\ndf_minority_upsampled = resample(df_minority, replace = True, n_samples = 18800, random_state=123)\ndf_upsampled = pd.concat([df_majority, df_minority_upsampled])\n\n#display class counts \ndf_upsampled.Type.value_counts()\n#df.Type.value_counts()\n#print(df.shape)\n#print(df)",
      "outputs": [
        {
          "output_type": "execute_result",
          "execution_count": 22,
          "data": {
            "text/plain": "door    18800\nroof    17800\nName: Type, dtype: int64"
          },
          "metadata": {}
        }
      ],
      "execution_count": null
    },
    {
      "cell_type": "code",
      "metadata": {
        "tags": [],
        "deepnote_to_be_reexecuted": false,
        "source_hash": "e00d2963",
        "execution_millis": 72,
        "cell_id": "00003-f704f66e-4c0d-487d-9777-7a6dab2220d4",
        "execution_start": 1617726817056,
        "deepnote_cell_type": "code"
      },
      "source": "\n#Reading CSV File #1 \ncolsRemove= ['R','B','G']\ndf_a = pd.read_csv('building_117_roof_01_door01_modified.csv',sep = ',',header=0, names = ['X','Y','Z','R','B','G','Point_Source_ID','Scan_Angle_Rank','Flightline_Edge','Scan_Direction','Number_of_Returns','Return_Number','Time','Intensity','Classification','Type']).drop(colsRemove, axis = 'columns')\ndf_a1 = df_a.dropna() \ndf_a2 = df_a1.values\nprint(df_a2.shape)\nprint(df_a)\n",
      "outputs": [
        {
          "name": "stdout",
          "text": "(17877, 13)\n                 X            Y          Z  Point_Source_ID  Scan_Angle_Rank  \\\n0      315996.7480  234680.7109  16.320000               11              -17   \n1      315997.0380  234681.1230  16.559000               11              -17   \n2      315997.0530  234681.2192  16.653000               11              -17   \n3      315996.7030  234681.1348  16.330999               11              -17   \n4      315996.7920  234681.2598  16.391001               11              -17   \n...            ...          ...        ...              ...              ...   \n17872  315992.0200  234675.3799   4.245000               28               28   \n17873  315991.8521  234675.4741   5.801000               28               28   \n17874  315991.9821  234675.4819   4.674000               28               28   \n17875  315991.9740  234675.4609   5.049000               28               28   \n17876  315991.9640  234675.4639   5.332000               28               28   \n\n       Flightline_Edge  Scan_Direction  Number_of_Returns  Return_Number  \\\n0                    0               1                  2              1   \n1                    0               1                  1              1   \n2                    0               1                  1              1   \n3                    0               1                  1              1   \n4                    0               1                  1              1   \n...                ...             ...                ...            ...   \n17872                0               1                  2              2   \n17873                0               1                  2              1   \n17874                0               1                  2              2   \n17875                0               1                  2              2   \n17876                0               1                  1              1   \n\n              Time  Intensity  Classification  Type  \n0      391878.9846         26               4  roof  \n1      391878.9846         89               4  roof  \n2      391878.9940        186               2  roof  \n3      391879.0127         58               2  roof  \n4      391879.0127         46               2  roof  \n...            ...        ...             ...   ...  \n17872  399971.4797         71               2  door  \n17873  399971.4895         11               4  door  \n17874  399971.4797         27               4  door  \n17875  399971.4797         31               4  door  \n17876  399971.4797         34               4  door  \n\n[17877 rows x 13 columns]\n",
          "output_type": "stream"
        }
      ],
      "execution_count": null
    },
    {
      "cell_type": "code",
      "metadata": {
        "tags": [],
        "deepnote_to_be_reexecuted": false,
        "source_hash": "350eb155",
        "execution_millis": 6,
        "cell_id": "00004-fb115cac-85a7-476c-a63d-dd367be76cb1",
        "execution_start": 1617726950951,
        "deepnote_cell_type": "code"
      },
      "source": "#Checking to see if everything is working \n#df.info()\n#df.head(3)\n#classifier_count = df['Classification'].value_counts().to_frame()\n#classifier_count.head(2)\n\ndf_a.info()\n#df_a.head(3)\n#print(df['Z'])",
      "outputs": [
        {
          "name": "stdout",
          "text": "<class 'pandas.core.frame.DataFrame'>\nRangeIndex: 58375 entries, 0 to 58374\nData columns (total 13 columns):\n #   Column             Non-Null Count  Dtype  \n---  ------             --------------  -----  \n 0   X                  58375 non-null  float64\n 1   Y                  58375 non-null  float64\n 2   Z                  58375 non-null  float64\n 3   Point_Source_ID    58375 non-null  int64  \n 4   Scan_Angle_Rank    58375 non-null  int64  \n 5   Flightline_Edge    58375 non-null  int64  \n 6   Scan_Direction     58375 non-null  int64  \n 7   Number_of_Returns  58375 non-null  int64  \n 8   Return_Number      58375 non-null  int64  \n 9   Time               58375 non-null  float64\n 10  Intensity          58375 non-null  int64  \n 11  Classification     58375 non-null  int64  \n 12  Type               58375 non-null  object \ndtypes: float64(4), int64(8), object(1)\nmemory usage: 5.8+ MB\n",
          "output_type": "stream"
        }
      ],
      "execution_count": null
    },
    {
      "cell_type": "code",
      "metadata": {
        "tags": [],
        "deepnote_to_be_reexecuted": false,
        "source_hash": "23530e93",
        "execution_millis": 114,
        "cell_id": "00005-00de33a1-3ec5-4369-852c-70938d2bb04a",
        "execution_start": 1617726817132,
        "deepnote_cell_type": "code"
      },
      "source": "#without upsampling\n#I will use all the attributes (building_000000 CSV)\n#x = df2[:, :14] \n#y = df2[:, 14]\n\n#with upsampling \nx = df_upsampled.drop('Type', axis = 1)\nprint(x)\ny = df_upsampled.Type\nprint(y)\nprint(x.shape,y.shape)",
      "outputs": [
        {
          "name": "stdout",
          "text": "                X            Y          Z  Point_Source_ID  Scan_Angle_Rank  \\\n0      315996.748  234680.7109  16.320000               11              -17   \n1      315997.038  234681.1230  16.559000               11              -17   \n2      315997.053  234681.2192  16.653000               11              -17   \n3      315996.703  234681.1348  16.330999               11              -17   \n4      315996.792  234681.2598  16.391001               11              -17   \n...           ...          ...        ...              ...              ...   \n17857  315992.311  234674.4160   4.274000               24               -9   \n17855  315993.213  234675.4658   4.189000               14               32   \n17818  315992.158  234675.3032   5.362000               13               16   \n17842  315992.066  234674.9990   6.401000               14               32   \n17847  315992.245  234674.2339   5.904000               14               31   \n\n       Flightline_Edge  Scan_Direction  Number_of_Returns  Return_Number  \\\n0                    0               1                  2              1   \n1                    0               1                  1              1   \n2                    0               1                  1              1   \n3                    0               1                  1              1   \n4                    0               1                  1              1   \n...                ...             ...                ...            ...   \n17857                0               1                  3              3   \n17855                0               1                  2              2   \n17818                0               1                  2              1   \n17842                0               1                  2              1   \n17847                0               1                  1              1   \n\n              Time  Intensity  Classification  \n0      391878.9846         26               4  \n1      391878.9846         89               4  \n2      391878.9940        186               2  \n3      391879.0127         58               2  \n4      391879.0127         46               2  \n...            ...        ...             ...  \n17857  399144.8440         60               2  \n17855  392757.1238         21               2  \n17818  392465.3453         42               4  \n17842  392757.1423         26               4  \n17847  392757.1142         45               4  \n\n[36600 rows x 12 columns]\n0        roof\n1        roof\n2        roof\n3        roof\n4        roof\n         ... \n17857    door\n17855    door\n17818    door\n17842    door\n17847    door\nName: Type, Length: 36600, dtype: object\n(36600, 12) (36600,)\n",
          "output_type": "stream"
        }
      ],
      "execution_count": null
    },
    {
      "cell_type": "code",
      "metadata": {
        "tags": [],
        "deepnote_to_be_reexecuted": false,
        "source_hash": "4fa4310e",
        "execution_millis": 160,
        "cell_id": "00006-4b63b870-0eb6-4baa-ace2-a47ab4a179a8",
        "execution_start": 1617728918601,
        "deepnote_cell_type": "code"
      },
      "source": "\n#Reading CSV File #2 \ncolsRemove= ['R','B','G']\ndf_a = pd.read_csv('building_02_roof_doors.csv',sep = ',',header = 0,names = ['X','Y','Z','R','B','G','Point_Source_ID','Scan_Angle_Rank','Flightline_Edge','Scan_Direction','Number_of_Returns','Return_Number','Time','Intensity','Classification','Type']).drop(colsRemove, axis='columns')\ndf_a1 = df_a.dropna() \ndf_a2 = df_a1.values\nprint(df_a2.shape)\ndf_a.Type.value_counts()\n",
      "outputs": [
        {
          "name": "stdout",
          "text": "(58375, 13)\n",
          "output_type": "stream"
        },
        {
          "output_type": "execute_result",
          "execution_count": 24,
          "data": {
            "text/plain": "roof    57636\ndoor      739\nName: Type, dtype: int64"
          },
          "metadata": {}
        }
      ],
      "execution_count": null
    },
    {
      "cell_type": "code",
      "metadata": {
        "tags": [],
        "deepnote_to_be_reexecuted": false,
        "source_hash": "57e8912c",
        "execution_millis": 7,
        "cell_id": "00007-6dc0bc20-7c76-47ea-85e7-8cd3d90fe51b",
        "execution_start": 1617726817323,
        "deepnote_cell_type": "code"
      },
      "source": "#For building 02\nx1 = df_a2[:, :12]\ny1 = df_a2[:, 12] \nprint(x1)\nprint(y1)",
      "outputs": [
        {
          "name": "stdout",
          "text": "[[315714.5031 234789.8271 17.40099907 ... 392193.224 40 4]\n [315714.5909 234789.9209 17.34700012 ... 392193.2241 183 4]\n [315714.698 234790.0371 17.36100006 ... 392193.2241 42 4]\n ...\n [315730.537 234790.8491 6.1420002 ... 394844.7917 181 4]\n [315729.588 234792.083 7.08599997 ... 395108.2966 11 4]\n [315729.582 234792.1299 7.62400007 ... 395108.2966 17 4]]\n['roof' 'roof' 'roof' ... 'door' 'door' 'door']\n",
          "output_type": "stream"
        }
      ],
      "execution_count": null
    },
    {
      "cell_type": "code",
      "metadata": {
        "tags": [],
        "deepnote_to_be_reexecuted": false,
        "source_hash": "7681eb81",
        "execution_millis": 6,
        "cell_id": "00008-6d8aab45-819f-4687-96ac-aa3a3986711c",
        "execution_start": 1617726817325,
        "deepnote_cell_type": "code"
      },
      "source": "#Train/Test Split\n#print(x)\nx_scaled = preprocessing.scale(x)\n#print(x_scaled)\n#with scaling \nx_train, x_test, y_train, y_test = train_test_split(x_scaled, y, test_size = 0.25, train_size = 0.75)\n\n#without scaling \n#x_train, x_test, y_train, y_test = train_test_split(x, y, test_size = 0.99, train_size = 0.01)\n\n#Making sure that \ny_train=y_train.astype('str')\ny_test = y_test.astype('str')\nprint(x_train.shape, x_test.shape)\nprint(y_train)\nprint(x_train)",
      "outputs": [
        {
          "name": "stdout",
          "text": "(27450, 12) (9150, 12)\n17853    door\n17854    door\n17827    door\n7341     roof\n2239     roof\n         ... \n17836    door\n12712    roof\n17864    door\n17826    door\n17805    door\nName: Type, Length: 27450, dtype: object\n[[ 0.36039917 -0.85070326 -1.11219896 ... -0.65873242 -0.56801353\n  -0.82273879]\n [-0.13476638 -0.97505419 -0.79240082 ... -0.65873242 -0.63456496\n   1.2154526 ]\n [-0.381063   -0.81726795 -0.84153816 ... -0.65872143 -0.56801353\n   1.2154526 ]\n ...\n [-0.27302689 -0.88022594 -1.10814478 ...  1.22244411  0.07531691\n  -0.82273879]\n [-0.3765615  -0.81838839 -0.88694557 ... -0.65872143 -0.629019\n   1.2154526 ]\n [-0.08203446 -0.95047568 -1.07879207 ... -0.74466653  0.18623595\n   1.2154526 ]]\n",
          "output_type": "stream"
        }
      ],
      "execution_count": null
    },
    {
      "cell_type": "code",
      "metadata": {
        "tags": [],
        "deepnote_to_be_reexecuted": false,
        "source_hash": "c5be956f",
        "execution_millis": 394,
        "cell_id": "00009-b5d378ae-3f36-4d87-b17c-930e67c7677a",
        "execution_start": 1617726817332,
        "deepnote_cell_type": "code"
      },
      "source": "#Logistic Regression \nlogreg = LogisticRegression(C=0.0001).fit(x_train,y_train)\nyhat_train = logreg.predict(x_train)\nprint(np.unique(yhat_train))\naccuracy_train = accuracy_score(y_train, yhat_train)\nprint(\"Accuracy for Train Data:\",accuracy_train)\n\nyhat_test = logreg.predict(x_test)\naccuracy_test = accuracy_score(y_test, yhat_test)\nprint(\"Accuracy for Test Data:\",accuracy_test)",
      "outputs": [
        {
          "name": "stdout",
          "text": "['door' 'roof']\nAccuracy for Train Data: 0.9986156648451731\nAccuracy for Test Data: 0.9982513661202186\n",
          "output_type": "stream"
        }
      ],
      "execution_count": null
    },
    {
      "cell_type": "code",
      "metadata": {
        "tags": [],
        "cell_id": "00010-bbad75ba-5732-4082-b252-12a9a9e14eb1",
        "deepnote_to_be_reexecuted": false,
        "source_hash": "be14007f",
        "execution_millis": 935,
        "execution_start": 1617726817628,
        "deepnote_cell_type": "code"
      },
      "source": "#confusion matrices\nnp.set_printoptions(precision=2)\nclass_names = ['door','roof']\nclassifier = linear_model.LogisticRegression(C=10**0).fit(x_train,y_train)\n\n# Plot non-normalized confusion matrix\ntitles_options = [(\"Confusion matrix, without normalization\", None),\n                  (\"Normalized confusion matrix\", 'true')]\nfor title, normalize in titles_options:\n    disp = plot_confusion_matrix(classifier, x_test, y_test,\n                                 display_labels=class_names,\n                                 cmap=plt.cm.Blues,\n                                 normalize=normalize)\n    disp.ax_.set_title(title)\n\n    print(title)\n    print(disp.confusion_matrix)\n\nplt.show()",
      "outputs": [
        {
          "name": "stdout",
          "text": "Confusion matrix, without normalization\n[[4720    0]\n [   0 4430]]\nNormalized confusion matrix\n[[1. 0.]\n [0. 1.]]\n",
          "output_type": "stream"
        },
        {
          "data": {
            "text/plain": "<Figure size 432x288 with 2 Axes>",
            "image/png": "[encoded data removed]"
          },
          "metadata": {
            "needs_background": "light"
          },
          "output_type": "display_data"
        },
        {
          "data": {
            "text/plain": "<Figure size 432x288 with 2 Axes>",
            "image/png": "[encoded data removed]"
          },
          "metadata": {
            "needs_background": "light"
          },
          "output_type": "display_data"
        }
      ],
      "execution_count": null
    },
    {
      "cell_type": "code",
      "metadata": {
        "tags": [],
        "deepnote_to_be_reexecuted": false,
        "source_hash": "109d5bd9",
        "execution_millis": 303,
        "cell_id": "00010-d6794bf9-2235-459f-be23-0d8aa75c96a6",
        "execution_start": 1617726818579,
        "deepnote_cell_type": "code"
      },
      "source": "#reading door/roof csv mixed \nprint(x1)\nyhat_building02 = logreg.predict(x1)\nprint(yhat_building02)\nprint(np.unique(yhat_building02))\naccuracy_b02 = accuracy_score(y1, yhat_building02)\nprint(\"Accuracy for Data:\",accuracy_b02)",
      "outputs": [
        {
          "name": "stdout",
          "text": "[[315714.5031 234789.8271 17.40099907 ... 392193.224 40 4]\n [315714.5909 234789.9209 17.34700012 ... 392193.2241 183 4]\n [315714.698 234790.0371 17.36100006 ... 392193.2241 42 4]\n ...\n [315730.537 234790.8491 6.1420002 ... 394844.7917 181 4]\n [315729.588 234792.083 7.08599997 ... 395108.2966 11 4]\n [315729.582 234792.1299 7.62400007 ... 395108.2966 17 4]]\n['roof' 'roof' 'roof' ... 'roof' 'roof' 'roof']\n['roof']\nAccuracy for Data: 0.9873404710920771\n",
          "output_type": "stream"
        }
      ],
      "execution_count": null
    },
    {
      "cell_type": "code",
      "source": "\n#Reading Door CSV File \ncolsRemove= ['R','B','G']\ndf_b = pd.read_csv('building_02_doors_combined_234500_NW.csv',sep = ',',header = 0,names = ['X','Y','Z','R','B','G','Point_Source_ID','Scan_Angle_Rank','Flightline_Edge','Scan_Direction','Number_of_Returns','Return_Number','Time','Intensity','Classification','Type']).drop(colsRemove, axis='columns')\ndf_b1 = df_b.dropna() \ndf_b2 = df_b1.values\nprint(df_b2.shape)\nx2 = df_b2[:, :12]\ny2 = df_b2[:, 12] \nprint(x2)\nyhat_building03 = logreg.predict(x2)\n#print(yhat_building03)\nprint(np.unique(yhat_building03))\naccuracy_b03 = accuracy_score(y2, yhat_building03)\nprint(\"Accuracy for Data:\",accuracy_b03)\n",
      "metadata": {
        "tags": [],
        "cell_id": "00012-a2224752-be1b-44e5-9992-4e023e9eb804",
        "deepnote_to_be_reexecuted": false,
        "source_hash": "30765479",
        "execution_millis": 23,
        "execution_start": 1617727147025,
        "deepnote_cell_type": "code"
      },
      "outputs": [
        {
          "name": "stdout",
          "text": "(739, 13)\n[[315718.655 234793.021 7.99700022 ... 392193.1866 135 4]\n [315718.719 234793.0811 7.78999996 ... 392193.1866 140 4]\n [315718.812 234793.1812 7.75899982 ... 392193.1867 51 4]\n ...\n [315730.537 234790.8491 6.1420002 ... 394844.7917 181 4]\n [315729.588 234792.083 7.08599997 ... 395108.2966 11 4]\n [315729.582 234792.1299 7.62400007 ... 395108.2966 17 4]]\n['roof']\nAccuracy for Data: 0.0\n",
          "output_type": "stream"
        }
      ],
      "execution_count": null
    },
    {
      "cell_type": "code",
      "metadata": {
        "tags": [],
        "deepnote_to_be_reexecuted": true,
        "source_hash": "6fc6d3b1",
        "execution_millis": 27,
        "cell_id": "00011-5ea4ef02-a121-45c5-98ff-8886549ba562",
        "deepnote_cell_type": "code"
      },
      "source": "'''\n#Logistic Regression \nlogreg = linear_model.LogisticRegression(C=10**8) #using a large c value = no regularization\nlogreg.fit(x_train, y_train)\nyhat_train = logreg.predict(x_train)\n#print(yhat_train)\n\n#finding accuracy of applying model on training data\naccuracy_train = accuracy_score(y_train, yhat_train)\nprint(\"Accuracy on train set:\",accuracy_train)\n\n#finding accuracy of applying model on test data \nyhat_test = logreg.predict(x_test)\n#print(yhat_test)\naccuracy_test = accuracy_score(y_test, yhat_test)\nprint(\"Accuracy on test set:\",accuracy_test)\n'''",
      "execution_count": null,
      "outputs": [
        {
          "output_type": "execute_result",
          "execution_count": 12,
          "data": {
            "text/plain": "'\\n#Logistic Regression \\nlogreg = linear_model.LogisticRegression(C=10**8) #using a large c value = no regularization\\nlogreg.fit(x_train, y_train)\\nyhat_train = logreg.predict(x_train)\\n#print(yhat_train)\\n\\n#finding accuracy of applying model on training data\\naccuracy_train = accuracy_score(y_train, yhat_train)\\nprint(\"Accuracy on train set:\",accuracy_train)\\n\\n#finding accuracy of applying model on test data \\nyhat_test = logreg.predict(x_test)\\n#print(yhat_test)\\naccuracy_test = accuracy_score(y_test, yhat_test)\\nprint(\"Accuracy on test set:\",accuracy_test)\\n'"
          },
          "metadata": {}
        }
      ]
    },
    {
      "cell_type": "code",
      "metadata": {
        "tags": [],
        "deepnote_to_be_reexecuted": true,
        "source_hash": "f60813cb",
        "execution_millis": 22,
        "cell_id": "00012-263b0a8c-d41d-4fb1-966b-da82a6e40eaa",
        "deepnote_cell_type": "code"
      },
      "source": "'''\n#finding accuracy of applying model to a different building \nyhat_building_000001 = logreg.predict(x1)\nprint(yhat_building_000001)\naccuracy_building_000001 = accuracy_score(y1, yhat_building_000001)\nprint(\"Accuracy on a different building (01):\",accuracy_building_000001)\n'''",
      "execution_count": null,
      "outputs": [
        {
          "output_type": "execute_result",
          "execution_count": 13,
          "data": {
            "text/plain": "'\\n#finding accuracy of applying model to a different building \\nyhat_building_000001 = logreg.predict(x1)\\nprint(yhat_building_000001)\\naccuracy_building_000001 = accuracy_score(y1, yhat_building_000001)\\nprint(\"Accuracy on a different building (01):\",accuracy_building_000001)\\n'"
          },
          "metadata": {}
        }
      ]
    },
    {
      "cell_type": "code",
      "metadata": {
        "tags": [],
        "deepnote_to_be_reexecuted": true,
        "source_hash": "dabcbd69",
        "execution_millis": 4972,
        "cell_id": "00013-38a8cf18-a5fe-448d-9281-b8090de2acc6",
        "deepnote_cell_type": "code"
      },
      "source": "#Model Parameters (w/o Regularization)\nw = logreg.coef_ \nintercept = logreg.intercept_\n\nprecision, recall ,fscore,_ = precision_recall_fscore_support(y_train,yhat_train,average='binary',pos_label='roof')\nprint(\"Coefficient:\",w)\nprint(\"Intercept:\",intercept)\nprint(\"Precision:\",precision)\nprint(\"Recall:\",recall)\nprint(\"Fscore:\",fscore)\n",
      "execution_count": null,
      "outputs": [
        {
          "name": "stdout",
          "text": "Coefficient: [[ 0.08  0.47  0.52  0.03 -0.29  0.    0.   -0.18 -0.17  0.05  0.14 -0.21]]\nIntercept: [-0.07]\nPrecision: 1.0\nRecall: 0.9970113568439928\nFscore: 0.9985034420832086\n",
          "output_type": "stream"
        }
      ]
    },
    {
      "cell_type": "code",
      "metadata": {
        "tags": [],
        "deepnote_to_be_reexecuted": true,
        "source_hash": "65b1f1f",
        "execution_millis": 1198,
        "cell_id": "00014-43183e23-77a9-478c-a53f-34a00e2c723c",
        "deepnote_cell_type": "code"
      },
      "source": "#confusion matrices\nnp.set_printoptions(precision=2)\nclass_names = ['door','roof']\nclassifier = linear_model.LogisticRegression(C=10**-5).fit(x_train,y_train)\n\n# Plot non-normalized confusion matrix\ntitles_options = [(\"Confusion matrix, without normalization\", None),\n                  (\"Normalized confusion matrix\", 'true')]\nfor title, normalize in titles_options:\n    disp = plot_confusion_matrix(classifier, x1, y1,\n                                 display_labels=class_names,\n                                 cmap=plt.cm.Blues,\n                                 normalize=normalize)\n    disp.ax_.set_title(title)\n\n    print(title)\n    print(disp.confusion_matrix)\n\nplt.show()",
      "execution_count": null,
      "outputs": [
        {
          "name": "stdout",
          "text": "Confusion matrix, without normalization\n[[    0   739]\n [    0 57636]]\nNormalized confusion matrix\n[[0. 1.]\n [0. 1.]]\n",
          "output_type": "stream"
        },
        {
          "data": {
            "text/plain": "<Figure size 432x288 with 2 Axes>",
            "image/png": "[encoded data removed]"
          },
          "metadata": {
            "needs_background": "light"
          },
          "output_type": "display_data"
        },
        {
          "data": {
            "text/plain": "<Figure size 432x288 with 2 Axes>",
            "image/png": "[encoded data removed]"
          },
          "metadata": {
            "needs_background": "light"
          },
          "output_type": "display_data"
        }
      ]
    },
    {
      "cell_type": "markdown",
      "source": "<a style='text-decoration:none;line-height:16px;display:flex;color:#5B5B62;padding:10px;justify-content:end;' href='https://deepnote.com?utm_source=created-in-deepnote-cell&projectId=22ec9222-3a33-4967-8b6b-eec8dcc0f029' target=\"_blank\">\n<img alt='Created in deepnote.com' style='display:inline;max-height:16px;margin:0px;margin-right:7.5px;' src='data:image/svg+xml;base64,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' > </img>\nCreated in <span style='font-weight:600;margin-left:4px;'>Deepnote</span></a>",
      "metadata": {
        "tags": [],
        "created_in_deepnote_cell": true,
        "deepnote_cell_type": "markdown"
      }
    }
  ],
  "nbformat": 4,
  "nbformat_minor": 2,
  "metadata": {
    "orig_nbformat": 2,
    "deepnote_notebook_id": "4d7471d2-6f18-4af2-b02c-6e6108295555",
    "deepnote_execution_queue": [],
    "deepnote": {}
  }
}