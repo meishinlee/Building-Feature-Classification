{
 "cells": [
  {
   "cell_type": "code",
   "metadata": {
    "tags": [],
    "cell_id": "00000-51107a50-1c3f-4a5d-bdd7-50e37dadae15",
    "deepnote_to_be_reexecuted": false,
    "source_hash": "8666179d",
    "execution_start": 1622178171934,
    "execution_millis": 1674,
    "deepnote_cell_type": "code"
   },
   "source": "# Import Important Libraries\nfrom sklearn.linear_model import LogisticRegression # importing Sklearn's logistic regression's module\nfrom sklearn import preprocessing, linear_model # preprossing is what we do with the data before we run the learning algorithm\nfrom sklearn.model_selection import train_test_split \nfrom sklearn.metrics import accuracy_score, precision_recall_fscore_support # \nimport numpy as np\nimport pandas as pd\nfrom sklearn.metrics import plot_confusion_matrix\nimport matplotlib.pyplot as plt\n",
   "outputs": [],
   "execution_count": null
  },
  {
   "cell_type": "markdown",
   "source": "Up/Down Sampling",
   "metadata": {
    "tags": [],
    "cell_id": "00001-8985b412-99a3-405c-86e3-3b75e32b5100",
    "deepnote_cell_type": "markdown"
   }
  },
  {
   "cell_type": "code",
   "metadata": {
    "tags": [],
    "cell_id": "00001-947b6a17-9ade-419d-936f-432e230e6160",
    "deepnote_to_be_reexecuted": false,
    "source_hash": "6bd7fcd3",
    "execution_start": 1622178173616,
    "execution_millis": 63,
    "deepnote_cell_type": "code"
   },
   "source": "#Reading CSV File, Building_01, which is actually building_0000 \ndf =  pd.read_csv('building_117_roof_01_door01_modified.csv').drop(\"R\",axis=1).drop(\"G\",axis=1).drop(\"B\",axis=1).drop(\"Point_Source_ID\",axis=1)#, header=0, names = ['X','Y','Z','Point_Source_ID','Scan_Angle_Rank','Flightline_Edge','Scan_Direction','Number_of_Returns','Return_Number','Time','Intensity','Classification','Type'])\n#df1 = df.dropna() \n#df2 = df1.values\n\n#print(df2[:, 15])\nfrom sklearn.utils import resample \ndf_majority = df[df.Type == 'roof']\ndf_minority = df[df.Type == 'door'] \n\n#print(df_majority)\n#upsampling majority class \n\ndf_minority_upsampled = resample(df_minority, replace = True, n_samples = 17800, random_state=123)\ndf_upsampled = pd.concat([df_majority, df_minority_upsampled])\n\n#display class counts \ndf_upsampled.Type.value_counts()\n",
   "outputs": [
    {
     "output_type": "execute_result",
     "execution_count": 2,
     "data": {
      "text/plain": "roof    17800\ndoor    17800\nName: Type, dtype: int64"
     },
     "metadata": {}
    }
   ],
   "execution_count": null
  },
  {
   "cell_type": "code",
   "metadata": {
    "tags": [],
    "cell_id": "00003-63c36e64-a6fd-41ca-baa7-a168d1de2d45",
    "deepnote_to_be_reexecuted": false,
    "source_hash": "900a1648",
    "execution_start": 1622178173684,
    "execution_millis": 47,
    "deepnote_cell_type": "code"
   },
   "source": "#Reading CSV File #1 \ndf_a = pd.read_csv('building_117_roof_01_door01_modified.csv',sep = ',').drop(\"R\",axis=1).drop(\"G\",axis=1).drop(\"B\",axis=1).drop(\"Point_Source_ID\",axis=1)\ndf_a1 = df_a.dropna() \ndf_a2 = df_a1.values",
   "outputs": [],
   "execution_count": null
  },
  {
   "cell_type": "markdown",
   "source": "Sanity Check",
   "metadata": {
    "tags": [],
    "cell_id": "00004-350590b5-1dbd-4b04-b34f-0547641003cd",
    "deepnote_cell_type": "markdown"
   }
  },
  {
   "cell_type": "code",
   "metadata": {
    "tags": [],
    "cell_id": "00004-0cdc9bf2-963c-44b9-b5af-b5f6147070fa",
    "deepnote_to_be_reexecuted": false,
    "source_hash": "edd31c6e",
    "execution_start": 1622178173735,
    "execution_millis": 20,
    "deepnote_cell_type": "code"
   },
   "source": "#Checking to see if everything is working \n#df.info()\n#df.head(3)\n#classifier_count = df['Classification'].value_counts().to_frame()\n#classifier_count.head(2)\n\ndf_a.info()\n#df_a.head(3)",
   "outputs": [
    {
     "name": "stdout",
     "text": "<class 'pandas.core.frame.DataFrame'>\nRangeIndex: 17877 entries, 0 to 17876\nData columns (total 12 columns):\n #   Column             Non-Null Count  Dtype  \n---  ------             --------------  -----  \n 0   X                  17877 non-null  float64\n 1   Y                  17877 non-null  float64\n 2   Z                  17877 non-null  float64\n 3   Scan_Angle_Rank    17877 non-null  int64  \n 4   Flightline_Edge    17877 non-null  int64  \n 5   Scan_Direction     17877 non-null  int64  \n 6   Number_of_Returns  17877 non-null  int64  \n 7   Return_Number      17877 non-null  int64  \n 8   Time               17877 non-null  float64\n 9   Intensity          17877 non-null  int64  \n 10  Classification     17877 non-null  int64  \n 11  Type               17877 non-null  object \ndtypes: float64(4), int64(7), object(1)\nmemory usage: 1.6+ MB\n",
     "output_type": "stream"
    }
   ],
   "execution_count": null
  },
  {
   "cell_type": "code",
   "metadata": {
    "tags": [],
    "cell_id": "00006-592f6ad7-6f20-4d02-8e3f-2c80f3ec925e",
    "deepnote_to_be_reexecuted": false,
    "source_hash": "45e8815d",
    "execution_start": 1622178173798,
    "execution_millis": 4,
    "deepnote_cell_type": "code"
   },
   "source": "#without upsampling\n#I will use all the attributes (building_000000 CSV)\n#x = df2[:, :14] \n#y = df2[:, 14]\n\n#with upsampling \nx = df_upsampled.drop('Type', axis = 1)\n#print(x)\ny = df_upsampled.Type\n#print(y)\nprint(x.shape,y.shape)",
   "outputs": [
    {
     "name": "stdout",
     "text": "(35600, 11) (35600,)\n",
     "output_type": "stream"
    }
   ],
   "execution_count": null
  },
  {
   "cell_type": "code",
   "metadata": {
    "tags": [],
    "cell_id": "00007-763fcf01-e1cf-4c67-bc92-5214dafdc5b6",
    "deepnote_to_be_reexecuted": false,
    "source_hash": "56b4b9eb",
    "execution_start": 1622178197113,
    "execution_millis": 160,
    "deepnote_cell_type": "code"
   },
   "source": "#Reading CSV File #2 \ndf_a = pd.read_csv('building_02_roof_doors.csv',sep = ',').drop(\"R\",axis=1).drop(\"G\",axis=1).drop(\"B\",axis=1).drop(\"Point_Source_ID\",axis=1)#,header = 0,names = ['X','Y','Z','Point_Source_ID','Scan_Angle_Rank','Flightline_Edge','Scan_Direction','Number_of_Returns','Return_Number','Time','Intensity','Classification','Type'])\ndf_a1 = df_a.dropna() \ndf_a2 = df_a1.values\nprint(df_a.info())\n#For building 000001\nx1Old = df_a2[:, :11] \ny1 = df_a2[:, 11] \n\nx1 = preprocessing.scale(x1Old)\nprint(x1.std(axis = 0))\n#scaler = preprocessing.StandardScaler().fit(x1Old)\n#x1 = scaler.transform(x1Old)\n\nprint(x1.shape)\nprint(x1)",
   "outputs": [
    {
     "name": "stdout",
     "text": "<class 'pandas.core.frame.DataFrame'>\nRangeIndex: 58375 entries, 0 to 58374\nData columns (total 12 columns):\n #   Column             Non-Null Count  Dtype  \n---  ------             --------------  -----  \n 0   X                  58375 non-null  float64\n 1   Y                  58375 non-null  float64\n 2   Z                  58375 non-null  float64\n 3   Scan_Angle_Rank    58375 non-null  int64  \n 4   Flightline_Edge    58375 non-null  int64  \n 5   Scan_Direction     58375 non-null  int64  \n 6   Number_of_Returns  58375 non-null  int64  \n 7   Return_Number      58375 non-null  int64  \n 8   Time               58375 non-null  float64\n 9   Intensity          58375 non-null  int64  \n 10  Classification     58375 non-null  int64  \n 11  Type               58375 non-null  object \ndtypes: float64(4), int64(7), object(1)\nmemory usage: 5.3+ MB\nNone\n[1. 1. 1. 1. 0. 0. 1. 1. 1. 1. 1.]\n(58375, 11)\n[[-2.30e+00  2.63e-01 -2.04e-01 ... -1.08e+00 -8.42e-01  3.28e+00]\n [-2.28e+00  2.88e-01 -2.39e-01 ... -1.08e+00  2.12e-03  3.28e+00]\n [-2.25e+00  3.18e-01 -2.30e-01 ... -1.08e+00 -8.30e-01  3.28e+00]\n ...\n [ 1.74e+00  5.30e-01 -7.60e+00 ...  1.40e+00 -9.68e-03  3.28e+00]\n [ 1.50e+00  8.51e-01 -6.98e+00 ...  1.64e+00 -1.01e+00  3.28e+00]\n [ 1.50e+00  8.63e-01 -6.62e+00 ...  1.64e+00 -9.77e-01  3.28e+00]]\n",
     "output_type": "stream"
    }
   ],
   "execution_count": null
  },
  {
   "cell_type": "markdown",
   "source": "Test Train Split",
   "metadata": {
    "tags": [],
    "cell_id": "00008-11de9de1-1257-41b5-8201-a2d0a4e8b4a9",
    "deepnote_cell_type": "markdown"
   }
  },
  {
   "cell_type": "code",
   "metadata": {
    "tags": [],
    "cell_id": "00008-967770bc-5d28-450f-a9ef-bbf9676d5103",
    "deepnote_to_be_reexecuted": false,
    "source_hash": "43463c10",
    "execution_start": 1622178173982,
    "execution_millis": 4,
    "deepnote_cell_type": "code"
   },
   "source": "#Train/Test Split\n#print(x)\nx_scaled = preprocessing.scale(x)\n#print(x_scaled)\n#with scaling \nx_train, x_test, y_train, y_test = train_test_split(x_scaled, y, test_size = 0.3, train_size = 0.7)\nprint(x_train)\n\n#without scaling \n#x_train, x_test, y_train, y_test = train_test_split(x, y, test_size = 0.999, train_size = 0.001)\n\n#Making sure that \ny_train=y_train.astype('str')\ny_test = y_test.astype('str')\nprint(x_train.shape, x_test.shape)\n#print(y_train)\n#print(x_train)",
   "outputs": [
    {
     "name": "stdout",
     "text": "[[-0.24229633 -0.87949363 -1.13107031 ... -0.74620582  0.42673594\n  -0.81072716]\n [ 2.09954335  1.41251925  1.36525459 ...  1.33040084 -0.05652318\n   1.23346059]\n [-0.17697366 -1.06933838 -0.86148211 ... -0.74621408 -0.47388332\n   1.23346059]\n ...\n [-0.25816675 -0.86070257 -0.8645622  ... -0.66041138 -0.61117284\n   1.23346059]\n [ 2.19095699  0.17786299  0.86855106 ...  1.33044506 -0.24323692\n  -0.81072716]\n [ 0.24778235 -0.79554602 -1.13609572 ... -0.66041418 -0.46290016\n  -0.81072716]]\n(24920, 11) (10680, 11)\n",
     "output_type": "stream"
    }
   ],
   "execution_count": null
  },
  {
   "cell_type": "code",
   "metadata": {
    "tags": [],
    "cell_id": "00010-a5ad2eaa-abbd-47ce-9765-eaa5b2aa7520",
    "deepnote_to_be_reexecuted": false,
    "source_hash": "1256d81b",
    "execution_start": 1622178174025,
    "execution_millis": 449,
    "deepnote_cell_type": "code"
   },
   "source": "#Logistic Regression \nlogreg = LogisticRegression(C=1).fit(x_train,y_train)\nyhat_train = logreg.predict(x_train)\nprint(np.unique(yhat_train))\naccuracy_train = accuracy_score(y_train, yhat_train)\nprint(\"Accuracy for Train Data:\",accuracy_train)\n\nyhat_test = logreg.predict(x_test)\naccuracy_test = accuracy_score(y_test, yhat_test)\nprint(\"Accuracy for Test Data:\",accuracy_test)",
   "outputs": [
    {
     "name": "stdout",
     "text": "['door' 'roof']\nAccuracy for Train Data: 1.0\nAccuracy for Test Data: 1.0\n",
     "output_type": "stream"
    }
   ],
   "execution_count": null
  },
  {
   "cell_type": "code",
   "metadata": {
    "tags": [],
    "cell_id": "00011-c949f78b-f258-4809-824c-9cc77fed3cfe",
    "deepnote_to_be_reexecuted": false,
    "source_hash": "bf0e81aa",
    "execution_start": 1622178174477,
    "execution_millis": 362,
    "deepnote_cell_type": "code"
   },
   "source": "yhat_building02 = logreg.predict(x1)\nprint(np.unique(yhat_building02))\naccuracy_b02 = accuracy_score(y1, yhat_building02)\nprint(\"Accuracy for Train Data:\",accuracy_b02)",
   "outputs": [
    {
     "name": "stdout",
     "text": "['door' 'roof']\nAccuracy for Train Data: 0.6156573875802998\n",
     "output_type": "stream"
    }
   ],
   "execution_count": null
  },
  {
   "cell_type": "code",
   "metadata": {
    "tags": [],
    "cell_id": "00012-a33bce70-6c5e-425a-9ffe-fe1cff970127",
    "deepnote_to_be_reexecuted": false,
    "source_hash": "dabcbd69",
    "execution_start": 1622178174882,
    "execution_millis": 248,
    "deepnote_cell_type": "code"
   },
   "source": "#Model Parameters (w/o Regularization)\nw = logreg.coef_ \nintercept = logreg.intercept_\n\nprecision, recall ,fscore,_ = precision_recall_fscore_support(y_train,yhat_train,average='binary',pos_label='roof')\nprint(\"Coefficient:\",w)\nprint(\"Intercept:\",intercept)\nprint(\"Precision:\",precision)\nprint(\"Recall:\",recall)\nprint(\"Fscore:\",fscore)\n",
   "outputs": [
    {
     "name": "stdout",
     "text": "Coefficient: [[ 0.18706181  3.20631567  5.23307931 -0.97601052  0.          0.\n  -0.18270968 -0.69439785  0.03371148  0.27111382 -0.82767368]]\nIntercept: [0.57100358]\nPrecision: 1.0\nRecall: 1.0\nFscore: 1.0\n",
     "output_type": "stream"
    }
   ],
   "execution_count": null
  },
  {
   "cell_type": "code",
   "metadata": {
    "tags": [],
    "cell_id": "00013-92da73c6-e417-4b55-b072-b2b759f4721b",
    "deepnote_to_be_reexecuted": false,
    "source_hash": "c13fee19",
    "execution_start": 1622178175185,
    "execution_millis": 1570,
    "deepnote_cell_type": "code"
   },
   "source": "#confusion matrices\nnp.set_printoptions(precision=2)\nclass_names = ['roof','door']\nclassifier = linear_model.LogisticRegression(C=0.01).fit(x_train,y_train)\n\n# Plot non-normalized confusion matrix\ntitles_options = [(\"Confusion matrix, without normalization\", None),\n                  (\"Normalized confusion matrix\", 'true')]\nfor title, normalize in titles_options:\n    disp = plot_confusion_matrix(classifier, x1, y1,\n                                 display_labels=class_names,\n                                 cmap=plt.cm.Blues,\n                                 normalize=normalize)\n    disp.ax_.set_title(title)\n\n    print(title)\n    print(disp.confusion_matrix)\n\nplt.show()",
   "outputs": [
    {
     "name": "stdout",
     "text": "Confusion matrix, without normalization\n[[  739     0]\n [23987 33649]]\nNormalized confusion matrix\n[[1.   0.  ]\n [0.42 0.58]]\n",
     "output_type": "stream"
    },
    {
     "data": {
      "text/plain": "<Figure size 432x288 with 2 Axes>",
      "image/png": "[encoded data removed]"
     },
     "metadata": {
      "needs_background": "light",
      "image/png": {
       "width": 341,
       "height": 278
      }
     },
     "output_type": "display_data"
    },
    {
     "data": {
      "text/plain": "<Figure size 432x288 with 2 Axes>",
      "image/png": "[encoded data removed]"
     },
     "metadata": {
      "needs_background": "light",
      "image/png": {
       "width": 325,
       "height": 278
      }
     },
     "output_type": "display_data"
    }
   ],
   "execution_count": null
  },
  {
   "cell_type": "markdown",
   "source": "<a style='text-decoration:none;line-height:16px;display:flex;color:#5B5B62;padding:10px;justify-content:end;' href='https://deepnote.com?utm_source=created-in-deepnote-cell&projectId=22ec9222-3a33-4967-8b6b-eec8dcc0f029' target=\"_blank\">\n<img alt='Created in deepnote.com' style='display:inline;max-height:16px;margin:0px;margin-right:7.5px;' src='data:image/svg+xml;base64,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' > </img>\nCreated in <span style='font-weight:600;margin-left:4px;'>Deepnote</span></a>",
   "metadata": {
    "tags": [],
    "created_in_deepnote_cell": true,
    "deepnote_cell_type": "markdown"
   }
  }
 ],
 "nbformat": 4,
 "nbformat_minor": 2,
 "metadata": {
  "orig_nbformat": 2,
  "deepnote": {
   "is_reactive": false
  },
  "deepnote_notebook_id": "da36b05b-6360-4c5b-8b44-dbc8876b1969",
  "deepnote_execution_queue": []
 }
}