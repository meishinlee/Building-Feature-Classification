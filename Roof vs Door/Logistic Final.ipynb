{
 "cells": [
  {
   "cell_type": "code",
   "metadata": {
    "tags": [],
    "cell_id": "00000-51107a50-1c3f-4a5d-bdd7-50e37dadae15",
    "deepnote_to_be_reexecuted": false,
    "source_hash": "8666179d",
    "execution_start": 1622137476403,
    "execution_millis": 3853,
    "deepnote_cell_type": "code"
   },
   "source": "# Import Important Libraries\nfrom sklearn.linear_model import LogisticRegression # importing Sklearn's logistic regression's module\nfrom sklearn import preprocessing, linear_model # preprossing is what we do with the data before we run the learning algorithm\nfrom sklearn.model_selection import train_test_split \nfrom sklearn.metrics import accuracy_score, precision_recall_fscore_support # \nimport numpy as np\nimport pandas as pd\nfrom sklearn.metrics import plot_confusion_matrix\nimport matplotlib.pyplot as plt\n",
   "outputs": [],
   "execution_count": null
  },
  {
   "cell_type": "markdown",
   "source": "Up/Down Sampling",
   "metadata": {
    "tags": [],
    "cell_id": "00001-8985b412-99a3-405c-86e3-3b75e32b5100",
    "deepnote_cell_type": "markdown"
   }
  },
  {
   "cell_type": "code",
   "metadata": {
    "tags": [],
    "cell_id": "00001-947b6a17-9ade-419d-936f-432e230e6160",
    "deepnote_to_be_reexecuted": false,
    "source_hash": "e29bd3f7",
    "execution_start": 1622137480282,
    "execution_millis": 403,
    "deepnote_cell_type": "code"
   },
   "source": "#Reading CSV File, Building_01, which is actually building_0000 \ndf = pd.read_csv('building_117_roof_01_door01_modified.csv', names = ['X','Y','Z','R','G','B','Point_Source_ID','Scan_Angle_Rank','Flightline_Edge','Scan_Direction','Number_of_Returns','Return_Number','Time','Intensity','Classification','Type'])\n#df1 = df.dropna() \n#df2 = df1.values\n\n#print(df2[:, 15])\nfrom sklearn.utils import resample \ndf_majority = df[df.Type == 'roof']\ndf_minority = df[df.Type == 'door'] \n\n#print(df_majority)\n#upsampling majority class \n\ndf_minority_upsampled = resample(df_minority, replace = True, n_samples = 17800, random_state=123)\ndf_upsampled = pd.concat([df_majority, df_minority_upsampled])\n\n#display class counts \ndf_upsampled.Type.value_counts()\n",
   "outputs": [
    {
     "output_type": "execute_result",
     "execution_count": 2,
     "data": {
      "text/plain": "roof    17800\ndoor    17800\nName: Type, dtype: int64"
     },
     "metadata": {}
    }
   ],
   "execution_count": null
  },
  {
   "cell_type": "code",
   "metadata": {
    "tags": [],
    "cell_id": "00003-63c36e64-a6fd-41ca-baa7-a168d1de2d45",
    "deepnote_to_be_reexecuted": false,
    "source_hash": "6939a7dd",
    "execution_start": 1622137480670,
    "execution_millis": 29,
    "deepnote_cell_type": "code"
   },
   "source": "#Reading CSV File #1 \ndf_a = pd.read_csv('building_117_roof_01_door01_modified.csv',sep = ',')\ndf_a1 = df_a.dropna() \ndf_a2 = df_a1.values",
   "outputs": [],
   "execution_count": null
  },
  {
   "cell_type": "markdown",
   "source": "Sanity Check",
   "metadata": {
    "tags": [],
    "cell_id": "00004-350590b5-1dbd-4b04-b34f-0547641003cd",
    "deepnote_cell_type": "markdown"
   }
  },
  {
   "cell_type": "code",
   "metadata": {
    "tags": [],
    "cell_id": "00004-0cdc9bf2-963c-44b9-b5af-b5f6147070fa",
    "deepnote_to_be_reexecuted": false,
    "source_hash": "edd31c6e",
    "execution_start": 1622137480715,
    "execution_millis": 43,
    "deepnote_cell_type": "code"
   },
   "source": "#Checking to see if everything is working \n#df.info()\n#df.head(3)\n#classifier_count = df['Classification'].value_counts().to_frame()\n#classifier_count.head(2)\n\ndf_a.info()\n#df_a.head(3)",
   "outputs": [
    {
     "name": "stdout",
     "text": "<class 'pandas.core.frame.DataFrame'>\nRangeIndex: 17877 entries, 0 to 17876\nData columns (total 16 columns):\n #   Column             Non-Null Count  Dtype  \n---  ------             --------------  -----  \n 0   X                  17877 non-null  float64\n 1   Y                  17877 non-null  float64\n 2   Z                  17877 non-null  float64\n 3   R                  17877 non-null  int64  \n 4   G                  17877 non-null  int64  \n 5   B                  17877 non-null  int64  \n 6   Point_Source_ID    17877 non-null  int64  \n 7   Scan_Angle_Rank    17877 non-null  int64  \n 8   Flightline_Edge    17877 non-null  int64  \n 9   Scan_Direction     17877 non-null  int64  \n 10  Number_of_Returns  17877 non-null  int64  \n 11  Return_Number      17877 non-null  int64  \n 12  Time               17877 non-null  float64\n 13  Intensity          17877 non-null  int64  \n 14  Classification     17877 non-null  int64  \n 15  Type               17877 non-null  object \ndtypes: float64(4), int64(11), object(1)\nmemory usage: 2.2+ MB\n",
     "output_type": "stream"
    }
   ],
   "execution_count": null
  },
  {
   "cell_type": "code",
   "metadata": {
    "tags": [],
    "cell_id": "00006-592f6ad7-6f20-4d02-8e3f-2c80f3ec925e",
    "deepnote_to_be_reexecuted": false,
    "source_hash": "23530e93",
    "execution_start": 1622137480799,
    "execution_millis": 76,
    "deepnote_cell_type": "code"
   },
   "source": "#without upsampling\n#I will use all the attributes (building_000000 CSV)\n#x = df2[:, :14] \n#y = df2[:, 14]\n\n#with upsampling \nx = df_upsampled.drop('Type', axis = 1)\nprint(x)\ny = df_upsampled.Type\nprint(y)\nprint(x.shape,y.shape)",
   "outputs": [
    {
     "name": "stdout",
     "text": "                 X            Y            Z    R   G    B Point_Source_ID  \\\n1       315996.748  234680.7109  16.31999969    0  85  255              11   \n2       315997.038   234681.123  16.55900002    0  85  255              11   \n3       315997.053  234681.2192  16.65299988    0  85  255              11   \n4       315996.703  234681.1348  16.33099937    0  85  255              11   \n5       315996.792  234681.2598  16.39100075    0  85  255              11   \n...            ...          ...          ...  ...  ..  ...             ...   \n17830   315991.923  234675.5391   6.43400002  255   0  255              14   \n17860   315992.027  234674.9658    6.4920001  255   0  255              24   \n17821   315992.058  234675.1909        6.454  255   0  255              13   \n17865    315992.11  234675.1792   4.20699978  255   0  255              24   \n17851  315992.3669  234674.6348   4.93300009  255   0  255              14   \n\n      Scan_Angle_Rank Flightline_Edge Scan_Direction Number_of_Returns  \\\n1                 -17               0              1                 2   \n2                 -17               0              1                 1   \n3                 -17               0              1                 1   \n4                 -17               0              1                 1   \n5                 -17               0              1                 1   \n...               ...             ...            ...               ...   \n17830              32               0              1                 1   \n17860              -9               0              1                 2   \n17821              16               0              1                 1   \n17865              -8               0              1                 2   \n17851              31               0              1                 2   \n\n      Return_Number         Time Intensity Classification  \n1                 1  391878.9846        26              4  \n2                 1  391878.9846        89              4  \n3                 1   391878.994       186              2  \n4                 1  391879.0127        58              2  \n5                 1  391879.0127        46              2  \n...             ...          ...       ...            ...  \n17830             1  392757.1611        45              4  \n17860             1   399144.844        35              4  \n17821             1  392465.3453        55              4  \n17865             2  399144.8342       144              2  \n17851             2  392757.1238        20              4  \n\n[35600 rows x 15 columns]\n1        roof\n2        roof\n3        roof\n4        roof\n5        roof\n         ... \n17830    door\n17860    door\n17821    door\n17865    door\n17851    door\nName: Type, Length: 35600, dtype: object\n(35600, 15) (35600,)\n",
     "output_type": "stream"
    }
   ],
   "execution_count": null
  },
  {
   "cell_type": "code",
   "metadata": {
    "tags": [],
    "cell_id": "00007-763fcf01-e1cf-4c67-bc92-5214dafdc5b6",
    "deepnote_to_be_reexecuted": false,
    "source_hash": "c185f12a",
    "execution_start": 1622137480870,
    "execution_millis": 180,
    "deepnote_cell_type": "code"
   },
   "source": "#Reading CSV File #2 \ndf_a = pd.read_csv('building_117_roof_01_door01_modified.csv',sep = ',')\ndf_a1 = df_a.dropna() \ndf_a2 = df_a1.values\n\n#For building 000001\nx1Old = df_a2[:, :15] \ny1 = df_a2[:, 15] \n\nx1 = preprocessing.scale(x1Old)\nprint(x1.std(axis = 0))\n#scaler = preprocessing.StandardScaler().fit(x1Old)\n#x1 = scaler.transform(x1Old)\n\nprint(x1)",
   "outputs": [
    {
     "name": "stdout",
     "text": "[1. 1. 1. 1. 1. 0. 1. 1. 0. 0. 1. 1. 1. 1. 1.]\n[[  1.81734729  -1.51100875  -0.8295153  ...  -0.98972277  -0.7655411\n    2.49870307]\n [  1.95094453  -1.37886651  -0.62032097 ...  -0.98972277  -0.48936977\n    2.49870307]\n [  1.95785474  -1.34801943  -0.53804394 ...  -0.98972016  -0.06415359\n   -0.40020762]\n ...\n [ -0.37820822  -3.18771777 -11.02312922 ...   1.25989259  -0.76115743\n    2.49870307]\n [ -0.38193972  -3.19445154 -10.6948959  ...   1.25989259  -0.74362274\n    2.49870307]\n [ -0.38654653  -3.19348958 -10.44718916 ...   1.25989259  -0.73047173\n    2.49870307]]\n",
     "output_type": "stream"
    }
   ],
   "execution_count": null
  },
  {
   "cell_type": "markdown",
   "source": "Test Train Split",
   "metadata": {
    "tags": [],
    "cell_id": "00008-11de9de1-1257-41b5-8201-a2d0a4e8b4a9",
    "deepnote_cell_type": "markdown"
   }
  },
  {
   "cell_type": "code",
   "metadata": {
    "tags": [],
    "cell_id": "00008-967770bc-5d28-450f-a9ef-bbf9676d5103",
    "deepnote_to_be_reexecuted": false,
    "source_hash": "43463c10",
    "execution_start": 1622137481244,
    "execution_millis": 86,
    "deepnote_cell_type": "code"
   },
   "source": "#Train/Test Split\n#print(x)\nx_scaled = preprocessing.scale(x)\n#print(x_scaled)\n#with scaling \nx_train, x_test, y_train, y_test = train_test_split(x_scaled, y, test_size = 0.3, train_size = 0.7)\nprint(x_train)\n\n#without scaling \n#x_train, x_test, y_train, y_test = train_test_split(x, y, test_size = 0.999, train_size = 0.001)\n\n#Making sure that \ny_train=y_train.astype('str')\ny_test = y_test.astype('str')\nprint(x_train.shape, x_test.shape)\n#print(y_train)\n#print(x_train)",
   "outputs": [
    {
     "name": "stdout",
     "text": "[[-0.18452799 -1.06777689 -0.81625358 ... -0.66042244 -0.41896751\n   1.23346059]\n [-0.15596122  0.63179404  1.05335585 ...  1.21756824  0.66836549\n  -0.81072716]\n [-0.08111631 -0.98988004 -0.98533379 ... -0.66041961 -0.45740857\n   1.23346059]\n ...\n [-0.27149791 -0.86884714 -0.95015602 ... -0.66041138 -0.51232438\n   1.23346059]\n [ 2.15420109  0.84188487  1.37660221 ... -0.91853363  1.8106143\n  -0.81072716]\n [ 0.42299182  0.38192081  1.09226211 ...  1.33048928 -0.11143898\n  -0.81072716]]\n(24920, 15) (10680, 15)\n",
     "output_type": "stream"
    }
   ],
   "execution_count": null
  },
  {
   "cell_type": "code",
   "metadata": {
    "tags": [],
    "cell_id": "00010-a5ad2eaa-abbd-47ce-9765-eaa5b2aa7520",
    "deepnote_to_be_reexecuted": false,
    "source_hash": "1256d81b",
    "execution_start": 1622137481437,
    "execution_millis": 676,
    "deepnote_cell_type": "code"
   },
   "source": "#Logistic Regression \nlogreg = LogisticRegression(C=1).fit(x_train,y_train)\nyhat_train = logreg.predict(x_train)\nprint(np.unique(yhat_train))\naccuracy_train = accuracy_score(y_train, yhat_train)\nprint(\"Accuracy for Train Data:\",accuracy_train)\n\nyhat_test = logreg.predict(x_test)\naccuracy_test = accuracy_score(y_test, yhat_test)\nprint(\"Accuracy for Test Data:\",accuracy_test)",
   "outputs": [
    {
     "name": "stdout",
     "text": "['door' 'roof']\nAccuracy for Train Data: 1.0\nAccuracy for Test Data: 1.0\n",
     "output_type": "stream"
    }
   ],
   "execution_count": null
  },
  {
   "cell_type": "code",
   "metadata": {
    "tags": [],
    "cell_id": "00011-c949f78b-f258-4809-824c-9cc77fed3cfe",
    "deepnote_to_be_reexecuted": false,
    "source_hash": "bf0e81aa",
    "execution_start": 1622137482101,
    "execution_millis": 303,
    "deepnote_cell_type": "code"
   },
   "source": "yhat_building02 = logreg.predict(x1)\nprint(np.unique(yhat_building02))\naccuracy_b02 = accuracy_score(y1, yhat_building02)\nprint(\"Accuracy for Train Data:\",accuracy_b02)",
   "outputs": [
    {
     "name": "stdout",
     "text": "['door' 'roof']\nAccuracy for Train Data: 0.6044638362141299\n",
     "output_type": "stream"
    }
   ],
   "execution_count": null
  },
  {
   "cell_type": "code",
   "metadata": {
    "tags": [],
    "cell_id": "00012-a33bce70-6c5e-425a-9ffe-fe1cff970127",
    "deepnote_to_be_reexecuted": false,
    "source_hash": "dabcbd69",
    "execution_start": 1622137482468,
    "execution_millis": 539,
    "deepnote_cell_type": "code"
   },
   "source": "#Model Parameters (w/o Regularization)\nw = logreg.coef_ \nintercept = logreg.intercept_\n\nprecision, recall ,fscore,_ = precision_recall_fscore_support(y_train,yhat_train,average='binary',pos_label='roof')\nprint(\"Coefficient:\",w)\nprint(\"Intercept:\",intercept)\nprint(\"Precision:\",precision)\nprint(\"Recall:\",recall)\nprint(\"Fscore:\",fscore)\n",
   "outputs": [
    {
     "name": "stdout",
     "text": "Coefficient: [[ 0.17058454  1.70412662  2.32863029 -2.38303617  2.38303617  0.\n   0.0296442  -0.69545643  0.          0.         -0.26705764 -0.43291593\n   0.07038254  0.21361828 -0.48413708]]\nIntercept: [0.13510309]\nPrecision: 1.0\nRecall: 1.0\nFscore: 1.0\n",
     "output_type": "stream"
    }
   ],
   "execution_count": null
  },
  {
   "cell_type": "code",
   "metadata": {
    "tags": [],
    "cell_id": "00013-92da73c6-e417-4b55-b072-b2b759f4721b",
    "deepnote_to_be_reexecuted": false,
    "source_hash": "c13fee19",
    "execution_start": 1622137483015,
    "execution_millis": 2448,
    "deepnote_cell_type": "code"
   },
   "source": "#confusion matrices\nnp.set_printoptions(precision=2)\nclass_names = ['roof','door']\nclassifier = linear_model.LogisticRegression(C=0.01).fit(x_train,y_train)\n\n# Plot non-normalized confusion matrix\ntitles_options = [(\"Confusion matrix, without normalization\", None),\n                  (\"Normalized confusion matrix\", 'true')]\nfor title, normalize in titles_options:\n    disp = plot_confusion_matrix(classifier, x1, y1,\n                                 display_labels=class_names,\n                                 cmap=plt.cm.Blues,\n                                 normalize=normalize)\n    disp.ax_.set_title(title)\n\n    print(title)\n    print(disp.confusion_matrix)\n\nplt.show()",
   "outputs": [
    {
     "name": "stdout",
     "text": "Confusion matrix, without normalization\n[[   77     0]\n [ 7358 10442]]\nNormalized confusion matrix\n[[1.   0.  ]\n [0.41 0.59]]\n",
     "output_type": "stream"
    },
    {
     "data": {
      "text/plain": "<Figure size 432x288 with 2 Axes>",
      "image/png": "[encoded data removed]"
     },
     "metadata": {
      "needs_background": "light",
      "image/png": {
       "width": 341,
       "height": 278
      }
     },
     "output_type": "display_data"
    },
    {
     "data": {
      "text/plain": "<Figure size 432x288 with 2 Axes>",
      "image/png": "[encoded data removed]"
     },
     "metadata": {
      "needs_background": "light",
      "image/png": {
       "width": 325,
       "height": 278
      }
     },
     "output_type": "display_data"
    }
   ],
   "execution_count": null
  },
  {
   "cell_type": "markdown",
   "source": "<a style='text-decoration:none;line-height:16px;display:flex;color:#5B5B62;padding:10px;justify-content:end;' href='https://deepnote.com?utm_source=created-in-deepnote-cell&projectId=22ec9222-3a33-4967-8b6b-eec8dcc0f029' target=\"_blank\">\n<img alt='Created in deepnote.com' style='display:inline;max-height:16px;margin:0px;margin-right:7.5px;' src='data:image/svg+xml;base64,PD94bWwgdmVyc2lvbj0iMS4wIiBlbmNvZGluZz0iVVRGLTgiPz4KPHN2ZyB3aWR0aD0iODBweCIgaGVpZ2h0PSI4MHB4IiB2aWV3Qm94PSIwIDAgODAgODAiIHZlcnNpb249IjEuMSIgeG1sbnM9Imh0dHA6Ly93d3cudzMub3JnLzIwMDAvc3ZnIiB4bWxuczp4bGluaz0iaHR0cDovL3d3dy53My5vcmcvMTk5OS94bGluayI+CiAgICA8IS0tIEdlbmVyYXRvcjogU2tldGNoIDU0LjEgKDc2NDkwKSAtIGh0dHBzOi8vc2tldGNoYXBwLmNvbSAtLT4KICAgIDx0aXRsZT5Hcm91cCAzPC90aXRsZT4KICAgIDxkZXNjPkNyZWF0ZWQgd2l0aCBTa2V0Y2guPC9kZXNjPgogICAgPGcgaWQ9IkxhbmRpbmciIHN0cm9rZT0ibm9uZSIgc3Ryb2tlLXdpZHRoPSIxIiBmaWxsPSJub25lIiBmaWxsLXJ1bGU9ImV2ZW5vZGQiPgogICAgICAgIDxnIGlkPSJBcnRib2FyZCIgdHJhbnNmb3JtPSJ0cmFuc2xhdGUoLTEyMzUuMDAwMDAwLCAtNzkuMDAwMDAwKSI+CiAgICAgICAgICAgIDxnIGlkPSJHcm91cC0zIiB0cmFuc2Zvcm09InRyYW5zbGF0ZSgxMjM1LjAwMDAwMCwgNzkuMDAwMDAwKSI+CiAgICAgICAgICAgICAgICA8cG9seWdvbiBpZD0iUGF0aC0yMCIgZmlsbD0iIzAyNjVCNCIgcG9pbnRzPSIyLjM3NjIzNzYyIDgwIDM4LjA0NzY2NjcgODAgNTcuODIxNzgyMiA3My44MDU3NTkyIDU3LjgyMTc4MjIgMzIuNzU5MjczOSAzOS4xNDAyMjc4IDMxLjY4MzE2ODMiPjwvcG9seWdvbj4KICAgICAgICAgICAgICAgIDxwYXRoIGQ9Ik0zNS4wMDc3MTgsODAgQzQyLjkwNjIwMDcsNzYuNDU0OTM1OCA0Ny41NjQ5MTY3LDcxLjU0MjI2NzEgNDguOTgzODY2LDY1LjI2MTk5MzkgQzUxLjExMjI4OTksNTUuODQxNTg0MiA0MS42NzcxNzk1LDQ5LjIxMjIyODQgMjUuNjIzOTg0Niw0OS4yMTIyMjg0IEMyNS40ODQ5Mjg5LDQ5LjEyNjg0NDggMjkuODI2MTI5Niw0My4yODM4MjQ4IDM4LjY0NzU4NjksMzEuNjgzMTY4MyBMNzIuODcxMjg3MSwzMi41NTQ0MjUgTDY1LjI4MDk3Myw2Ny42NzYzNDIxIEw1MS4xMTIyODk5LDc3LjM3NjE0NCBMMzUuMDA3NzE4LDgwIFoiIGlkPSJQYXRoLTIyIiBmaWxsPSIjMDAyODY4Ij48L3BhdGg+CiAgICAgICAgICAgICAgICA8cGF0aCBkPSJNMCwzNy43MzA0NDA1IEwyNy4xMTQ1MzcsMC4yNTcxMTE0MzYgQzYyLjM3MTUxMjMsLTEuOTkwNzE3MDEgODAsMTAuNTAwMzkyNyA4MCwzNy43MzA0NDA1IEM4MCw2NC45NjA0ODgyIDY0Ljc3NjUwMzgsNzkuMDUwMzQxNCAzNC4zMjk1MTEzLDgwIEM0Ny4wNTUzNDg5LDc3LjU2NzA4MDggNTMuNDE4MjY3Nyw3MC4zMTM2MTAzIDUzLjQxODI2NzcsNTguMjM5NTg4NSBDNTMuNDE4MjY3Nyw0MC4xMjg1NTU3IDM2LjMwMzk1NDQsMzcuNzMwNDQwNSAyNS4yMjc0MTcsMzcuNzMwNDQwNSBDMTcuODQzMDU4NiwzNy43MzA0NDA1IDkuNDMzOTE5NjYsMzcuNzMwNDQwNSAwLDM3LjczMDQ0MDUgWiIgaWQ9IlBhdGgtMTkiIGZpbGw9IiMzNzkzRUYiPjwvcGF0aD4KICAgICAgICAgICAgPC9nPgogICAgICAgIDwvZz4KICAgIDwvZz4KPC9zdmc+' > </img>\nCreated in <span style='font-weight:600;margin-left:4px;'>Deepnote</span></a>",
   "metadata": {
    "tags": [],
    "created_in_deepnote_cell": true,
    "deepnote_cell_type": "markdown"
   }
  }
 ],
 "nbformat": 4,
 "nbformat_minor": 2,
 "metadata": {
  "orig_nbformat": 2,
  "deepnote": {
   "is_reactive": false
  },
  "deepnote_notebook_id": "da36b05b-6360-4c5b-8b44-dbc8876b1969",
  "deepnote_execution_queue": []
 }
}