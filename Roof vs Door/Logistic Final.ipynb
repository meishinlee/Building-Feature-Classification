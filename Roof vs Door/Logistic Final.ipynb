{
 "cells": [
  {
   "cell_type": "code",
   "metadata": {
    "tags": [],
    "cell_id": "00000-51107a50-1c3f-4a5d-bdd7-50e37dadae15",
    "deepnote_to_be_reexecuted": false,
    "source_hash": "8666179d",
    "execution_start": 1622797897290,
    "execution_millis": 1569,
    "deepnote_cell_type": "code"
   },
   "source": "# Import Important Libraries\nfrom sklearn.linear_model import LogisticRegression # importing Sklearn's logistic regression's module\nfrom sklearn import preprocessing, linear_model # preprossing is what we do with the data before we run the learning algorithm\nfrom sklearn.model_selection import train_test_split \nfrom sklearn.metrics import accuracy_score, precision_recall_fscore_support # \nimport numpy as np\nimport pandas as pd\nfrom sklearn.metrics import plot_confusion_matrix\nimport matplotlib.pyplot as plt\n",
   "outputs": [],
   "execution_count": null
  },
  {
   "cell_type": "markdown",
   "source": "Up/Down Sampling",
   "metadata": {
    "tags": [],
    "cell_id": "00001-8985b412-99a3-405c-86e3-3b75e32b5100",
    "deepnote_cell_type": "markdown"
   }
  },
  {
   "cell_type": "code",
   "source": "#Reading CSV File, Building_01, which is actually building_0000 \ndf = pd.read_csv('building_117_roof_01_door01_modified.csv').drop(\"R\",axis=1).drop(\"G\",axis=1).drop(\"B\",axis=1).drop(\"Point_Source_ID\",axis=1) \n#df = pd.read_csv('building_117_roof_01_door01_modified.csv').drop(\"R\",axis=1).drop(\"G\",axis=1).drop(\"B\",axis=1).drop(\"Point_Source_ID\",axis=1) \n#df1 = df.dropna() \n#df2 = df1.values\ndf.info()\nprint(df.shape)\n#print(df2[:, 14])\nfrom sklearn.utils import resample \ndf_majority = df[df.Type == 'roof']\ndf_minority = df[df.Type == 'door'] \n\n#print(df_majority)\n#downsampling majority class \n\ndf_majority_downsampled = resample(df_majority, replace = False, n_samples = 12000, random_state=123)\n#df_minority_downsampled = resample(df_minority, replace = False, n_samples = 10000, random_state=123)\ndf_minority_upsampled = resample(df_minority, replace = True, n_samples = 12000, random_state=123)\n#df_upsampled = pd.concat([df_majority, df_minority_upsampled])\ndf_downsampled = pd.concat([df_majority_downsampled, df_minority_upsampled])\n\n#display class counts \ndf_downsampled.Type.value_counts()\n",
   "metadata": {
    "tags": [],
    "cell_id": "00002-770b8f4c-e364-40e6-a613-595a998188b0",
    "deepnote_to_be_reexecuted": false,
    "source_hash": "5d306bb4",
    "execution_start": 1622797898866,
    "execution_millis": 65,
    "deepnote_cell_type": "code"
   },
   "outputs": [
    {
     "name": "stdout",
     "text": "<class 'pandas.core.frame.DataFrame'>\nRangeIndex: 17877 entries, 0 to 17876\nData columns (total 12 columns):\n #   Column             Non-Null Count  Dtype  \n---  ------             --------------  -----  \n 0   X                  17877 non-null  float64\n 1   Y                  17877 non-null  float64\n 2   Z                  17877 non-null  float64\n 3   Scan_Angle_Rank    17877 non-null  int64  \n 4   Flightline_Edge    17877 non-null  int64  \n 5   Scan_Direction     17877 non-null  int64  \n 6   Number_of_Returns  17877 non-null  int64  \n 7   Return_Number      17877 non-null  int64  \n 8   Time               17877 non-null  float64\n 9   Intensity          17877 non-null  int64  \n 10  Classification     17877 non-null  int64  \n 11  Type               17877 non-null  object \ndtypes: float64(4), int64(7), object(1)\nmemory usage: 1.6+ MB\n(17877, 12)\n",
     "output_type": "stream"
    },
    {
     "output_type": "execute_result",
     "execution_count": 2,
     "data": {
      "text/plain": "door    12000\nroof    12000\nName: Type, dtype: int64"
     },
     "metadata": {}
    }
   ],
   "execution_count": null
  },
  {
   "cell_type": "code",
   "metadata": {
    "tags": [],
    "cell_id": "00001-947b6a17-9ade-419d-936f-432e230e6160",
    "deepnote_to_be_reexecuted": false,
    "source_hash": "f51a7564",
    "execution_start": 1622797898932,
    "execution_millis": 8,
    "deepnote_cell_type": "code"
   },
   "source": "'''\n#Reading CSV File, Building_01, which is actually building_0000 \n#df =  pd.read_csv('building_117_roof_01_door01_modified.csv').drop(\"R\",axis=1).drop(\"G\",axis=1).drop(\"B\",axis=1).drop(\"Point_Source_ID\",axis=1)#, header=0, names = ['X','Y','Z','Point_Source_ID','Scan_Angle_Rank','Flightline_Edge','Scan_Direction','Number_of_Returns','Return_Number','Time','Intensity','Classification','Type'])\ndf = pd.read_csv('117_variedroof_Door.csv', sep = '\\t').drop(\"R\",axis=1).drop(\"G\",axis=1).drop(\"B\",axis=1).drop(\"Point_Source_ID\",axis=1)#, header=0, names = ['X','Y','Z','Scan_Angle_Rank','Flightline_Edge','Scan_Direction','Number_of_Returns','Return_Number','Time','Intensity','Classification','Type'])\n#df1 = df.dropna() \n#df2 = df1.values\n\n#print(df2[:, 15])\nfrom sklearn.utils import resample \ndf_majority = df[df.Type == 'roof']\ndf_minority = df[df.Type == 'door'] \n\n#print(df_majority)\n#upsampling majority class \n\ndf_minority_upsampled = resample(df_minority, replace = True, n_samples = 17800, random_state=123)\ndf_upsampled = pd.concat([df_majority, df_minority_upsampled])\n\n#display class counts \ndf_upsampled.Type.value_counts()\n'''\n",
   "outputs": [
    {
     "output_type": "execute_result",
     "execution_count": 3,
     "data": {
      "text/plain": "'\\n#Reading CSV File, Building_01, which is actually building_0000 \\n#df =  pd.read_csv(\\'building_117_roof_01_door01_modified.csv\\').drop(\"R\",axis=1).drop(\"G\",axis=1).drop(\"B\",axis=1).drop(\"Point_Source_ID\",axis=1)#, header=0, names = [\\'X\\',\\'Y\\',\\'Z\\',\\'Point_Source_ID\\',\\'Scan_Angle_Rank\\',\\'Flightline_Edge\\',\\'Scan_Direction\\',\\'Number_of_Returns\\',\\'Return_Number\\',\\'Time\\',\\'Intensity\\',\\'Classification\\',\\'Type\\'])\\ndf = pd.read_csv(\\'117_variedroof_Door.csv\\', sep = \\'\\t\\').drop(\"R\",axis=1).drop(\"G\",axis=1).drop(\"B\",axis=1).drop(\"Point_Source_ID\",axis=1)#, header=0, names = [\\'X\\',\\'Y\\',\\'Z\\',\\'Scan_Angle_Rank\\',\\'Flightline_Edge\\',\\'Scan_Direction\\',\\'Number_of_Returns\\',\\'Return_Number\\',\\'Time\\',\\'Intensity\\',\\'Classification\\',\\'Type\\'])\\n#df1 = df.dropna() \\n#df2 = df1.values\\n\\n#print(df2[:, 15])\\nfrom sklearn.utils import resample \\ndf_majority = df[df.Type == \\'roof\\']\\ndf_minority = df[df.Type == \\'door\\'] \\n\\n#print(df_majority)\\n#upsampling majority class \\n\\ndf_minority_upsampled = resample(df_minority, replace = True, n_samples = 17800, random_state=123)\\ndf_upsampled = pd.concat([df_majority, df_minority_upsampled])\\n\\n#display class counts \\ndf_upsampled.Type.value_counts()\\n'"
     },
     "metadata": {}
    }
   ],
   "execution_count": null
  },
  {
   "cell_type": "code",
   "metadata": {
    "tags": [],
    "cell_id": "00003-63c36e64-a6fd-41ca-baa7-a168d1de2d45",
    "deepnote_to_be_reexecuted": false,
    "source_hash": "900a1648",
    "execution_start": 1622797898982,
    "execution_millis": 0,
    "deepnote_cell_type": "code"
   },
   "source": "#Reading CSV File #1 \ndf_a = pd.read_csv('building_117_roof_01_door01_modified.csv',sep = ',').drop(\"R\",axis=1).drop(\"G\",axis=1).drop(\"B\",axis=1).drop(\"Point_Source_ID\",axis=1)\ndf_a1 = df_a.dropna() \ndf_a2 = df_a1.values",
   "outputs": [],
   "execution_count": null
  },
  {
   "cell_type": "markdown",
   "source": "Sanity Check",
   "metadata": {
    "tags": [],
    "cell_id": "00004-350590b5-1dbd-4b04-b34f-0547641003cd",
    "deepnote_cell_type": "markdown"
   }
  },
  {
   "cell_type": "code",
   "metadata": {
    "tags": [],
    "cell_id": "00004-0cdc9bf2-963c-44b9-b5af-b5f6147070fa",
    "deepnote_to_be_reexecuted": false,
    "source_hash": "edd31c6e",
    "execution_start": 1622797898986,
    "execution_millis": 57,
    "deepnote_cell_type": "code"
   },
   "source": "#Checking to see if everything is working \n#df.info()\n#df.head(3)\n#classifier_count = df['Classification'].value_counts().to_frame()\n#classifier_count.head(2)\n\ndf_a.info()\n#df_a.head(3)",
   "outputs": [
    {
     "name": "stdout",
     "text": "<class 'pandas.core.frame.DataFrame'>\nRangeIndex: 17877 entries, 0 to 17876\nData columns (total 12 columns):\n #   Column             Non-Null Count  Dtype  \n---  ------             --------------  -----  \n 0   X                  17877 non-null  float64\n 1   Y                  17877 non-null  float64\n 2   Z                  17877 non-null  float64\n 3   Scan_Angle_Rank    17877 non-null  int64  \n 4   Flightline_Edge    17877 non-null  int64  \n 5   Scan_Direction     17877 non-null  int64  \n 6   Number_of_Returns  17877 non-null  int64  \n 7   Return_Number      17877 non-null  int64  \n 8   Time               17877 non-null  float64\n 9   Intensity          17877 non-null  int64  \n 10  Classification     17877 non-null  int64  \n 11  Type               17877 non-null  object \ndtypes: float64(4), int64(7), object(1)\nmemory usage: 1.6+ MB\n",
     "output_type": "stream"
    }
   ],
   "execution_count": null
  },
  {
   "cell_type": "code",
   "metadata": {
    "tags": [],
    "cell_id": "00006-592f6ad7-6f20-4d02-8e3f-2c80f3ec925e",
    "deepnote_to_be_reexecuted": false,
    "source_hash": "205f48a",
    "execution_start": 1622797899039,
    "execution_millis": 4,
    "deepnote_cell_type": "code"
   },
   "source": "#without upsampling\n#I will use all the attributes (building_000000 CSV)\n#x = df2[:, :14] \n#y = df2[:, 14]\n\n#with resampling\nx = df_downsampled.drop('Type', axis = 1)\n#print(x)\ny = df_downsampled.Type\n#print(y)\nprint(x.shape,y.shape)",
   "outputs": [
    {
     "name": "stdout",
     "text": "(24000, 11) (24000,)\n",
     "output_type": "stream"
    }
   ],
   "execution_count": null
  },
  {
   "cell_type": "code",
   "metadata": {
    "tags": [],
    "cell_id": "00007-763fcf01-e1cf-4c67-bc92-5214dafdc5b6",
    "deepnote_to_be_reexecuted": false,
    "source_hash": "dd53a00b",
    "execution_start": 1622797899039,
    "execution_millis": 135,
    "deepnote_cell_type": "code"
   },
   "source": "#Reading CSV File #2 \ndf_a = pd.read_csv('building_02_roof_doors.csv',sep = ',').drop(\"R\",axis=1).drop(\"G\",axis=1).drop(\"B\",axis=1).drop(\"Point_Source_ID\",axis=1)#,header = 0,names = ['X','Y','Z','Point_Source_ID','Scan_Angle_Rank','Flightline_Edge','Scan_Direction','Number_of_Returns','Return_Number','Time','Intensity','Classification','Type'])\ndf_a1 = df_a.dropna() \ndf_a2 = df_a1.values\nprint(df_a.info())\n#For building 000001\nx1Old = df_a2[:, :11] \ny1 = df_a2[:, 11] \n\nx1 = preprocessing.scale(x1Old)\nprint(x1.std(axis = 0))\n#scaler = preprocessing.StandardScaler().fit(x1Old)\n#x1 = scaler.transform(x1Old)\n#x1 = x1Old\n\nprint(x1.shape)\nprint(x1)",
   "outputs": [
    {
     "name": "stdout",
     "text": "<class 'pandas.core.frame.DataFrame'>\nRangeIndex: 58375 entries, 0 to 58374\nData columns (total 12 columns):\n #   Column             Non-Null Count  Dtype  \n---  ------             --------------  -----  \n 0   X                  58375 non-null  float64\n 1   Y                  58375 non-null  float64\n 2   Z                  58375 non-null  float64\n 3   Scan_Angle_Rank    58375 non-null  int64  \n 4   Flightline_Edge    58375 non-null  int64  \n 5   Scan_Direction     58375 non-null  int64  \n 6   Number_of_Returns  58375 non-null  int64  \n 7   Return_Number      58375 non-null  int64  \n 8   Time               58375 non-null  float64\n 9   Intensity          58375 non-null  int64  \n 10  Classification     58375 non-null  int64  \n 11  Type               58375 non-null  object \ndtypes: float64(4), int64(7), object(1)\nmemory usage: 5.3+ MB\nNone\n[1. 1. 1. 1. 0. 0. 1. 1. 1. 1. 1.]\n(58375, 11)\n[[-2.29988919e+00  2.63257620e-01 -2.03847012e-01 ... -1.07808091e+00\n  -8.41637894e-01  3.28163880e+00]\n [-2.27777570e+00  2.87706151e-01 -2.39301338e-01 ... -1.07808082e+00\n   2.11969757e-03  3.28163880e+00]\n [-2.25080128e+00  3.17993136e-01 -2.30109336e-01 ... -1.07808082e+00\n  -8.29837088e-01  3.28163880e+00]\n ...\n [ 1.73844148e+00  5.29637128e-01 -7.59621694e+00 ...  1.39740724e+00\n  -9.68110790e-03  3.28163880e+00]\n [ 1.49942441e+00  8.51247376e-01 -6.97641090e+00 ...  1.64341388e+00\n  -1.01274957e+00  3.28163880e+00]\n [ 1.49791324e+00  8.63471641e-01 -6.62317383e+00 ...  1.64341388e+00\n  -9.77347157e-01  3.28163880e+00]]\n",
     "output_type": "stream"
    }
   ],
   "execution_count": null
  },
  {
   "cell_type": "markdown",
   "source": "Test Train Split",
   "metadata": {
    "tags": [],
    "cell_id": "00008-11de9de1-1257-41b5-8201-a2d0a4e8b4a9",
    "deepnote_cell_type": "markdown"
   }
  },
  {
   "cell_type": "code",
   "metadata": {
    "tags": [],
    "cell_id": "00008-967770bc-5d28-450f-a9ef-bbf9676d5103",
    "deepnote_to_be_reexecuted": false,
    "source_hash": "9181c2d4",
    "execution_start": 1622797899169,
    "execution_millis": 22,
    "deepnote_cell_type": "code"
   },
   "source": "#Train/Test Split\n#print(x)\nx_scaled = preprocessing.scale(x)\n#x_scaled=x\n#print(x_scaled)\n#with scaling \nx_train, x_test, y_train, y_test = train_test_split(x_scaled, y, test_size = 0.3, train_size = 0.7)\nprint(x_train)\n\n#without scaling \n#x_train, x_test, y_train, y_test = train_test_split(x, y, test_size = 0.999, train_size = 0.001)\n\n#Making sure that \ny_train=y_train.astype('str')\ny_test = y_test.astype('str')\nprint(x_train.shape, x_test.shape)\n#print(y_train)\n#print(x_train)",
   "outputs": [
    {
     "name": "stdout",
     "text": "[[ 0.25555923 -0.7947138  -1.13605792 ... -0.66332657 -0.45876217\n  -0.811968  ]\n [-0.1812518  -1.0707301  -0.85948954 ... -0.66333482 -0.47508414\n   1.23157563]\n [ 1.20611598  1.85651409  0.92190287 ... -0.74892056 -0.08879743\n  -0.811968  ]\n ...\n [-0.89909699  0.00280484  0.87891727 ... -0.8338843   0.86875835\n  -0.811968  ]\n [-0.01091457 -0.87080843 -1.13913993 ... -0.74901423 -0.45876217\n  -0.811968  ]\n [-0.28228421 -0.95324724 -0.7707605  ... -0.74901423 -0.50772809\n   1.23157563]]\n(16800, 11) (7200, 11)\n",
     "output_type": "stream"
    }
   ],
   "execution_count": null
  },
  {
   "cell_type": "code",
   "metadata": {
    "tags": [],
    "cell_id": "00010-a5ad2eaa-abbd-47ce-9765-eaa5b2aa7520",
    "deepnote_to_be_reexecuted": false,
    "source_hash": "1256d81b",
    "execution_start": 1622797899245,
    "execution_millis": 165,
    "deepnote_cell_type": "code"
   },
   "source": "#Logistic Regression \nlogreg = LogisticRegression(C=1).fit(x_train,y_train)\nyhat_train = logreg.predict(x_train)\nprint(np.unique(yhat_train))\naccuracy_train = accuracy_score(y_train, yhat_train)\nprint(\"Accuracy for Train Data:\",accuracy_train)\n\nyhat_test = logreg.predict(x_test)\naccuracy_test = accuracy_score(y_test, yhat_test)\nprint(\"Accuracy for Test Data:\",accuracy_test)",
   "outputs": [
    {
     "name": "stdout",
     "text": "['door' 'roof']\nAccuracy for Train Data: 1.0\nAccuracy for Test Data: 1.0\n",
     "output_type": "stream"
    }
   ],
   "execution_count": null
  },
  {
   "cell_type": "code",
   "metadata": {
    "tags": [],
    "cell_id": "00011-c949f78b-f258-4809-824c-9cc77fed3cfe",
    "deepnote_to_be_reexecuted": false,
    "source_hash": "bf0e81aa",
    "execution_start": 1622797899417,
    "execution_millis": 253,
    "deepnote_cell_type": "code"
   },
   "source": "yhat_building02 = logreg.predict(x1)\nprint(np.unique(yhat_building02))\naccuracy_b02 = accuracy_score(y1, yhat_building02)\nprint(\"Accuracy for Train Data:\",accuracy_b02)",
   "outputs": [
    {
     "name": "stdout",
     "text": "['door' 'roof']\nAccuracy for Train Data: 0.6157944325481799\n",
     "output_type": "stream"
    }
   ],
   "execution_count": null
  },
  {
   "cell_type": "code",
   "metadata": {
    "tags": [],
    "cell_id": "00012-a33bce70-6c5e-425a-9ffe-fe1cff970127",
    "deepnote_to_be_reexecuted": false,
    "source_hash": "dabcbd69",
    "execution_start": 1622797899667,
    "execution_millis": 133,
    "deepnote_cell_type": "code"
   },
   "source": "#Model Parameters (w/o Regularization)\nw = logreg.coef_ \nintercept = logreg.intercept_\n\nprecision, recall ,fscore,_ = precision_recall_fscore_support(y_train,yhat_train,average='binary',pos_label='roof')\nprint(\"Coefficient:\",w)\nprint(\"Intercept:\",intercept)\nprint(\"Precision:\",precision)\nprint(\"Recall:\",recall)\nprint(\"Fscore:\",fscore)\n",
   "outputs": [
    {
     "name": "stdout",
     "text": "Coefficient: [[ 0.18777993  3.09600901  4.9888423  -0.92903303  0.          0.\n  -0.19594394 -0.66622438  0.03568376  0.28024761 -0.77604164]]\nIntercept: [0.55705502]\nPrecision: 1.0\nRecall: 1.0\nFscore: 1.0\n",
     "output_type": "stream"
    }
   ],
   "execution_count": null
  },
  {
   "cell_type": "code",
   "source": "#Added regularization\ncVals = [0.001, 0.01, 0.1, 1, 10, 100]\nacc_train_ridge = []\nacc_test_ridge = []\nfscore_test_ridge = []\nfor c in cVals:\n    # Creating Logistic Regression model object with 'l2' regularization\n    logreg_l2 = linear_model.LogisticRegression(C = c)\n\n    # Fitting model on training set\n    logreg_l2.fit(x_train,y_train)\n\n    # Finding prediction on training set\n    yhat_train_l2 = logreg_l2.predict(x1)\n\n    # Finding training accuracy\n    acc_train_l2 = accuracy_score(y1, yhat_train_l2)\n    acc_train_ridge.append(acc_train_l2)\n    print(\"Accuracy on train data with ridge (Other building)= %f\" % acc_train_l2)\n    \n    yhat_test_l2 = logreg_l2.predict(x_test)\n    acc_test_l2 = accuracy_score(y_test, yhat_test_l2)\n    print(\"Accuracy on train data with ridge = %f\" % acc_test_l2)\n    acc_test_ridge.append(acc_test_l2)",
   "metadata": {
    "tags": [],
    "cell_id": "00014-dfe9712d-80c0-4591-91f7-2203e4d2317a",
    "deepnote_to_be_reexecuted": false,
    "source_hash": "4078adcd",
    "execution_start": 1622799123377,
    "execution_millis": 2052,
    "deepnote_cell_type": "code"
   },
   "outputs": [
    {
     "name": "stdout",
     "text": "Accuracy on train data with ridge (Other building)= 0.574013\nAccuracy on train data with ridge = 0.999722\nAccuracy on train data with ridge (Other building)= 0.588642\nAccuracy on train data with ridge = 1.000000\nAccuracy on train data with ridge (Other building)= 0.603974\nAccuracy on train data with ridge = 1.000000\nAccuracy on train data with ridge (Other building)= 0.615794\nAccuracy on train data with ridge = 1.000000\nAccuracy on train data with ridge (Other building)= 0.625542\nAccuracy on train data with ridge = 1.000000\nAccuracy on train data with ridge (Other building)= 0.633165\nAccuracy on train data with ridge = 1.000000\n",
     "output_type": "stream"
    }
   ],
   "execution_count": null
  },
  {
   "cell_type": "code",
   "metadata": {
    "tags": [],
    "cell_id": "00013-92da73c6-e417-4b55-b072-b2b759f4721b",
    "deepnote_to_be_reexecuted": false,
    "source_hash": "42f563d8",
    "execution_start": 1622797899819,
    "execution_millis": 1236,
    "deepnote_cell_type": "code"
   },
   "source": "#confusion matrices\nnp.set_printoptions(precision=2)\nclass_names = ['door','roof']\nclassifier = linear_model.LogisticRegression(C=1).fit(x_train,y_train)\n\n# Plot non-normalized confusion matrix\ntitles_options = [(\"Confusion matrix, without normalization\", None),\n                  (\"Without Normalization\", 'true')]\nfor title, normalize in titles_options:\n    disp = plot_confusion_matrix(classifier, x1, y1,\n                                 display_labels=class_names,\n                                 cmap=plt.cm.Blues,\n                                 normalize=normalize)\n    disp.ax_.set_title(title)\n\n    print(title)\n    print(disp.confusion_matrix)\n\nplt.show()",
   "outputs": [
    {
     "name": "stdout",
     "text": "Confusion matrix, without normalization\n[[  739     0]\n [22428 35208]]\nWithout Normalization\n[[1.   0.  ]\n [0.39 0.61]]\n",
     "output_type": "stream"
    },
    {
     "data": {
      "text/plain": "<Figure size 432x288 with 2 Axes>",
      "image/png": "[encoded data removed]"
     },
     "metadata": {
      "needs_background": "light",
      "image/png": {
       "width": 341,
       "height": 278
      }
     },
     "output_type": "display_data"
    },
    {
     "data": {
      "text/plain": "<Figure size 432x288 with 2 Axes>",
      "image/png": "[encoded data removed]"
     },
     "metadata": {
      "needs_background": "light",
      "image/png": {
       "width": 325,
       "height": 278
      }
     },
     "output_type": "display_data"
    }
   ],
   "execution_count": null
  },
  {
   "cell_type": "markdown",
   "source": "<a style='text-decoration:none;line-height:16px;display:flex;color:#5B5B62;padding:10px;justify-content:end;' href='https://deepnote.com?utm_source=created-in-deepnote-cell&projectId=22ec9222-3a33-4967-8b6b-eec8dcc0f029' target=\"_blank\">\n<img alt='Created in deepnote.com' style='display:inline;max-height:16px;margin:0px;margin-right:7.5px;' src='data:image/svg+xml;base64,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' > </img>\nCreated in <span style='font-weight:600;margin-left:4px;'>Deepnote</span></a>",
   "metadata": {
    "tags": [],
    "created_in_deepnote_cell": true,
    "deepnote_cell_type": "markdown"
   }
  }
 ],
 "nbformat": 4,
 "nbformat_minor": 2,
 "metadata": {
  "orig_nbformat": 2,
  "deepnote": {
   "is_reactive": false
  },
  "deepnote_notebook_id": "da36b05b-6360-4c5b-8b44-dbc8876b1969",
  "deepnote_execution_queue": []
 }
}