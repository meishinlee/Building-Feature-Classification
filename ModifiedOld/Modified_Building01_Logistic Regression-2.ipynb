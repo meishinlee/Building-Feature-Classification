{
  "cells": [
    {
      "cell_type": "markdown",
      "source": "Logistic Regression on Building_01 Data from T_315500_234500_NW.bin\n",
      "metadata": {
        "tags": [],
        "cell_id": "00000-6e038c5a-7cf9-4733-b9b8-493a41c8d551",
        "deepnote_cell_type": "markdown"
      }
    },
    {
      "cell_type": "code",
      "metadata": {
        "tags": [],
        "deepnote_to_be_reexecuted": false,
        "source_hash": "8666179d",
        "execution_millis": 2363,
        "cell_id": "00001-9f1321f5-85c3-446f-900a-caf04a1bc6c9",
        "execution_start": 1617653943642,
        "deepnote_cell_type": "code"
      },
      "source": "# Import Important Libraries\nfrom sklearn.linear_model import LogisticRegression # importing Sklearn's logistic regression's module\nfrom sklearn import preprocessing, linear_model # preprossing is what we do with the data before we run the learning algorithm\nfrom sklearn.model_selection import train_test_split \nfrom sklearn.metrics import accuracy_score, precision_recall_fscore_support # \nimport numpy as np\nimport pandas as pd\nfrom sklearn.metrics import plot_confusion_matrix\nimport matplotlib.pyplot as plt\n",
      "outputs": [],
      "execution_count": null
    },
    {
      "cell_type": "code",
      "metadata": {
        "tags": [],
        "deepnote_to_be_reexecuted": false,
        "source_hash": "5bbc7bb4",
        "execution_millis": 59,
        "cell_id": "00002-16e26a10-46a6-458b-a8b2-44a4ecdc4a45",
        "execution_start": 1617654003157,
        "deepnote_cell_type": "code"
      },
      "source": "#Reading CSV File \ndf = pd.read_csv('building_117_roof_01_door01_modified.csv')\ndf1 = df.dropna() \ndf2 = df1.values",
      "outputs": [],
      "execution_count": null
    },
    {
      "cell_type": "code",
      "metadata": {
        "tags": [],
        "deepnote_to_be_reexecuted": false,
        "source_hash": "f4efc425",
        "execution_millis": 32,
        "cell_id": "00003-16bf4b62-e898-4ab1-88ed-da5e2c26d929",
        "execution_start": 1617654005534,
        "deepnote_cell_type": "code"
      },
      "source": "#Checking to see if everything is working \ndf.info()\n#df.head(3)\nclassifier_count = df['Type'].value_counts().to_frame()\nclassifier_count.head(2)",
      "outputs": [
        {
          "name": "stdout",
          "text": "<class 'pandas.core.frame.DataFrame'>\nRangeIndex: 17877 entries, 0 to 17876\nData columns (total 16 columns):\n #   Column             Non-Null Count  Dtype  \n---  ------             --------------  -----  \n 0   //X                17877 non-null  float64\n 1   Y                  17877 non-null  float64\n 2   Z                  17877 non-null  float64\n 3   R                  17877 non-null  int64  \n 4   G                  17877 non-null  int64  \n 5   B                  17877 non-null  int64  \n 6   Point_Source_ID    17877 non-null  int64  \n 7   Scan_Angle_Rank    17877 non-null  int64  \n 8   Flightline_Edge    17877 non-null  int64  \n 9   Scan_Direction     17877 non-null  int64  \n 10  Number_of_Returns  17877 non-null  int64  \n 11  Return_Number      17877 non-null  int64  \n 12  Time               17877 non-null  float64\n 13  Intensity          17877 non-null  int64  \n 14  Classification     17877 non-null  int64  \n 15  Type               17877 non-null  object \ndtypes: float64(4), int64(11), object(1)\nmemory usage: 2.2+ MB\n",
          "output_type": "stream"
        },
        {
          "output_type": "execute_result",
          "execution_count": 7,
          "data": {
            "application/vnd.deepnote.dataframe.v2+json": {
              "row_count": 2,
              "column_count": 1,
              "columns": [
                {
                  "name": "Type",
                  "dtype": "int64",
                  "stats": {
                    "unique_count": 2,
                    "nan_count": 0,
                    "min": 77,
                    "max": 17800,
                    "histogram": [
                      {
                        "bin_start": 77,
                        "bin_end": 1849.3,
                        "count": 1
                      },
                      {
                        "bin_start": 1849.3,
                        "bin_end": 3621.6,
                        "count": 0
                      },
                      {
                        "bin_start": 3621.6,
                        "bin_end": 5393.9,
                        "count": 0
                      },
                      {
                        "bin_start": 5393.9,
                        "bin_end": 7166.2,
                        "count": 0
                      },
                      {
                        "bin_start": 7166.2,
                        "bin_end": 8938.5,
                        "count": 0
                      },
                      {
                        "bin_start": 8938.5,
                        "bin_end": 10710.8,
                        "count": 0
                      },
                      {
                        "bin_start": 10710.8,
                        "bin_end": 12483.1,
                        "count": 0
                      },
                      {
                        "bin_start": 12483.1,
                        "bin_end": 14255.4,
                        "count": 0
                      },
                      {
                        "bin_start": 14255.4,
                        "bin_end": 16027.699999999999,
                        "count": 0
                      },
                      {
                        "bin_start": 16027.699999999999,
                        "bin_end": 17800,
                        "count": 1
                      }
                    ]
                  }
                },
                {
                  "name": "_deepnote_index_column",
                  "dtype": "object"
                }
              ],
              "rows_top": [
                {
                  "Type": 17800,
                  "_deepnote_index_column": "roof"
                },
                {
                  "Type": 77,
                  "_deepnote_index_column": "door"
                }
              ],
              "rows_bottom": null
            },
            "text/plain": "       Type\nroof  17800\ndoor     77",
            "text/html": "<div>\n<style scoped>\n    .dataframe tbody tr th:only-of-type {\n        vertical-align: middle;\n    }\n\n    .dataframe tbody tr th {\n        vertical-align: top;\n    }\n\n    .dataframe thead th {\n        text-align: right;\n    }\n</style>\n<table border=\"1\" class=\"dataframe\">\n  <thead>\n    <tr style=\"text-align: right;\">\n      <th></th>\n      <th>Type</th>\n    </tr>\n  </thead>\n  <tbody>\n    <tr>\n      <th>roof</th>\n      <td>17800</td>\n    </tr>\n    <tr>\n      <th>door</th>\n      <td>77</td>\n    </tr>\n  </tbody>\n</table>\n</div>"
          },
          "metadata": {}
        }
      ],
      "execution_count": null
    },
    {
      "cell_type": "code",
      "metadata": {
        "tags": [],
        "deepnote_to_be_reexecuted": false,
        "source_hash": "392f1854",
        "execution_millis": 105,
        "cell_id": "00004-5d75f770-8e80-4cef-9aaf-3df63f61272d",
        "execution_start": 1617654074607,
        "deepnote_cell_type": "code"
      },
      "source": "#I will use all the attributes\nx = df2[:, :15] \ny = df2[:, 15]\n\nprint(x.shape,y.shape)",
      "outputs": [
        {
          "name": "stdout",
          "text": "(17877, 15) (17877,)\n",
          "output_type": "stream"
        }
      ],
      "execution_count": null
    },
    {
      "cell_type": "code",
      "metadata": {
        "tags": [],
        "deepnote_to_be_reexecuted": false,
        "source_hash": "b8c73e51",
        "execution_millis": 669,
        "execution_start": 1614237558114,
        "cell_id": "00005-b463e134-318f-41a5-8dfe-5c971a1f899e",
        "deepnote_cell_type": "code"
      },
      "source": "#Train/Test Split\nx_scaled = preprocessing.scale(x)\nx_train, x_test, y_train, y_test = train_test_split(x_scaled, y, test_size = 0.25, train_size = 0.75)\nprint(x_train.shape, x_test.shape)",
      "execution_count": null,
      "outputs": [
        {
          "name": "stdout",
          "text": "(786431, 14) (262144, 14)\n",
          "output_type": "stream"
        }
      ]
    },
    {
      "cell_type": "code",
      "metadata": {
        "tags": [],
        "deepnote_to_be_reexecuted": true,
        "source_hash": "21a67676",
        "execution_millis": 7582,
        "cell_id": "00006-da82db85-9bda-48a0-ab5b-da05c21ab4d8",
        "deepnote_cell_type": "code"
      },
      "source": "#Logistic Regression \nlogreg = linear_model.LogisticRegression(C=10**8) #using a large c value = no regularization\nlogreg.fit(x_train, y_train)\nyhat_train = logreg.predict(x_train)\n#print(yhat_train)\n\n#finding accuracy of applying model on training data\naccuracy_train = accuracy_score(y_train, yhat_train)\nprint(\"Accuracy on train set:\",accuracy_train)\n\n#finding accuracy of applying model on test data \nyhat_test = logreg.predict(x_test)\n#print(yhat_test)\naccuracy_test = accuracy_score(y_test, yhat_test)\nprint(\"Accuracy on test set:\",accuracy_test)",
      "execution_count": null,
      "outputs": [
        {
          "name": "stdout",
          "text": "Accuracy on train set: 0.8360860647660125\nAccuracy on test set: 0.8361625671386719\n",
          "output_type": "stream"
        }
      ]
    },
    {
      "cell_type": "code",
      "metadata": {
        "tags": [],
        "deepnote_to_be_reexecuted": true,
        "source_hash": "e82fa8f2",
        "execution_millis": 432,
        "cell_id": "00007-ab76e3df-b67a-4a36-a1dd-ca300e8bd782",
        "deepnote_cell_type": "code"
      },
      "source": "#Model Parameters (w/o Regularization)\nw = logreg.coef_ \nintercept = logreg.intercept_\n\nprecision, recall ,fscore,_ = precision_recall_fscore_support(y_train,yhat_train,average='binary',pos_label=2)\nprint(\"Coefficient:\",w)\nprint(\"Intercept:\",intercept)\nprint(\"Precision:\",precision)\nprint(\"Recall:\",recall)\nprint(\"Fscore:\",fscore)\n",
      "execution_count": null,
      "outputs": [
        {
          "name": "stdout",
          "text": "Coefficient: [[ 1.30546860e-01 -1.10264753e-02 -4.15273424e-01  0.00000000e+00\n   0.00000000e+00  0.00000000e+00  5.17799601e+01  1.37054477e+00\n  -1.93999093e-02  0.00000000e+00  6.82812338e+02 -4.65787686e+02\n  -5.23191320e+01 -3.77983224e-01]]\nIntercept: [125.21105043]\nPrecision: 0.8337515059898616\nRecall: 0.9801380581995648\nFscore: 0.9010378561464898\n",
          "output_type": "stream"
        }
      ]
    },
    {
      "cell_type": "code",
      "metadata": {
        "tags": [],
        "deepnote_to_be_reexecuted": false,
        "source_hash": "4ce7a9d9",
        "execution_millis": 8129,
        "execution_start": 1614238719143,
        "cell_id": "00008-e17596e0-5889-4eff-a23e-21b44f47e3db",
        "deepnote_cell_type": "code"
      },
      "source": "#confusion matrices\nnp.set_printoptions(precision=2)\nclass_names = ['2','4']\nclassifier = linear_model.LogisticRegression(C=10**8).fit(x_train,y_train)\n\n# Plot non-normalized confusion matrix\ntitles_options = [(\"Confusion matrix, without normalization\", None),\n                  (\"Normalized confusion matrix\", 'true')]\nfor title, normalize in titles_options:\n    disp = plot_confusion_matrix(classifier, x_test, y_test,\n                                 display_labels=class_names,\n                                 cmap=plt.cm.Blues,\n                                 normalize=normalize)\n    disp.ax_.set_title(title)\n\n    print(title)\n    print(disp.confusion_matrix)\n\nplt.show()",
      "execution_count": null,
      "outputs": [
        {
          "name": "stdout",
          "text": "Confusion matrix, without normalization\n[[196026   3913]\n [ 38773  23432]]\nNormalized confusion matrix\n[[0.98 0.02]\n [0.62 0.38]]\n",
          "output_type": "stream"
        },
        {
          "data": {
            "text/plain": "<Figure size 432x288 with 2 Axes>",
            "image/png": "[encoded data removed]"
          },
          "metadata": {
            "needs_background": "light"
          },
          "output_type": "display_data"
        },
        {
          "data": {
            "text/plain": "<Figure size 432x288 with 2 Axes>",
            "image/png": "[encoded data removed]"
          },
          "metadata": {
            "needs_background": "light"
          },
          "output_type": "display_data"
        }
      ]
    },
    {
      "cell_type": "markdown",
      "source": "<a style='text-decoration:none;line-height:16px;display:flex;color:#5B5B62;padding:10px;justify-content:end;' href='https://deepnote.com?utm_source=created-in-deepnote-cell&projectId=22ec9222-3a33-4967-8b6b-eec8dcc0f029' target=\"_blank\">\n<img alt='Created in deepnote.com' style='display:inline;max-height:16px;margin:0px;margin-right:7.5px;' src='data:image/svg+xml;base64,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' > </img>\nCreated in <span style='font-weight:600;margin-left:4px;'>Deepnote</span></a>",
      "metadata": {
        "tags": [],
        "created_in_deepnote_cell": true,
        "deepnote_cell_type": "markdown"
      }
    }
  ],
  "nbformat": 4,
  "nbformat_minor": 2,
  "metadata": {
    "orig_nbformat": 2,
    "deepnote_notebook_id": "69e2d5b3-68bf-406c-a752-ce8c2ace07d8",
    "deepnote_execution_queue": [],
    "deepnote": {}
  }
}