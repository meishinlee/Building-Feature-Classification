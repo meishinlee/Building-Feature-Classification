{
 "cells": [
  {
   "cell_type": "code",
   "metadata": {
    "tags": [],
    "cell_id": "00000-36570117-71b1-4695-afed-7af516fa558a",
    "deepnote_to_be_reexecuted": false,
    "source_hash": "17a4e8ff",
    "execution_start": 1623977235691,
    "execution_millis": 2962,
    "deepnote_cell_type": "code"
   },
   "source": "# Import Important Libraries\nfrom sklearn.linear_model import LogisticRegression # importing Sklearn's logistic regression's module\nfrom sklearn import preprocessing, linear_model # preprossing is what we do with the data before we run the learning algorithm\nfrom sklearn.model_selection import train_test_split \nfrom sklearn.metrics import accuracy_score, precision_recall_fscore_support # \nimport numpy as np\nimport pandas as pd\nfrom sklearn.metrics import plot_confusion_matrix\nimport matplotlib.pyplot as plt\nfrom sklearn import svm\n\n",
   "execution_count": null,
   "outputs": []
  },
  {
   "cell_type": "code",
   "metadata": {
    "tags": [],
    "cell_id": "00001-6ab7607b-7f74-47f8-982b-c4c11b8d0307",
    "deepnote_to_be_reexecuted": false,
    "source_hash": "fb6b4c37",
    "execution_start": 1623977238678,
    "execution_millis": 232,
    "deepnote_cell_type": "code"
   },
   "source": "#Reading CSV File, Building_01, which is actually building_0000 \ndf = pd.read_csv('window_door_combine.csv', sep = '\\t').drop(\"R\",axis=1).drop(\"G\",axis=1).drop(\"B\",axis=1).drop(\"Point_Source_ID\",axis=1)#, header=0, names = ['X','Y','Z','Scan_Angle_Rank','Flightline_Edge','Scan_Direction','Number_of_Returns','Return_Number','Time','Intensity','Classification','Type'])\n#df1 = df.dropna() \n#df2 = df1.values\ndf.info()\nprint(df.shape)\n#print(df2[:, 14])\nfrom sklearn.utils import resample \ndf_majority = df[df.Type == 'door']\ndf_minority = df[df.Type == 'window'] \n\n#print(df_majority)\n#downsampling majority class \n\ndf_majority_downsampled = resample(df_majority, replace = False, n_samples = 13000, random_state=123)\n#df_minority_downsampled = resample(df_minority, replace = False, n_samples = 12000, random_state=123)\ndf_minority_upsampled = resample(df_minority, replace = True, n_samples = 13000, random_state=123)\n#df_upsampled = pd.concat([df_majority, df_minority_upsampled])\ndf_downsampled = pd.concat([df_majority_downsampled, df_minority_upsampled])\n\n#display class counts \ndf_downsampled.Type.value_counts()\n",
   "execution_count": null,
   "outputs": [
    {
     "name": "stdout",
     "text": "<class 'pandas.core.frame.DataFrame'>\nRangeIndex: 22788 entries, 0 to 22787\nData columns (total 12 columns):\n #   Column             Non-Null Count  Dtype  \n---  ------             --------------  -----  \n 0   //X                22788 non-null  float64\n 1   Y                  22788 non-null  float64\n 2   Z                  22788 non-null  float64\n 3   Scan_Angle_Rank    22788 non-null  int64  \n 4   Flightline_Edge    22788 non-null  int64  \n 5   Scan_Direction     22788 non-null  int64  \n 6   Number_of_Returns  22788 non-null  int64  \n 7   Return_Number      22788 non-null  int64  \n 8   Time               22788 non-null  float64\n 9   Intensity          22788 non-null  int64  \n 10  Classification     22788 non-null  int64  \n 11  Type               22788 non-null  object \ndtypes: float64(4), int64(7), object(1)\nmemory usage: 2.1+ MB\n(22788, 12)\n",
     "output_type": "stream"
    },
    {
     "output_type": "execute_result",
     "execution_count": 2,
     "data": {
      "text/plain": "door      13000\nwindow    13000\nName: Type, dtype: int64"
     },
     "metadata": {}
    }
   ]
  },
  {
   "cell_type": "code",
   "metadata": {
    "tags": [],
    "cell_id": "00002-81b28c61-70e2-46fa-b68b-1f4ff7c1dcc0",
    "deepnote_to_be_reexecuted": false,
    "source_hash": "d05bf67b",
    "execution_start": 1623977238921,
    "execution_millis": 90,
    "deepnote_cell_type": "code"
   },
   "source": "#with downsampling, and normalization\nxOld = df_downsampled.drop('Type', axis = 1)\n#print(x)\ny = df_downsampled.Type\n#print(y)\n#print(x.shape,y.shape)\n#print(y.shape)\n\nscaler = preprocessing.StandardScaler().fit(xOld)\nscaler.mean_\nscaler.scale_\nx = scaler.transform(xOld)\n#x= xOld\nx.mean(axis = 0)\nx.std(axis=0)\n\n#print(x.shape)",
   "execution_count": null,
   "outputs": [
    {
     "output_type": "execute_result",
     "execution_count": 3,
     "data": {
      "text/plain": "array([1., 1., 1., 1., 1., 0., 1., 1., 1., 1., 1.])"
     },
     "metadata": {}
    }
   ]
  },
  {
   "cell_type": "code",
   "metadata": {
    "tags": [],
    "cell_id": "00003-10a4a278-dbb1-44b8-8270-1dba6058a325",
    "deepnote_to_be_reexecuted": false,
    "source_hash": "78872df2",
    "execution_start": 1623977239018,
    "execution_millis": 61,
    "deepnote_cell_type": "code"
   },
   "source": "#Train/Test Split\nx_scaled = preprocessing.scale(x)\n#x_scaled = x\nx_train, x_test, y_train, y_test = train_test_split(x_scaled, y, test_size = 0.25, train_size = 0.75)\n\nprint(x_train)\n#Making sure that \ny_train=y_train.astype('str')\ny_test = y_test.astype('str')\nprint(x_train.shape, x_test.shape)\n#print(y_train)",
   "execution_count": null,
   "outputs": [
    {
     "name": "stdout",
     "text": "[[-0.7573675  -0.92588149 -1.01171784 ...  1.77808501  0.27879634\n   0.78986301]\n [-1.09993499  0.46118816 -0.34488562 ...  1.51965135 -0.60142579\n   0.78986301]\n [-0.9335727  -1.17473581 -0.88034923 ...  1.7787301  -0.46348053\n   0.78986301]\n ...\n [-0.97794135  0.47458505 -0.67924409 ... -0.80017375 -0.27626911\n  -1.26604232]\n [-0.66275669 -0.80182143 -1.05563307 ...  1.777772   -0.07592004\n  -1.26604232]\n [-1.01304135 -1.27847225 -1.0867318  ...  1.20852887 -0.28283793\n   0.78986301]]\n(19500, 11) (6500, 11)\n",
     "output_type": "stream"
    }
   ]
  },
  {
   "cell_type": "code",
   "metadata": {
    "tags": [],
    "cell_id": "00004-5cb52a10-3911-43e2-bada-65be72b26c4d",
    "deepnote_to_be_reexecuted": false,
    "source_hash": "f1c5af53",
    "execution_start": 1623977239088,
    "execution_millis": 117,
    "deepnote_cell_type": "code"
   },
   "source": "#Reading CSV File #2, Building_0000001 txt \ndf_a =  pd.read_csv('building07_test.csv',sep = '\\t').drop(\"R\",axis=1).drop(\"G\",axis=1).drop(\"B\",axis=1).drop(\"Point_Source_ID\",axis=1)#,header = 0,names = ['X','Y','Z','Scan_Angle_Rank','Flightline_Edge','Scan_Direction','Number_of_Returns','Return_Number','Time','Intensity','Classification','Type'])\ndf_a1 = df_a.dropna() \ndf_a2 = df_a1.values\n#print(df_a)\n#df_a.info()\nprint(df_a.Type.value_counts())\n#print(df_a['Z'])\n'''\n#Reading CSV File #2, Building_0000001 txt \ndf_b = pd.read_csv('Buildings_000002.txt',sep = ' ')\ndf_b1 = df_b.dropna() \ndf_b2 = df_b1.values\n'''",
   "execution_count": null,
   "outputs": [
    {
     "name": "stdout",
     "text": "window    3262\ndoor      2369\nName: Type, dtype: int64\n",
     "output_type": "stream"
    },
    {
     "output_type": "execute_result",
     "execution_count": 5,
     "data": {
      "text/plain": "\"\\n#Reading CSV File #2, Building_0000001 txt \\ndf_b = pd.read_csv('Buildings_000002.txt',sep = ' ')\\ndf_b1 = df_b.dropna() \\ndf_b2 = df_b1.values\\n\""
     },
     "metadata": {}
    }
   ]
  },
  {
   "cell_type": "code",
   "metadata": {
    "tags": [],
    "cell_id": "00005-265699b3-789c-4370-92a2-bece7ffc5ea0",
    "deepnote_to_be_reexecuted": false,
    "source_hash": "12a8144a",
    "execution_start": 1623977239219,
    "execution_millis": 31,
    "deepnote_cell_type": "code"
   },
   "source": "#Normalizing two other data sets\n#For building 000001\nx1Old = df_a2[:, :11] \ny1 = df_a2[:, 11] \n\nscaler = preprocessing.StandardScaler().fit(x1Old)\nx1 = scaler.transform(x1Old)\n#x1 = x1Old\n\nprint(x1)\n'''\n#For building 000002\nx2Old = df_b2[:, :14] \ny2 = df_b2[:, 14] \n\nscaler = preprocessing.StandardScaler().fit(x2Old)\nx2 = scaler.transform(x2Old)\n'''",
   "execution_count": null,
   "outputs": [
    {
     "name": "stdout",
     "text": "[[-2.20935278 -2.23787839 -0.7592245  ... -0.29879784 -1.25716361\n   0.77558741]\n [-1.94979037 -1.98800691 -1.11926128 ...  1.18021865 -0.95908129\n   0.77558741]\n [-2.16078098 -2.09860296 -1.12639281 ...  1.1802724  -0.873096\n   0.77558741]\n ...\n [-2.55399075 -0.9109891  -0.1338974  ...  0.91987793 -1.23996655\n   0.77558741]\n [-2.53079377 -0.90463657 -0.13247111 ...  0.91987043 -0.88456071\n   0.77558741]\n [-2.48246174 -0.89177656  0.11387    ...  0.91985509 -0.79284307\n   0.77558741]]\n",
     "output_type": "stream"
    },
    {
     "output_type": "execute_result",
     "execution_count": 6,
     "data": {
      "text/plain": "'\\n#For building 000002\\nx2Old = df_b2[:, :14] \\ny2 = df_b2[:, 14] \\n\\nscaler = preprocessing.StandardScaler().fit(x2Old)\\nx2 = scaler.transform(x2Old)\\n'"
     },
     "metadata": {}
    }
   ]
  },
  {
   "cell_type": "code",
   "metadata": {
    "tags": [],
    "cell_id": "00006-4f3712a0-ec9e-4cf8-8142-93a92881ce9e",
    "deepnote_to_be_reexecuted": false,
    "source_hash": "1256d81b",
    "execution_start": 1623977239317,
    "execution_millis": 716,
    "deepnote_cell_type": "code"
   },
   "source": "#Logistic Regression \nlogreg = LogisticRegression(C=1).fit(x_train,y_train)\nyhat_train = logreg.predict(x_train)\nprint(np.unique(yhat_train))\naccuracy_train = accuracy_score(y_train, yhat_train)\nprint(\"Accuracy for Train Data:\",accuracy_train)\n\nyhat_test = logreg.predict(x_test)\naccuracy_test = accuracy_score(y_test, yhat_test)\nprint(\"Accuracy for Test Data:\",accuracy_test)",
   "execution_count": null,
   "outputs": [
    {
     "name": "stdout",
     "text": "['door' 'window']\nAccuracy for Train Data: 0.9134358974358975\nAccuracy for Test Data: 0.908\n",
     "output_type": "stream"
    }
   ]
  },
  {
   "cell_type": "code",
   "metadata": {
    "tags": [],
    "cell_id": "00007-18d2b38d-edf4-4848-a0d1-4885dde4fd4f",
    "deepnote_to_be_reexecuted": false,
    "source_hash": "bf0e81aa",
    "execution_start": 1623977240090,
    "execution_millis": 42,
    "deepnote_cell_type": "code"
   },
   "source": "yhat_building02 = logreg.predict(x1)\nprint(np.unique(yhat_building02))\naccuracy_b02 = accuracy_score(y1, yhat_building02)\nprint(\"Accuracy for Train Data:\",accuracy_b02)",
   "execution_count": null,
   "outputs": [
    {
     "name": "stdout",
     "text": "['door' 'window']\nAccuracy for Train Data: 0.9728289824187534\n",
     "output_type": "stream"
    }
   ]
  },
  {
   "cell_type": "code",
   "metadata": {
    "tags": [],
    "cell_id": "00008-80a45632-1be7-4ebd-92e3-106831999776",
    "deepnote_to_be_reexecuted": false,
    "source_hash": "1238b00",
    "execution_start": 1623977240166,
    "execution_millis": 500,
    "deepnote_cell_type": "code"
   },
   "source": "#Model Parameters (w/o Regularization)\nw = logreg.coef_ \nintercept = logreg.intercept_\n\nprecision, recall ,fscore,_ = precision_recall_fscore_support(y_train,yhat_train,average='binary',pos_label='door')\nprint(\"Coefficient:\",w)\nprint(\"Intercept:\",intercept)\nprint(\"Precision:\",precision)\nprint(\"Recall:\",recall)\nprint(\"Fscore:\",fscore)\n",
   "execution_count": null,
   "outputs": [
    {
     "name": "stdout",
     "text": "Coefficient: [[ 0.0090237  -0.32430492  3.16693388 -0.27251083 -0.04651617  0.\n  -0.09704747  0.16479289  0.03118088  0.41487471  0.90417058]]\nIntercept: [0.56049146]\nPrecision: 0.8782910147100159\nRecall: 0.9601556898494316\nFscore: 0.9174006654922686\n",
     "output_type": "stream"
    }
   ]
  },
  {
   "cell_type": "code",
   "metadata": {
    "tags": [],
    "cell_id": "00009-5a9a394d-f81a-4263-9f7e-3b5266cb90bc",
    "deepnote_to_be_reexecuted": false,
    "source_hash": "4078adcd",
    "execution_start": 1623977240668,
    "execution_millis": 2624,
    "deepnote_cell_type": "code"
   },
   "source": "#Added regularization\ncVals = [0.001, 0.01, 0.1, 1, 10, 100]\nacc_train_ridge = []\nacc_test_ridge = []\nfscore_test_ridge = []\nfor c in cVals:\n    # Creating Logistic Regression model object with 'l2' regularization\n    logreg_l2 = linear_model.LogisticRegression(C = c)\n\n    # Fitting model on training set\n    logreg_l2.fit(x_train,y_train)\n\n    # Finding prediction on training set\n    yhat_train_l2 = logreg_l2.predict(x1)\n\n    # Finding training accuracy\n    acc_train_l2 = accuracy_score(y1, yhat_train_l2)\n    acc_train_ridge.append(acc_train_l2)\n    print(\"Accuracy on train data with ridge (Other building)= %f\" % acc_train_l2)\n    \n    yhat_test_l2 = logreg_l2.predict(x_test)\n    acc_test_l2 = accuracy_score(y_test, yhat_test_l2)\n    print(\"Accuracy on train data with ridge = %f\" % acc_test_l2)\n    acc_test_ridge.append(acc_test_l2)",
   "execution_count": null,
   "outputs": [
    {
     "name": "stdout",
     "text": "Accuracy on train data with ridge (Other building)= 0.949210\nAccuracy on train data with ridge = 0.905385\nAccuracy on train data with ridge (Other building)= 0.964305\nAccuracy on train data with ridge = 0.907538\nAccuracy on train data with ridge (Other building)= 0.972119\nAccuracy on train data with ridge = 0.908000\nAccuracy on train data with ridge (Other building)= 0.972829\nAccuracy on train data with ridge = 0.908000\nAccuracy on train data with ridge (Other building)= 0.972829\nAccuracy on train data with ridge = 0.908154\nAccuracy on train data with ridge (Other building)= 0.972829\nAccuracy on train data with ridge = 0.908154\n",
     "output_type": "stream"
    }
   ]
  },
  {
   "cell_type": "code",
   "metadata": {
    "tags": [],
    "cell_id": "00010-4c8a3da2-4dfc-449d-be23-7fe9246c7029",
    "deepnote_to_be_reexecuted": false,
    "source_hash": "2a3186aa",
    "execution_start": 1623977243352,
    "execution_millis": 1683,
    "deepnote_cell_type": "code"
   },
   "source": "#confusion matrices\nnp.set_printoptions(precision=2)\nclass_names = ['door','window']\nclassifier = linear_model.LogisticRegression(C=1).fit(x_train,y_train)\n\n# Plot non-normalized confusion matrix\ntitles_options = [(\"Confusion matrix, without normalization\", None),\n                  (\"With Normalization\", 'true')]\nfor title, normalize in titles_options:\n    disp = plot_confusion_matrix(classifier, x1, y1,\n                                 display_labels=class_names,\n                                 cmap=plt.cm.Blues,\n                                 normalize=normalize)\n    disp.ax_.set_title(title)\n\n    print(title)\n    print(disp.confusion_matrix)\n\nplt.show()",
   "execution_count": null,
   "outputs": [
    {
     "name": "stdout",
     "text": "Confusion matrix, without normalization\n[[2364    5]\n [ 148 3114]]\nWith Normalization\n[[1.   0.  ]\n [0.05 0.95]]\n",
     "output_type": "stream"
    },
    {
     "data": {
      "text/plain": "<Figure size 432x288 with 2 Axes>",
      "image/png": "[encoded data removed]"
     },
     "metadata": {
      "needs_background": "light",
      "image/png": {
       "width": 350,
       "height": 278
      }
     },
     "output_type": "display_data"
    },
    {
     "data": {
      "text/plain": "<Figure size 432x288 with 2 Axes>",
      "image/png": "[encoded data removed]"
     },
     "metadata": {
      "needs_background": "light",
      "image/png": {
       "width": 341,
       "height": 278
      }
     },
     "output_type": "display_data"
    }
   ]
  },
  {
   "cell_type": "markdown",
   "source": "<a style='text-decoration:none;line-height:16px;display:flex;color:#5B5B62;padding:10px;justify-content:end;' href='https://deepnote.com?utm_source=created-in-deepnote-cell&projectId=22ec9222-3a33-4967-8b6b-eec8dcc0f029' target=\"_blank\">\n<img alt='Created in deepnote.com' style='display:inline;max-height:16px;margin:0px;margin-right:7.5px;' src='data:image/svg+xml;base64,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' > </img>\nCreated in <span style='font-weight:600;margin-left:4px;'>Deepnote</span></a>",
   "metadata": {
    "tags": [],
    "created_in_deepnote_cell": true,
    "deepnote_cell_type": "markdown"
   }
  }
 ],
 "nbformat": 4,
 "nbformat_minor": 2,
 "metadata": {
  "orig_nbformat": 2,
  "deepnote": {
   "is_reactive": true
  },
  "deepnote_notebook_id": "3317f9a9-6dfc-4c9c-ae5c-4fb9ea95dab5",
  "deepnote_execution_queue": []
 }
}