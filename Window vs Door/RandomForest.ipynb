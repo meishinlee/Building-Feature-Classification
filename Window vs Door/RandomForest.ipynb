{
 "cells": [
  {
   "cell_type": "markdown",
   "source": "Reference: https://github.com/WillKoehrsen/Machine-Learning-Projects/blob/master/Random%20Forest%20Tutorial.ipynb",
   "metadata": {
    "tags": [],
    "cell_id": "00000-326b627a-51c1-4d5b-be0b-0cafccd33841",
    "deepnote_cell_type": "markdown"
   }
  },
  {
   "cell_type": "code",
   "metadata": {
    "tags": [],
    "deepnote_to_be_reexecuted": false,
    "source_hash": "6510e6bc",
    "execution_start": 1623891508615,
    "execution_millis": 1483,
    "cell_id": "00001-b9c4f61d-3e89-4aa2-adae-7b59fda3d8b6",
    "deepnote_cell_type": "code"
   },
   "source": "# Import Important Libraries\nfrom sklearn.linear_model import LogisticRegression # importing Sklearn's logistic regression's module\nfrom sklearn import preprocessing, linear_model # preprossing is what we do with the data before we run the learning algorithm\nfrom sklearn.model_selection import train_test_split \nfrom sklearn.metrics import accuracy_score, precision_recall_fscore_support # \nfrom sklearn.ensemble import RandomForestClassifier\nfrom sklearn.metrics import roc_auc_score\n\nimport seaborn as sns\nimport numpy as np\nimport pandas as pd\nfrom sklearn.metrics import plot_confusion_matrix\nimport matplotlib.pyplot as plt\nfrom sklearn import svm\n\n",
   "outputs": [],
   "execution_count": null
  },
  {
   "cell_type": "markdown",
   "source": "Read CSV window_door_combine.csv",
   "metadata": {
    "tags": [],
    "cell_id": "00002-3576a1eb-bf00-452f-9c8f-8daa5ddcb6ec",
    "deepnote_cell_type": "markdown"
   }
  },
  {
   "cell_type": "code",
   "metadata": {
    "tags": [],
    "deepnote_to_be_reexecuted": false,
    "source_hash": "12727ab0",
    "execution_start": 1623891510104,
    "execution_millis": 69,
    "cell_id": "00003-50622d5e-f4b3-464a-8f08-5de3b8a53320",
    "deepnote_cell_type": "code"
   },
   "source": "#Reading CSV File, Building_01, which is actually building_0000 \ndf = pd.read_csv('window_door_combine.csv', sep = '\\t').drop(\"R\",axis=1).drop(\"G\",axis=1).drop(\"B\",axis=1).drop(\"Point_Source_ID\",axis=1)#, header=0, names = ['X','Y','Z','Scan_Angle_Rank','Flightline_Edge','Scan_Direction','Number_of_Returns','Return_Number','Time','Intensity','Classification','Type'])\n#df1 = df.dropna() \n#df2 = df1.values\ndf.info()\nprint(df.shape)\n#print(df2[:, 14])\nfrom sklearn.utils import resample \ndf_majority = df[df.Type == 'door']\ndf_minority = df[df.Type == 'window'] \n\n#print(df_majority)\n#downsampling majority class \n\ndf_majority_downsampled = resample(df_majority, replace = False, n_samples = 8940, random_state=123)\n#df_minority_downsampled = resample(df_minority, replace = False, n_samples = 8940, random_state=123)\ndf_minority_upsampled = resample(df_minority, replace = True, n_samples = 8940, random_state=123)\n#df_upsampled = pd.concat([df_majority, df_minority_upsampled])\ndf_downsampled = pd.concat([df_majority_downsampled, df_minority_upsampled])\n\n#display class counts \ndf_downsampled.Type.value_counts()\n",
   "outputs": [
    {
     "name": "stdout",
     "text": "<class 'pandas.core.frame.DataFrame'>\nRangeIndex: 22788 entries, 0 to 22787\nData columns (total 12 columns):\n #   Column             Non-Null Count  Dtype  \n---  ------             --------------  -----  \n 0   //X                22788 non-null  float64\n 1   Y                  22788 non-null  float64\n 2   Z                  22788 non-null  float64\n 3   Scan_Angle_Rank    22788 non-null  int64  \n 4   Flightline_Edge    22788 non-null  int64  \n 5   Scan_Direction     22788 non-null  int64  \n 6   Number_of_Returns  22788 non-null  int64  \n 7   Return_Number      22788 non-null  int64  \n 8   Time               22788 non-null  float64\n 9   Intensity          22788 non-null  int64  \n 10  Classification     22788 non-null  int64  \n 11  Type               22788 non-null  object \ndtypes: float64(4), int64(7), object(1)\nmemory usage: 2.1+ MB\n(22788, 12)\n",
     "output_type": "stream"
    },
    {
     "output_type": "execute_result",
     "execution_count": 2,
     "data": {
      "text/plain": "door      8940\nwindow    8940\nName: Type, dtype: int64"
     },
     "metadata": {}
    }
   ],
   "execution_count": null
  },
  {
   "cell_type": "markdown",
   "source": "Apply downsampled column to new dataset ",
   "metadata": {
    "tags": [],
    "cell_id": "00004-3c4d8a8f-4eeb-416b-b806-324b3644c84f",
    "deepnote_cell_type": "markdown"
   }
  },
  {
   "cell_type": "code",
   "metadata": {
    "tags": [],
    "deepnote_to_be_reexecuted": false,
    "source_hash": "a2b8d65",
    "execution_start": 1623891510174,
    "execution_millis": 60,
    "cell_id": "00005-903852c3-79bb-4a53-8149-15331e846a7a",
    "deepnote_cell_type": "code"
   },
   "source": "#with downsampling, and normalization\nxOld = df_downsampled.drop('Type', axis = 1)\n#print(x)\ny = df_downsampled.Type\n#print(y)\n#print(x.shape,y.shape)\n#print(y.shape)\n\nscaler = preprocessing.StandardScaler().fit(xOld)\nscaler.mean_\nscaler.scale_\nx = scaler.transform(xOld)\n\nx.mean(axis = 0)\nx.std(axis=0)\n\n#print(x.shape)",
   "outputs": [
    {
     "output_type": "execute_result",
     "execution_count": 3,
     "data": {
      "text/plain": "array([1., 1., 1., 1., 1., 0., 1., 1., 1., 1., 1.])"
     },
     "metadata": {}
    }
   ],
   "execution_count": null
  },
  {
   "cell_type": "markdown",
   "source": "Train Test Split    ",
   "metadata": {
    "tags": [],
    "cell_id": "00006-10497c96-5b63-4c1d-83cd-235b6d2439e7",
    "deepnote_cell_type": "markdown"
   }
  },
  {
   "cell_type": "code",
   "metadata": {
    "tags": [],
    "deepnote_to_be_reexecuted": false,
    "source_hash": "6399fd69",
    "execution_start": 1623891510220,
    "execution_millis": 114925,
    "cell_id": "00007-43a5ca8c-5eb3-4d39-9bca-91ddedec020e",
    "deepnote_cell_type": "code"
   },
   "source": "#Train/Test Split\nx_scaled = preprocessing.scale(x)\n#x_scaled = x #normalization\nx_train, x_test, y_train, y_test = train_test_split(x_scaled, y, test_size = 0.25, train_size = 0.75)\n\n#print(x_train)\n#Making sure that \ny_train=y_train.astype('str')\ny_test = y_test.astype('str')\nprint(x_train.shape, x_test.shape)\n#print(y_train)",
   "outputs": [
    {
     "name": "stdout",
     "text": "(13410, 11) (4470, 11)\n",
     "output_type": "stream"
    }
   ],
   "execution_count": null
  },
  {
   "cell_type": "markdown",
   "source": "Read CSV #2 - building_07_test.csv",
   "metadata": {
    "tags": [],
    "cell_id": "00008-e2d21789-61c6-4a3a-bdb9-feb5ef2c2f7d",
    "deepnote_cell_type": "markdown"
   }
  },
  {
   "cell_type": "code",
   "metadata": {
    "tags": [],
    "deepnote_to_be_reexecuted": false,
    "source_hash": "f475b29f",
    "execution_start": 1623891510268,
    "execution_millis": 53,
    "cell_id": "00009-2c0dde24-8e22-46ff-a744-6203834665ff",
    "deepnote_cell_type": "code"
   },
   "source": "#Reading CSV File #2, Building_0000001 txt \ndf_a =  pd.read_csv('building07_test.csv',sep = '\\t').drop(\"R\",axis=1).drop(\"G\",axis=1).drop(\"B\",axis=1).drop(\"Point_Source_ID\",axis=1)#,header = 0,names = ['X','Y','Z','Scan_Angle_Rank','Flightline_Edge','Scan_Direction','Number_of_Returns','Return_Number','Time','Intensity','Classification','Type'])\ndf_a1 = df_a.dropna() \ndf_a2 = df_a1.values\n#print(df_a)\ndf_a.info()\n#print(df_a['Z'])\n\n#Normalizing two other data sets\n#For building 000001\nx1Old = df_a2[:, :11] \ny1 = df_a2[:, 11] \n\nscaler = preprocessing.StandardScaler().fit(x1Old)\nx1 = scaler.transform(x1Old)\n#x1 = x1Old #normalization\nprint(x1)\n'''\n#For building 000002\nx2Old = df_b2[:, :14] \ny2 = df_b2[:, 14] \n\nscaler = preprocessing.StandardScaler().fit(x2Old)\nx2 = scaler.transform(x2Old)\n'''\n'''\n#Reading CSV File #2, Building_0000001 txt \ndf_b = pd.read_csv('Buildings_000002.txt',sep = ' ')\ndf_b1 = df_b.dropna() \ndf_b2 = df_b1.values\n'''",
   "outputs": [
    {
     "name": "stdout",
     "text": "<class 'pandas.core.frame.DataFrame'>\nRangeIndex: 5631 entries, 0 to 5630\nData columns (total 12 columns):\n #   Column             Non-Null Count  Dtype  \n---  ------             --------------  -----  \n 0   //X                5631 non-null   float64\n 1   Y                  5631 non-null   float64\n 2   Z                  5631 non-null   float64\n 3   Scan_Angle_Rank    5631 non-null   int64  \n 4   Flightline_Edge    5631 non-null   int64  \n 5   Scan_Direction     5631 non-null   int64  \n 6   Number_of_Returns  5631 non-null   int64  \n 7   Return_Number      5631 non-null   int64  \n 8   Time               5631 non-null   float64\n 9   Intensity          5631 non-null   int64  \n 10  Classification     5631 non-null   int64  \n 11  Type               5631 non-null   object \ndtypes: float64(4), int64(7), object(1)\nmemory usage: 528.0+ KB\n[[-2.20935278 -2.23787839 -0.7592245  ... -0.29879784 -1.25716361\n   0.77558741]\n [-1.94979037 -1.98800691 -1.11926128 ...  1.18021865 -0.95908129\n   0.77558741]\n [-2.16078098 -2.09860296 -1.12639281 ...  1.1802724  -0.873096\n   0.77558741]\n ...\n [-2.55399075 -0.9109891  -0.1338974  ...  0.91987793 -1.23996655\n   0.77558741]\n [-2.53079377 -0.90463657 -0.13247111 ...  0.91987043 -0.88456071\n   0.77558741]\n [-2.48246174 -0.89177656  0.11387    ...  0.91985509 -0.79284307\n   0.77558741]]\n",
     "output_type": "stream"
    },
    {
     "output_type": "execute_result",
     "execution_count": 5,
     "data": {
      "text/plain": "\"\\n#Reading CSV File #2, Building_0000001 txt \\ndf_b = pd.read_csv('Buildings_000002.txt',sep = ' ')\\ndf_b1 = df_b.dropna() \\ndf_b2 = df_b1.values\\n\""
     },
     "metadata": {}
    }
   ],
   "execution_count": null
  },
  {
   "cell_type": "markdown",
   "source": "Grid Search for tuning hyperparmeters",
   "metadata": {
    "tags": [],
    "cell_id": "00010-bc056b4c-af27-4edd-814c-350fbac94918",
    "deepnote_cell_type": "markdown"
   }
  },
  {
   "cell_type": "code",
   "metadata": {
    "tags": [],
    "deepnote_to_be_reexecuted": false,
    "source_hash": "191a77d3",
    "execution_start": 1623891510358,
    "execution_millis": 25282,
    "cell_id": "00011-d09d27bb-9830-4141-89d4-cc5f4412e8ef",
    "deepnote_cell_type": "code"
   },
   "source": "#Random Forest Optimization \nfrom sklearn.model_selection import RandomizedSearchCV\n\n# Hyperparameter grid\nparam_grid = {\n    'n_estimators': np.linspace(10, 200).astype(int),\n    'max_depth': [None] + list(np.linspace(3, 20).astype(int)),\n    'max_features': ['auto', 'sqrt', None] + list(np.arange(0.5, 1, 0.1)),\n    'max_leaf_nodes': [None] + list(np.linspace(10, 50, 500).astype(int)),\n    'min_samples_split': [2, 5, 10],\n    'bootstrap': [True, False]\n}\n\n# Estimator for use in random search\nestimator = RandomForestClassifier()\n\n# Create the random search model\nrs = RandomizedSearchCV(estimator, param_grid, n_jobs = -1, \n                        scoring = 'roc_auc', cv = 3, \n                        n_iter = 10, verbose = 1)\n\n# Fit \nrs.fit(x_train, y_train)",
   "outputs": [
    {
     "name": "stdout",
     "text": "Fitting 3 folds for each of 10 candidates, totalling 30 fits\n",
     "output_type": "stream"
    },
    {
     "output_type": "execute_result",
     "execution_count": 6,
     "data": {
      "text/plain": "RandomizedSearchCV(cv=3, estimator=RandomForestClassifier(), n_jobs=-1,\n                   param_distributions={'bootstrap': [True, False],\n                                        'max_depth': [None, 3, 3, 3, 4, 4, 4, 5,\n                                                      5, 5, 6, 6, 6, 7, 7, 7, 8,\n                                                      8, 8, 9, 9, 9, 10, 10, 10,\n                                                      11, 11, 12, 12, 12, ...],\n                                        'max_features': ['auto', 'sqrt', None,\n                                                         0.5, 0.6, 0.7,\n                                                         0.7999999999999999,\n                                                         0.8999999999999999],\n                                        'max_leaf_nodes': [None, 10, 10, 10, 10,\n                                                           10, 10, 10, 10, 10,\n                                                           10, 10, 10, 10, 11,\n                                                           11, 11, 11, 11, 11,\n                                                           11, 11, 11, 11, 11,\n                                                           11, 12, 12, 12, 12, ...],\n                                        'min_samples_split': [2, 5, 10],\n                                        'n_estimators': array([ 10,  13,  17,  21,  25,  29,  33,  37,  41,  44,  48,  52,  56,\n        60,  64,  68,  72,  75,  79,  83,  87,  91,  95,  99, 103, 106,\n       110, 114, 118, 122, 126, 130, 134, 137, 141, 145, 149, 153, 157,\n       161, 165, 168, 172, 176, 180, 184, 188, 192, 196, 200])},\n                   scoring='roc_auc', verbose=1)"
     },
     "metadata": {}
    }
   ],
   "execution_count": null
  },
  {
   "cell_type": "code",
   "metadata": {
    "tags": [],
    "deepnote_to_be_reexecuted": false,
    "source_hash": "f92f3f43",
    "execution_start": 1623891535639,
    "execution_millis": 5,
    "cell_id": "00012-61a7e76a-334d-4eb0-8495-e3d5ce561236",
    "deepnote_cell_type": "code"
   },
   "source": "rs.best_params_\nbest_model = rs.best_estimator_\nprint(best_model)",
   "outputs": [
    {
     "name": "stdout",
     "text": "RandomForestClassifier(max_depth=11, max_features=0.8999999999999999,\n                       max_leaf_nodes=34, min_samples_split=10,\n                       n_estimators=29)\n",
     "output_type": "stream"
    }
   ],
   "execution_count": null
  },
  {
   "cell_type": "code",
   "metadata": {
    "tags": [],
    "deepnote_to_be_reexecuted": false,
    "source_hash": "b7d66005",
    "execution_start": 1623891535640,
    "execution_millis": 481,
    "is_code_hidden": false,
    "is_output_hidden": false,
    "cell_id": "00013-638b9401-8602-4fa2-8414-904ab29752ca",
    "deepnote_cell_type": "code"
   },
   "source": "best_model_train_rf_predictions = best_model.predict(x_train)\nbest_model_train_rf_probs = best_model.predict_proba(x_train)[:, 1]\n\nbest_model_test_rf_predictions = best_model.predict(x_test)\nbest_model_test_rf_probs = best_model.predict_proba(x_test)[:, 1]\nprint(best_model_test_rf_predictions)\nprint(best_model_test_rf_probs)\n\nbest_model_test_rf_predictions = best_model.predict(x1)\nbest_model_test_rf_probs = best_model.predict_proba(x1)[:, 1]\nprint(best_model_test_rf_predictions)\nprint(best_model_test_rf_probs)\n\nprint(\"Accuracy:\",np.mean(best_model_test_rf_predictions == y1))\n\nbest_model_roc_value = roc_auc_score(y1, best_model_test_rf_probs)\nprint(best_model_roc_value)\n\nimportances = best_model.feature_importances_\nprint(\"Feature Importance:\",importances)\n\nstd = np.std([\n    best_model.feature_importances_ for tree in best_model.estimators_], axis=0)\n\nfeature_names = ['X','Y','Z','Scan_Angle_Rank','Flightline_Edge','Scan_Direction','Number_of_Returns','Return_Number','Time','Intensity','Classification']\nforest_importances = pd.Series(importances, index=feature_names)\n\nfig, ax = plt.subplots()\nforest_importances.plot.bar(yerr=std, ax=ax)\nax.set_title(\"Feature importances\")\nax.set_ylabel(\"Importance\")\nfig.tight_layout()",
   "outputs": [
    {
     "name": "stdout",
     "text": "['door' 'window' 'window' ... 'door' 'door' 'door']\n[4.44104080e-03 9.99651675e-01 9.99788350e-01 ... 3.08928913e-03\n 2.47982871e-04 2.47982871e-04]\n['door' 'door' 'door' ... 'door' 'door' 'window']\n[0.06135483 0.06136479 0.06136479 ... 0.48873207 0.48873207 0.68904838]\nAccuracy: 0.9357130172260699\n0.9740211095752178\nFeature Importance: [1.57568478e-01 6.43253378e-02 7.37643043e-01 1.87486812e-02\n 5.05969842e-05 0.00000000e+00 6.72564394e-04 4.30204504e-03\n 1.53352828e-02 1.35267577e-03 1.29526420e-06]\n",
     "output_type": "stream"
    },
    {
     "data": {
      "text/plain": "<Figure size 432x288 with 1 Axes>",
      "image/png": "[encoded data removed]"
     },
     "metadata": {
      "needs_background": "light",
      "image/png": {
       "width": 424,
       "height": 280
      }
     },
     "output_type": "display_data"
    }
   ],
   "execution_count": null
  },
  {
   "cell_type": "markdown",
   "source": "Manual RF",
   "metadata": {
    "tags": [],
    "cell_id": "00014-99714c9f-8bba-4021-bbf9-6231bae24250",
    "deepnote_cell_type": "markdown"
   }
  },
  {
   "cell_type": "code",
   "metadata": {
    "tags": [],
    "deepnote_to_be_reexecuted": false,
    "source_hash": "7f5ffa84",
    "execution_start": 1623891536119,
    "execution_millis": 75,
    "is_code_hidden": true,
    "is_output_hidden": true,
    "cell_id": "00015-ca752317-6cbf-409b-9c26-23a027d77980",
    "deepnote_cell_type": "code"
   },
   "source": "#Manual RF\nforest = RandomForestClassifier(n_estimators=2)\nforest.fit(x_train, y_train)\n\ntrain_rf_predictions = forest.predict(x_train)\ntrain_rf_probs = forest.predict_proba(x_train)[:, 1]\n\ntest_rf_predictions = forest.predict(x_test)\ntest_rf_probs = forest.predict_proba(x_test)[:, 1]\nprint(test_rf_predictions)\nprint(test_rf_probs)\n\n# Calculate roc auc, area under the curve \nroc_value = roc_auc_score(y_test, test_rf_probs)\nprint(roc_value)",
   "outputs": [
    {
     "name": "stdout",
     "text": "['door' 'window' 'window' ... 'door' 'door' 'door']\n[0. 1. 1. ... 0. 0. 0.]\n0.9988268759124993\n",
     "output_type": "stream"
    }
   ],
   "execution_count": null
  },
  {
   "cell_type": "code",
   "metadata": {
    "tags": [],
    "deepnote_to_be_reexecuted": false,
    "source_hash": "342d42c2",
    "execution_start": 1623891536234,
    "execution_millis": 5,
    "is_code_hidden": true,
    "is_output_hidden": true,
    "cell_id": "00016-85c6baf8-68bc-4d93-97cb-21dc367f044c",
    "deepnote_cell_type": "code"
   },
   "source": "'''\n#Manual Checking\nnum_nodes = [] \nmax_depth = []\nfor ind in forest.estimators_: \n    num_nodes.append(ind.tree_.node_count)\n    max_depth.append(ind.tree_.max_depth)\n#print('Total Tree Nodes:',sum(num_nodes))\n#print('Tree Depth:',max(max_depth))\n\n#Best Model \nbest_model_num_nodes = [] \nbest_model_max_depth = []\nfor ind in forest.estimators_: \n    best_model_num_nodes.append(ind.tree_.node_count)\n    best_model_max_depth.append(ind.tree_.max_depth)\nprint('Best Model Total Tree Nodes:',sum(best_model_num_nodes))\nprint('Best Model Tree Depth:',max(best_model_max_depth))\n'''",
   "outputs": [
    {
     "output_type": "execute_result",
     "execution_count": 10,
     "data": {
      "text/plain": "\"\\n#Manual Checking\\nnum_nodes = [] \\nmax_depth = []\\nfor ind in forest.estimators_: \\n    num_nodes.append(ind.tree_.node_count)\\n    max_depth.append(ind.tree_.max_depth)\\n#print('Total Tree Nodes:',sum(num_nodes))\\n#print('Tree Depth:',max(max_depth))\\n\\n#Best Model \\nbest_model_num_nodes = [] \\nbest_model_max_depth = []\\nfor ind in forest.estimators_: \\n    best_model_num_nodes.append(ind.tree_.node_count)\\n    best_model_max_depth.append(ind.tree_.max_depth)\\nprint('Best Model Total Tree Nodes:',sum(best_model_num_nodes))\\nprint('Best Model Tree Depth:',max(best_model_max_depth))\\n\""
     },
     "metadata": {}
    }
   ],
   "execution_count": null
  },
  {
   "cell_type": "markdown",
   "source": "Confusion Matrix for Best Model",
   "metadata": {
    "tags": [],
    "cell_id": "00017-9600652f-b5aa-4ef9-bac9-cd2ec0775db1",
    "deepnote_cell_type": "markdown"
   }
  },
  {
   "cell_type": "code",
   "metadata": {
    "tags": [],
    "deepnote_to_be_reexecuted": false,
    "source_hash": "b42f6fe7",
    "execution_start": 1623891536235,
    "execution_millis": 347,
    "cell_id": "00018-8e36f012-ec78-40f6-b8dd-5d9f0bcec2ee",
    "deepnote_cell_type": "code"
   },
   "source": "#Confusion Matrix - Random Forest (best model)\n\nnp.set_printoptions(precision=2)\nclass_names = ['Door','Window']\nclassifier = best_model \n\n# Plot non-normalized confusion matrix\ntitles_options = [(\"Confusion matrix, without normalization\", None),\n                  (\"With Normalization\", 'true')]\nfor title, normalize in titles_options:\n    disp = plot_confusion_matrix(classifier, x1, y1,\n                                 display_labels=class_names,\n                                 cmap=plt.cm.Blues,\n                                 normalize=normalize)\n    disp.ax_.set_title(title)\n\n    print(title)\n    print(disp.confusion_matrix)\n\nplt.show()\n",
   "outputs": [
    {
     "name": "stdout",
     "text": "Confusion matrix, without normalization\n[[2323   46]\n [ 316 2946]]\nWith Normalization\n[[0.98 0.02]\n [0.1  0.9 ]]\n",
     "output_type": "stream"
    },
    {
     "data": {
      "text/plain": "<Figure size 432x288 with 2 Axes>",
      "image/png": "[encoded data removed]"
     },
     "metadata": {
      "needs_background": "light",
      "image/png": {
       "width": 352,
       "height": 278
      }
     },
     "output_type": "display_data"
    },
    {
     "data": {
      "text/plain": "<Figure size 432x288 with 2 Axes>",
      "image/png": "[encoded data removed]"
     },
     "metadata": {
      "needs_background": "light",
      "image/png": {
       "width": 342,
       "height": 278
      }
     },
     "output_type": "display_data"
    }
   ],
   "execution_count": null
  },
  {
   "cell_type": "markdown",
   "source": "<a style='text-decoration:none;line-height:16px;display:flex;color:#5B5B62;padding:10px;justify-content:end;' href='https://deepnote.com?utm_source=created-in-deepnote-cell&projectId=22ec9222-3a33-4967-8b6b-eec8dcc0f029' target=\"_blank\">\n<img alt='Created in deepnote.com' style='display:inline;max-height:16px;margin:0px;margin-right:7.5px;' src='data:image/svg+xml;base64,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' > </img>\nCreated in <span style='font-weight:600;margin-left:4px;'>Deepnote</span></a>",
   "metadata": {
    "tags": [],
    "created_in_deepnote_cell": true,
    "deepnote_cell_type": "markdown"
   }
  }
 ],
 "nbformat": 4,
 "nbformat_minor": 2,
 "metadata": {
  "orig_nbformat": 2,
  "deepnote": {
   "is_reactive": true
  },
  "deepnote_notebook_id": "57d8608f-ab66-4dc3-bc75-c020de7b3e20",
  "deepnote_execution_queue": []
 }
}